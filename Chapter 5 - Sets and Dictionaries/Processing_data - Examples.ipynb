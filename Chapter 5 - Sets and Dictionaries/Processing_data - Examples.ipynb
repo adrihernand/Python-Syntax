{
 "cells": [
  {
   "cell_type": "markdown",
   "metadata": {},
   "source": [
    " # Chapter 5 - Processing data"
   ]
  },
  {
   "cell_type": "markdown",
   "metadata": {},
   "source": [
    "# 5.1 Processing data - Part 1"
   ]
  },
  {
   "cell_type": "code",
   "execution_count": 1,
   "metadata": {},
   "outputs": [
    {
     "name": "stdout",
     "output_type": "stream",
     "text": [
      "George Washington\n",
      "John Adams\n",
      "Thomas Jefferson\n",
      "['George Washington', 'John Adams', 'Thomas Jefferson']\n"
     ]
    }
   ],
   "source": [
    "#Example 1. First Three presidents\n",
    "\n",
    "\n",
    "def main():\n",
    "    file = \"3_presidents.csv\"\n",
    "    showing_loop(file)\n",
    "    showing_list(file)\n",
    "    \n",
    "    \n",
    "def showing_loop(file):\n",
    "    infile = open(file, \"r\")\n",
    "    for line in infile:\n",
    "        print(line.rstrip())\n",
    "    infile.close()    \n",
    "        \n",
    "    \n",
    "def showing_list(file):\n",
    "    infile = open(file, \"r\")\n",
    "    lista_presidencial = [line.rstrip() for line in infile]\n",
    "    infile.close()  \n",
    "    print(lista_presidencial)\n",
    "    \n",
    "    \n",
    "main()    "
   ]
  },
  {
   "cell_type": "code",
   "execution_count": 2,
   "metadata": {},
   "outputs": [],
   "source": [
    "#Example 2: US presidents. Using the 'writelines' function\n",
    "\n",
    "def main():\n",
    "    outfile = open(\"3_presidents_created_1.txt\", \"w\")\n",
    "    creating_file_method_1(outfile)\n",
    "    \n",
    "    \n",
    "def creating_file_method_1(outfile):\n",
    "    list1 = [\"George Washington\", \"John Adams\", \"Thomas Jefferson\"]\n",
    "    for i in range(len(list1)):\n",
    "        list1[i] = list1[i] + \"\\n\"                #el \\n es para que lo que a creando lo baje de linea\n",
    "        \n",
    "    outfile.writelines(list1)\n",
    "    outfile.close()\n",
    "\n",
    "\n",
    "main()"
   ]
  },
  {
   "cell_type": "code",
   "execution_count": 3,
   "metadata": {},
   "outputs": [],
   "source": [
    "#Example 2A: US presidents. Using the 'write' function\n",
    "\n",
    "def main():\n",
    "    outfile = open(\"3_presidents_created_2.txt\", \"w\")\n",
    "    creating_file_method_2(outfile)\n",
    "    \n",
    "    \n",
    "def creating_file_method_2(outfile):\n",
    "    outfile.write(\"George Washington\\n\")            #Colocar el \\n para que lo q va creando baje de linea\n",
    "    outfile.write(\"John Adams\\n\")\n",
    "    outfile.write(\"Thomas Jefferson\\n\")\n",
    "  \n",
    "\n",
    "    outfile.close()\n",
    "\n",
    "\n",
    "main()"
   ]
  },
  {
   "cell_type": "code",
   "execution_count": 4,
   "metadata": {},
   "outputs": [
    {
     "name": "stdout",
     "output_type": "stream",
     "text": [
      "{'wink', 'nudge'}\n",
      "['wink', 'nudge']\n",
      "{'maybe', 'wink', 'nudge'}\n",
      "{'maybe', 'wink'}\n"
     ]
    }
   ],
   "source": [
    "\n",
    "#Example 6.Set operations (add, discard, convert to set, convert to list, convert to tuple)\n",
    "\n",
    "\n",
    "def main():\n",
    "    esta_lista = [\"wink\", \"nudge\"]\n",
    "    este_set = set(esta_lista)                    # convert list to a set\n",
    "    print(este_set)\n",
    "    \n",
    "    esta_lista = list(este_set)                   # convert set to a lista\n",
    "    print(esta_lista)\n",
    "    \n",
    "    este_set.add(\"nudge\")                         \n",
    "    este_set.add(\"maybe\")\n",
    "    print(este_set)\n",
    "    \n",
    "    este_set.discard(\"nudge\")                     \n",
    "    print(este_set)\n",
    "    \n",
    "main()    \n"
   ]
  },
  {
   "cell_type": "markdown",
   "metadata": {},
   "source": [
    "# 5.2 Processing data - Part 2"
   ]
  },
  {
   "cell_type": "code",
   "execution_count": 5,
   "metadata": {},
   "outputs": [
    {
     "name": "stdout",
     "output_type": "stream",
     "text": [
      "Enter a continent:europe\n",
      "\"France\n"
     ]
    }
   ],
   "source": [
    "# Example 1.United Nations\n",
    "\n",
    "def main():\n",
    "    continent = input(\"Enter a continent:\")\n",
    "    continent = continent.title()               #allows lower case\n",
    "    if continent != \"Antarctica\":\n",
    "        infile = open(\"continents.csv\", \"r\")\n",
    "        for line in infile:\n",
    "            data = line.split(',')\n",
    "            if data[1] == continent:\n",
    "                print(data[0])\n",
    "                \n",
    "    else:\n",
    "        print(\"There are no countries in Antarctica\")\n",
    "    \n",
    "    \n",
    "main() \n",
    "    \n",
    "    "
   ]
  },
  {
   "cell_type": "markdown",
   "metadata": {},
   "source": [
    "# 5.3 Dictionaries"
   ]
  },
  {
   "cell_type": "code",
   "execution_count": 6,
   "metadata": {},
   "outputs": [
    {
     "name": "stdout",
     "output_type": "stream",
     "text": [
      "Enter the person's group:\n",
      "(child, minor, adult, or senior): minor\n",
      "The admission fee using elif-if is 5 dollars\n",
      "==================================================================================================\n",
      "Enter the person's group:\n",
      "(child, minor, adult, or senior): minor\n",
      "The admission fee using a dictionary is 5 dollars\n"
     ]
    }
   ],
   "source": [
    "# Example 3:Admission fee\n",
    "\n",
    "def main():\n",
    "    print(\"Enter the person's group:\")\n",
    "    age_group = input(\"(child, minor, adult, or senior): \")\n",
    "    print(\"The admission fee using elif-if is\", determine_fee(age_group),\"dollars\")\n",
    "\n",
    "\n",
    "def determine_fee(age_group):\n",
    "    if age_group == \"child\":\n",
    "        return 0\n",
    "    if age_group == \"minor\":\n",
    "        return 5\n",
    "    if age_group == \"adult\":\n",
    "        return 10\n",
    "    if age_group == \"senior\":\n",
    "        return 8\n",
    "main()\n",
    "print(\"==================================================================================================\")\n",
    "\n",
    "\n",
    "def main():\n",
    "    print(\"Enter the person's group:\")\n",
    "    age_group = input(\"(child, minor, adult, or senior): \")\n",
    "    print(\"The admission fee using a dictionary is\", determine_fee_dictionary(age_group),\"dollars\")\n",
    "\n",
    "\n",
    "def determine_fee_dictionary(age_group):\n",
    "    dict = {\"child\":0, \"minor\":5, \"adult\":10, \"senior\": 8}\n",
    "    return dict[age_group]\n",
    "\n",
    "\n",
    "main()    "
   ]
  },
  {
   "cell_type": "code",
   "execution_count": null,
   "metadata": {},
   "outputs": [],
   "source": []
  }
 ],
 "metadata": {
  "kernelspec": {
   "display_name": "Python 3",
   "language": "python",
   "name": "python3"
  },
  "language_info": {
   "codemirror_mode": {
    "name": "ipython",
    "version": 3
   },
   "file_extension": ".py",
   "mimetype": "text/x-python",
   "name": "python",
   "nbconvert_exporter": "python",
   "pygments_lexer": "ipython3",
   "version": "3.7.3"
  }
 },
 "nbformat": 4,
 "nbformat_minor": 2
}
