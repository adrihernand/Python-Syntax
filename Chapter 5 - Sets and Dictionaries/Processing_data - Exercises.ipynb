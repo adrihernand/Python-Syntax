{
 "cells": [
  {
   "cell_type": "markdown",
   "metadata": {},
   "source": [
    "# Chapter 5 - Processing data"
   ]
  },
  {
   "cell_type": "markdown",
   "metadata": {},
   "source": [
    "# 5.3 Dictionaries"
   ]
  },
  {
   "cell_type": "code",
   "execution_count": 117,
   "metadata": {},
   "outputs": [
    {
     "name": "stdout",
     "output_type": "stream",
     "text": [
      "Gehrigh   0.338\n",
      "Ruth   0.342\n",
      "Williams   0.344\n"
     ]
    }
   ],
   "source": [
    "#Exercise 47. Baseball. Write lines of codes to produce the batting averages of the three baseball players \n",
    "\n",
    "tophitters_dic = {\"Gehrigh\": {\"atbats\": 8061, \"hits\": 2721}, \"Ruth\":{\"atbats\": 8399,\"hits\": 2873}, \"Williams\": {\"atbats\": 7706, \"hits\": 2654}}\n",
    "\n",
    "\n",
    "for k in tophitters_dic:\n",
    "    print(k, \" \",(round(tophitters_dic[k][\"hits\"] / tophitters_dic[k][\"atbats\"],3)))\n"
   ]
  },
  {
   "cell_type": "code",
   "execution_count": 102,
   "metadata": {},
   "outputs": [
    {
     "name": "stdout",
     "output_type": "stream",
     "text": [
      "{'Gehrigh': {'atbats': 8061, 'hits': 2721}, 'Ruth': {'atbats': 8399, 'hits': 2873}, 'Williams': {'atbats': 7706, 'hits': 2654}}\n",
      "Williams\n",
      "Gehrigh\n",
      "{'Ruth': {'atbats': 8399, 'hits': 2873}}\n"
     ]
    }
   ],
   "source": [
    "#Exercise 48. Baseball. \n",
    "\n",
    "\n",
    "tophitters_dic = {\"Gehrigh\": {\"atbats\": 8061, \"hits\": 2721}, \"Ruth\":{\"atbats\": 8399,\"hits\": 2873}, \"Williams\": {\"atbats\": 7706, \"hits\": 2654}}\n",
    "\n",
    "print(tophitters_dic)\n",
    "\n",
    "print(max(tophitters_dic))\n",
    "del tophitters_dic[max(tophitters_dic)]\n",
    "\n",
    "print(min(tophitters_dic))\n",
    "del tophitters_dic[min(tophitters_dic)]\n",
    "\n",
    "print(tophitters_dic)\n",
    "\n",
    "\n",
    "\n"
   ]
  },
  {
   "cell_type": "code",
   "execution_count": 2,
   "metadata": {},
   "outputs": [
    {
     "name": "stdout",
     "output_type": "stream",
     "text": [
      "Hit average is: 2749.33\n"
     ]
    }
   ],
   "source": [
    "#Exercise 49. Baseball. Bright lines of code to produce the average number of hits by the three players \n",
    "\n",
    "\n",
    "tophitters_dic = {\"Gehrigh\": {\"atbats\": 8061, \"hits\": 2721}, \"Ruth\":{\"atbats\": 8399,\"hits\": 2873}, \"Williams\": {\"atbats\": 7706, \"hits\": 2654}}\n",
    "\n",
    "promedio = (tophitters_dic[\"Gehrigh\"][\"hits\"] + tophitters_dic[\"Ruth\"][\"hits\"] + tophitters_dic[\"Williams\"][\"hits\"])/3\n",
    "print(\"Hit average is:\",round(promedio,2))\n",
    "\n",
    "\n",
    "\n"
   ]
  },
  {
   "cell_type": "code",
   "execution_count": 1,
   "metadata": {},
   "outputs": [
    {
     "name": "stdout",
     "output_type": "stream",
     "text": [
      "Gehrigh   2721\n",
      "Ruth   2873\n",
      "Williams   2654\n",
      "============Accesing the maximum value in a dictionary of dictionaries=============\n",
      "2873 Is the maximum hit\n"
     ]
    }
   ],
   "source": [
    "#Exercise 50. Baseball. Write lines of code that shows the most hits by any of the three players \n",
    "\n",
    "\n",
    "tophitters_dic = {\"Gehrigh\": {\"atbats\": 8061, \"hits\": 2721}, \"Ruth\":{\"atbats\": 8399,\"hits\": 2873}, \"Williams\": {\"atbats\": 7706, \"hits\": 2654}}\n",
    "lista = []\n",
    "\n",
    "for k in tophitters_dic:\n",
    "    print(k, \" \",(tophitters_dic[k][\"hits\"]))\n",
    "    lista.append(tophitters_dic[k][\"hits\"])\n",
    "    \n",
    "print(\"============Accesing the maximum value in a dictionary of dictionaries=============\")\n",
    "lista\n",
    "print(max(lista), \"Is the maximum hit\")\n"
   ]
  },
  {
   "cell_type": "code",
   "execution_count": 3,
   "metadata": {},
   "outputs": [
    {
     "name": "stdout",
     "output_type": "stream",
     "text": [
      "This is my dictionary: {'CT': 3.6, 'ME': 1.3, 'MA': 6.5, 'NH': 1.5, 'RI': 1.1, 'VT': 0.6}\n",
      "This is the population from the state MA 6.5\n",
      "These are the keys in my dictionary: dict_keys(['CT', 'ME', 'MA', 'NH', 'RI', 'VT'])\n",
      "These are the items in my dictionary: dict_items([('CT', 3.6), ('ME', 1.3), ('MA', 6.5), ('NH', 1.5), ('RI', 1.1), ('VT', 0.6)])\n",
      "absent\n",
      "This is the maximum in my dictionary: VT\n",
      "The result of this operation is: 1.5\n",
      "Changing the value of ME, now is: 2\n",
      "CT  ME  MA  NH  RI  VT  This is the total of the values in my dictionary 15.4\n",
      "This is the lenght of my dictionary:  6\n",
      "Converting the values my dictionary to a list:  [3.7, 2, 6.5, 1.5, 1.1, 0.6]\n",
      "This is NH inside my dictionary: True\n",
      "CT  MA  ME  NH  RI  VT  "
     ]
    }
   ],
   "source": [
    "#In exercises 1 through 20. Determine the output\n",
    "\n",
    "new_england_dict = {\"CT\":3.6, \"ME\":1.3, \"MA\":6.5, \"NH\":1.5, \"RI\":1.1, \"VT\":0.6}\n",
    "\n",
    "\"============================================================================================\"\n",
    "print(\"This is my dictionary:\",new_england_dict)\n",
    "\n",
    "\n",
    "\"============================================================================================\"\n",
    "print(\"This is the population from the state MA\",new_england_dict[\"MA\"])\n",
    "\n",
    "\"============================================================================================\"\n",
    "print(\"These are the keys in my dictionary:\",new_england_dict.keys())\n",
    "\n",
    "\"============================================================================================\"\n",
    "print(\"These are the items in my dictionary:\",new_england_dict.items())\n",
    "\n",
    "\"============================================================================================\"\n",
    "print(new_england_dict.get(\"PA\",\"absent\"))\n",
    "\n",
    "\"============================================================================================\"\n",
    "print(\"This is the maximum in my dictionary:\",max(new_england_dict))\n",
    "\n",
    "\"============================================================================================\"\n",
    "new_england_dict[\"ME\"] = new_england_dict[\"ME\"] + 0.2\n",
    "print(\"The result of this operation is:\",new_england_dict[\"ME\"])\n",
    "\n",
    "\"============================================================================================\"\n",
    "new_england_dict.update({\"CT\":3.7, \"ME\":2})\n",
    "print(\"Changing the value of ME, now is:\",new_england_dict[\"ME\"])\n",
    "\n",
    "\"============================================================================================\"\n",
    "for item in new_england_dict:\n",
    "    print(item + \" \", end =\" \")\n",
    "\n",
    "\n",
    "\"============================================================================================\"\n",
    "total = 0\n",
    "\n",
    "for item in new_england_dict.values():\n",
    "    total = total + item\n",
    "\n",
    "print(\"This is the total of the values in my dictionary\",round(total,2))\n",
    "\n",
    "\"============================================================================================\"\n",
    "print(\"This is the lenght of my dictionary: \",len(new_england_dict))\n",
    "\n",
    "\n",
    "\n",
    "\"============================================================================================\"\n",
    "print(\"Converting the values my dictionary to a list: \" ,list(new_england_dict.values()))\n",
    "\n",
    "\"============================================================================================\"\n",
    "print(\"This is NH inside my dictionary:\",\"NH\" in new_england_dict)\n",
    "\n",
    "\"============================================================================================\"\n",
    "for item in sorted(new_england_dict):\n",
    "    print(item + \" \", end= \" \")\n",
    "\n",
    "\n"
   ]
  },
  {
   "cell_type": "code",
   "execution_count": null,
   "metadata": {},
   "outputs": [],
   "source": []
  }
 ],
 "metadata": {
  "kernelspec": {
   "display_name": "Python 3",
   "language": "python",
   "name": "python3"
  },
  "language_info": {
   "codemirror_mode": {
    "name": "ipython",
    "version": 3
   },
   "file_extension": ".py",
   "mimetype": "text/x-python",
   "name": "python",
   "nbconvert_exporter": "python",
   "pygments_lexer": "ipython3",
   "version": "3.7.3"
  }
 },
 "nbformat": 4,
 "nbformat_minor": 2
}
