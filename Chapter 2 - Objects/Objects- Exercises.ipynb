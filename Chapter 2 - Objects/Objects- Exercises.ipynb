{
 "cells": [
  {
   "cell_type": "markdown",
   "metadata": {},
   "source": [
    "# Exercises 2.1 - Numbers"
   ]
  },
  {
   "cell_type": "code",
   "execution_count": 1,
   "metadata": {
    "scrolled": false
   },
   "outputs": [
    {
     "name": "stdout",
     "output_type": "stream",
     "text": [
      "10\n",
      "14\n",
      "16\n",
      "16\n",
      "9\n",
      "8\n"
     ]
    }
   ],
   "source": [
    "#In exercises 19 through 24, evaluate the numeric expression.\n",
    "\n",
    "a = 2\n",
    "b = 3\n",
    "c = 4\n",
    "\n",
    "print((a*b)+c)\n",
    "print(a*(b+c))\n",
    "print((1+b)*c)\n",
    "print(a**c)\n",
    "print(b**(c-a))\n",
    "print((c-a)**b)\n"
   ]
  },
  {
   "cell_type": "code",
   "execution_count": 4,
   "metadata": {},
   "outputs": [
    {
     "name": "stdout",
     "output_type": "stream",
     "text": [
      "61\n",
      "6859\n",
      "1.1\n",
      "-234\n",
      "2805\n",
      "0.875\n"
     ]
    }
   ],
   "source": [
    "# In exercises 25 through 30, write lines of code to calculate and display the values.\n",
    "\n",
    "print((7*8) + 5)\n",
    "print((1+(2*9))**3)\n",
    "print((5.5*20)/(100))\n",
    "print((15)-(3*((2)+(3**4))))\n",
    "print(17*(3+162))\n",
    "print((4+(1/2))-(3+(5/8)))\n"
   ]
  },
  {
   "cell_type": "code",
   "execution_count": 5,
   "metadata": {},
   "outputs": [
    {
     "name": "stdout",
     "output_type": "stream",
     "text": [
      "2\n",
      "2 6\n",
      "11 6\n",
      "15\n",
      "11 6\n",
      "11 7\n"
     ]
    }
   ],
   "source": [
    "# In exercise 31 complete the table by filling in the value of each variable.\n",
    "\n",
    "x = 2\n",
    "print(x)\n",
    "\n",
    "y = 3 * x\n",
    "print(x,y)\n",
    "\n",
    "x = y + 5\n",
    "print(x,y)\n",
    "\n",
    "print(x + 4)\n",
    "print(x,y)\n",
    "\n",
    "y = y + 1\n",
    "print(x,y)"
   ]
  },
  {
   "cell_type": "code",
   "execution_count": 6,
   "metadata": {},
   "outputs": [
    {
     "name": "stdout",
     "output_type": "stream",
     "text": [
      "100\n",
      "100 0.05\n",
      "100 0.05 25\n",
      "105.0 0.05 25\n",
      "80.0 0.05 25\n"
     ]
    }
   ],
   "source": [
    "# In exercise 32 complete the table by filling in the value of each variable.\n",
    "\n",
    "bal = 100\n",
    "print(bal)\n",
    "\n",
    "inter = 0.05\n",
    "print(bal, inter)\n",
    "\n",
    "\n",
    "withDr = 25\n",
    "print(bal, inter, withDr)\n",
    "\n",
    "\n",
    "bal = bal + (inter*bal)\n",
    "print(bal, inter, withDr)\n",
    "\n",
    "bal = bal - withDr\n",
    "print(bal, inter, withDr)\n"
   ]
  },
  {
   "cell_type": "code",
   "execution_count": 7,
   "metadata": {},
   "outputs": [
    {
     "name": "stdout",
     "output_type": "stream",
     "text": [
      "24\n",
      "1 8 9\n",
      "10\n",
      "225\n",
      "2 2.25\n",
      "5 10\n"
     ]
    }
   ],
   "source": [
    "# In exercise 33 through 38 determine the output displayed by the lines of code.\n",
    "\n",
    "a = 4\n",
    "b = 5 * a\n",
    "print(a+b)\n",
    "\n",
    "\n",
    "n = 7\n",
    "n += 1\n",
    "print(1, n, n+1)\n",
    "\n",
    "num = 5\n",
    "num *= 2\n",
    "print(num)\n",
    "\n",
    "tax = 200\n",
    "tax = 25 + tax\n",
    "print(tax)\n",
    "\n",
    "totalminutes = 135\n",
    "hours = totalminutes//60\n",
    "minutes = totalminutes/ 60 \n",
    "print(hours,minutes)\n",
    "\n",
    "totalounces = 90\n",
    "pounds = totalounces//16\n",
    "ounces = totalounces%16\n",
    "print(pounds, ounces)"
   ]
  },
  {
   "cell_type": "code",
   "execution_count": 6,
   "metadata": {},
   "outputs": [
    {
     "name": "stdout",
     "output_type": "stream",
     "text": [
      "10\n",
      "7\n",
      "7\n",
      "0.001\n",
      "3.128\n",
      "-3\n"
     ]
    }
   ],
   "source": [
    "# In exercises 43 through 48 find the value of the function.\n",
    "\n",
    "print(int(10.75))\n",
    "print(int(9-2))\n",
    "print(abs(3-10))\n",
    "print(abs(10**(-3)))\n",
    "print(round(3.1279,3))\n",
    "print(round(-2.6))\n"
   ]
  },
  {
   "cell_type": "code",
   "execution_count": 7,
   "metadata": {},
   "outputs": [
    {
     "name": "stdout",
     "output_type": "stream",
     "text": [
      "-2\n",
      "2\n",
      "0\n",
      "1\n",
      "6\n",
      "1\n"
     ]
    }
   ],
   "source": [
    "# In exercises 49 through 54 find the value of the function.\n",
    "\n",
    "a = 5\n",
    "b = 3\n",
    "\n",
    "print(int(-a/2))\n",
    "print(round(a/b))\n",
    "print(abs(a-5))\n",
    "print(abs(4-a))\n",
    "print(round(a+0.5))\n",
    "print(int(b*0.5))"
   ]
  },
  {
   "cell_type": "code",
   "execution_count": 8,
   "metadata": {},
   "outputs": [
    {
     "name": "stdout",
     "output_type": "stream",
     "text": [
      "53456\n"
     ]
    }
   ],
   "source": [
    "# Exercise 61.Calculate Profit.The following steps calcualte a company's profit.  \n",
    "\n",
    "revenue = 98456\n",
    "costs = 45000\n",
    "profit = revenue - costs\n",
    "print(profit)"
   ]
  },
  {
   "cell_type": "code",
   "execution_count": 9,
   "metadata": {},
   "outputs": [
    {
     "name": "stdout",
     "output_type": "stream",
     "text": [
      "10250000\n"
     ]
    }
   ],
   "source": [
    "# Exercise 62. Stock purchase. The following steps calculate the amount of a stock purchase.\n",
    "\n",
    "costPerShare = 25625\n",
    "numberOfShares = 400\n",
    "amount = costPerShare * numberOfShares\n",
    "print(amount)"
   ]
  },
  {
   "cell_type": "code",
   "execution_count": 11,
   "metadata": {},
   "outputs": [
    {
     "name": "stdout",
     "output_type": "stream",
     "text": [
      "13.96\n"
     ]
    }
   ],
   "source": [
    "# Exercise 63. Discounted price.The following steps calculate the price of an item after a 30% reduction. \n",
    "\n",
    "price = 19.95\n",
    "discountPercent = 30\n",
    "markdown = ((discountPercent/100)*(price))\n",
    "price = price - markdown\n",
    "print(round(price,2))"
   ]
  },
  {
   "cell_type": "code",
   "execution_count": 12,
   "metadata": {},
   "outputs": [
    {
     "name": "stdout",
     "output_type": "stream",
     "text": [
      "2500.0\n"
     ]
    }
   ],
   "source": [
    "# Exercise 64. Break- even point. The following steps calculate a company's break even point, the number of units of goods \n",
    "# the company must manufacture and sell in order to break even\n",
    "\n",
    "fixedcosts = 5000\n",
    "priceperunit = 8\n",
    "costperunit = 6\n",
    "breakevenpoint= (fixedcosts / (priceperunit-costperunit))\n",
    "print(breakevenpoint)"
   ]
  },
  {
   "cell_type": "code",
   "execution_count": 15,
   "metadata": {},
   "outputs": [
    {
     "name": "stdout",
     "output_type": "stream",
     "text": [
      "115.76\n"
     ]
    }
   ],
   "source": [
    "# Exercise 65. Savings account. The following steps calculate the balance after three years when $100 is deposited in a \n",
    "# savings account at 5% interest compunded annually.\n",
    "\n",
    "balance = 100\n",
    "balance = balance + (0.05 * balance)\n",
    "balance = balance + (0.05 * balance)\n",
    "balance = balance + (0.05 * balance)\n",
    "print(round(balance,2))"
   ]
  },
  {
   "cell_type": "code",
   "execution_count": 30,
   "metadata": {},
   "outputs": [
    {
     "name": "stdout",
     "output_type": "stream",
     "text": [
      "331.01\n"
     ]
    }
   ],
   "source": [
    "# Exercise 66. Savings account. The following steps calculate the balance at the end of three years when $100 is deposited \n",
    "# at the begginnig of each year in a savings account at 5% interest compunded annually.\n",
    "\n",
    "balance = 100\n",
    "balance = balance + (0.05 * balance) + 100\n",
    "balance = balance + (0.05 * balance) + 100\n",
    "balance = balance + (0.05 * balance)\n",
    "print(round(balance,2))\n"
   ]
  },
  {
   "cell_type": "code",
   "execution_count": 24,
   "metadata": {},
   "outputs": [
    {
     "name": "stdout",
     "output_type": "stream",
     "text": [
      "162.89\n"
     ]
    }
   ],
   "source": [
    "# Exercise 67. Savings account. The following steps calculate the balance after 10 years when $100 is deposited in a savings\n",
    "# account at 5% interest compunded annually.\n",
    "\n",
    "balance = 100\n",
    "balance *= 1.05**10\n",
    "print(round(balance,2))\n"
   ]
  },
  {
   "cell_type": "code",
   "execution_count": 26,
   "metadata": {},
   "outputs": [
    {
     "name": "stdout",
     "output_type": "stream",
     "text": [
      "50.0\n"
     ]
    }
   ],
   "source": [
    "# Exercise 68. Profit from stock. The following steps calculate the percentage profit from the sale of a stock.\n",
    "\n",
    "purchaseprice = 10\n",
    "sellingprice =  15\n",
    "percentprofit = (100*(sellingprice-purchaseprice)/(purchaseprice))\n",
    "print(percentprofit)"
   ]
  },
  {
   "cell_type": "code",
   "execution_count": 31,
   "metadata": {},
   "outputs": [
    {
     "name": "stdout",
     "output_type": "stream",
     "text": [
      "540\n"
     ]
    }
   ],
   "source": [
    "# Exercise 69.Corn production. Suppose each acre of farmland produces 18 tons of corn. Ho many corn can be grown on a \n",
    "# 30 acre farm? \n",
    "\n",
    "\n",
    "production = 18           # ton/1 acre\n",
    "area = 30                 # acres\n",
    "amount = production*area\n",
    "print(amount)\n"
   ]
  },
  {
   "cell_type": "code",
   "execution_count": 33,
   "metadata": {},
   "outputs": [
    {
     "name": "stdout",
     "output_type": "stream",
     "text": [
      "11\n"
     ]
    }
   ],
   "source": [
    "# Exercise 70. Projectile motion. Suppose a ball is thrown straight up in the air with an initial velocity of 50 feet per \n",
    "# seconds and an initial height of 5 feet. How high will the ball be after 3 seconds? Note the height after t seconds is \n",
    "# given by the expression: -16 * (t)^2 + Vinitial*(t) + Hinitial.\n",
    "\n",
    "\n",
    "Vinitial = 50  #feet persecond\n",
    "Hinitial = 5  #feet\n",
    "t= 3\n",
    "height = ((-16*(t)**2)+((Vinitial)*(t))+(Hinitial))\n",
    "print(height)"
   ]
  },
  {
   "cell_type": "code",
   "execution_count": 34,
   "metadata": {},
   "outputs": [
    {
     "name": "stdout",
     "output_type": "stream",
     "text": [
      "46.6\n"
     ]
    }
   ],
   "source": [
    "# Exercise 71. Average speed.If a car left Washighton Dc at 2'o clock and arrived at New York at 7'o clock, what was its \n",
    "# average speed? Note: New York is 233 miles from Washington.\n",
    "\n",
    "\n",
    "distance = 233 #miles\n",
    "dep_time = 2\n",
    "arrival_time = 7\n",
    "time_diff= abs(2-7)\n",
    "speed = (distance/time_diff)\n",
    "print(speed)"
   ]
  },
  {
   "cell_type": "code",
   "execution_count": 35,
   "metadata": {},
   "outputs": [
    {
     "name": "stdout",
     "output_type": "stream",
     "text": [
      "24.5\n"
     ]
    }
   ],
   "source": [
    "# Exercise 72. Gas mileage. A motorist wants to determine he gas mileage. AT 23353 miles (on the odometer) the tank is filled\n",
    "# At 23695 miles the tank is filled again with 14 gallons.How many miles per gallon did the car average between the two \n",
    "# fillings?\n",
    "\n",
    "\n",
    "first_mileage = 23352 #milage\n",
    "second_mileage = 23695 #mileage\n",
    "quantity = 14 #gallons\n",
    "distance_traveled = (second_mileage - first_mileage)\n",
    "gas_mileage = distance_traveled/quantity\n",
    "print(gas_mileage)\n"
   ]
  },
  {
   "cell_type": "code",
   "execution_count": 40,
   "metadata": {},
   "outputs": [
    {
     "name": "stdout",
     "output_type": "stream",
     "text": [
      "183960000000000 gallons\n"
     ]
    }
   ],
   "source": [
    "# Exercise 73. Water usage. A survey showed that Americans use an average of 1600 gallons of water per person per day,\n",
    "# including industrial use.How many gallons of water are used each year in the United States? Note: The current population\n",
    "# of the United States is about 315 millions of people.\n",
    "\n",
    "water_per_person = 1600 #gallons perday\n",
    "water_per_year = water_per_person*365\n",
    "total_population = 315000000\n",
    "water_total = water_per_year*total_population\n",
    "print(water_total, \"gallons\")\n"
   ]
  },
  {
   "cell_type": "code",
   "execution_count": 41,
   "metadata": {},
   "outputs": [
    {
     "name": "stdout",
     "output_type": "stream",
     "text": [
      "30240000\n"
     ]
    }
   ],
   "source": [
    "# Exercise 74. Pizza. Americans eat an average of 350 slices of pizza per second. How many slices of pizza do they eat \n",
    "# per day?\n",
    "\n",
    "slices_per_second = 350\n",
    "seconds_day = 3600*24\n",
    "total_slice_day = slices_per_second * seconds_day\n",
    "print(total_slice_day)\n"
   ]
  },
  {
   "cell_type": "code",
   "execution_count": 42,
   "metadata": {},
   "outputs": [
    {
     "name": "stdout",
     "output_type": "stream",
     "text": [
      "583333\n"
     ]
    }
   ],
   "source": [
    "# Exercise 75.Restaurants. About 12% of the restaurants in the United States are pizzerias, and there are about \n",
    "# 70000 pizzerias in the United States.Estimate the total number of restaurants in the United States.\n",
    "\n",
    "pizzerias = 70000\n",
    "pizza_percent = 12\n",
    "total_perc = 100\n",
    "restaurants = (pizzerias*total_perc)/(pizza_percent)\n",
    "print(round(restaurants))\n"
   ]
  },
  {
   "cell_type": "code",
   "execution_count": 44,
   "metadata": {},
   "outputs": [
    {
     "name": "stdout",
     "output_type": "stream",
     "text": [
      "44\n"
     ]
    }
   ],
   "source": [
    "# Exercise 76. Population growth.The population of the United States was about 281 million in 20000 and is predicted to \n",
    "# be about 404 million in 2050. Approximate the percentage population growth in thr United States during the first half of\n",
    "# 21 st century. Round the percentage to the nearest whole number. \n",
    "\n",
    "population_2000 = 281000000\n",
    "population_2050 = 404000000\n",
    "population_increase = population_2050 - population_2000\n",
    "perc_increase = ((population_increase/population_2000) * 100)\n",
    "print(round(perc_increase))\n"
   ]
  },
  {
   "cell_type": "code",
   "execution_count": 45,
   "metadata": {},
   "outputs": [
    {
     "name": "stdout",
     "output_type": "stream",
     "text": [
      "53185\n"
     ]
    }
   ],
   "source": [
    "# Exercise 77. US national debt. Suppose the US national debt is 1.68 * 10^13 dollars and the US popolation is 3.1588*10^8.\n",
    "# Calculate the per capita US national debt.Display the answer rounded to the nearest whole number.\n",
    "\n",
    "national_debt = ((1.68)*((10)**13))\n",
    "population = ((3.1588)*((10)**8))\n",
    "per_capita_debt = national_debt/population\n",
    "print(round(per_capita_debt))\n"
   ]
  },
  {
   "cell_type": "code",
   "execution_count": 47,
   "metadata": {},
   "outputs": [
    {
     "name": "stdout",
     "output_type": "stream",
     "text": [
      "7153820467200000\n"
     ]
    }
   ],
   "source": [
    "# Exercise 78. Calories. Estimate the number of calories in one cubic mile of chocolate ice cream. Note: There are\n",
    "# 5280 feet in a mile and one cubic foot of chocolate ice cream contains about 48600 calories.\n",
    "\n",
    "calories_one_cubic_feet = 48600\n",
    "mile = 5280 #1mile\n",
    "calories_in_one_cubic_mile = (calories_one_cubic_feet * ((mile)**3))\n",
    "print(calories_in_one_cubic_mile)"
   ]
  },
  {
   "cell_type": "markdown",
   "metadata": {},
   "source": [
    "# Exercises 2.2 Strings"
   ]
  },
  {
   "cell_type": "code",
   "execution_count": null,
   "metadata": {},
   "outputs": [],
   "source": [
    "#In Exercises 93 through 96 , write a program having one line for each step. Lines that display data should use the given\n",
    "#variable names."
   ]
  },
  {
   "cell_type": "code",
   "execution_count": 50,
   "metadata": {},
   "outputs": [
    {
     "name": "stdout",
     "output_type": "stream",
     "text": [
      "Thomas Alva Edison, 1847\n"
     ]
    }
   ],
   "source": [
    "# Exercise 93. Inventor. The following steps give the name and birth year of a faous inventor.\n",
    "    \n",
    "FirstName = \"Thomas\"\n",
    "MiddleName = \"Alva\"\n",
    "Lastname = \"Edison\"\n",
    "YearOfbirth = 1847 \n",
    "print(FirstName, MiddleName, Lastname+(\",\"),str (YearOfbirth))\n"
   ]
  },
  {
   "cell_type": "code",
   "execution_count": 51,
   "metadata": {},
   "outputs": [
    {
     "name": "stdout",
     "output_type": "stream",
     "text": [
      "1.53 is the sales price of ketchup\n"
     ]
    }
   ],
   "source": [
    "# Exercise 94. Price of ketchup. The following steps compute the price of ketchup.\n",
    "\n",
    "item = \"ketchup\"\n",
    "regular_price  = 1.80\n",
    "discount = 0.27\n",
    "sell_price = regular_price - discount\n",
    "print(sell_price, \"is the sales price of\",item)\n"
   ]
  },
  {
   "cell_type": "code",
   "execution_count": 52,
   "metadata": {},
   "outputs": [
    {
     "name": "stdout",
     "output_type": "stream",
     "text": [
      "(c) Pearson\n"
     ]
    }
   ],
   "source": [
    "# Exercise 95. Copyright Statement. The following steps displays a Copyright Statement.\n",
    "\n",
    "Publisher = \"Pearson\"\n",
    "print(\"(c)\", Publisher)"
   ]
  },
  {
   "cell_type": "code",
   "execution_count": 53,
   "metadata": {},
   "outputs": [
    {
     "name": "stdout",
     "output_type": "stream",
     "text": [
      "Forewarned is Forearmed\n"
     ]
    }
   ],
   "source": [
    "# Exercise 96. Advice. The following steps give advice.\n",
    "\n",
    "prefix = \"Fore\"\n",
    "print(prefix+\"warned\", \"is\" , prefix + \"armed\" )\n"
   ]
  },
  {
   "cell_type": "code",
   "execution_count": 58,
   "metadata": {},
   "outputs": [
    {
     "name": "stdout",
     "output_type": "stream",
     "text": [
      "Enter the number of seconds between lighting and thunder: 1.25\n",
      "The distance is  0.25\n"
     ]
    }
   ],
   "source": [
    "# Exercise 97. Distance from a storm. If n is the number of seconds between lightning and thunder, the storm is n/5 miles\n",
    "# away. Write a program that requests the number of seconds between lightining and thinder and report the distance from \n",
    "# the storm rounded to two decimal places.\n",
    "\n",
    "n = float(input(\"Enter the number of seconds between lighting and thunder: \"))\n",
    "distance = (float(n) / 5)\n",
    "print((\"The distance is \"), (distance))"
   ]
  },
  {
   "cell_type": "code",
   "execution_count": 60,
   "metadata": {},
   "outputs": [
    {
     "name": "stdout",
     "output_type": "stream",
     "text": [
      "Enter your age: 20\n",
      "Enter your resting heart rate: 70\n",
      "The training heart rate is  161.0 beats sper minute\n"
     ]
    }
   ],
   "source": [
    "# Exercise 98. Training heart rate.The American Colleage of Sports Medicine rcommends that you maintain your training\n",
    "# heart rate during an aerobic workout. Your training heart rate is computed as 0.7 *(220 - a) + 0.3 * r , where a is your \n",
    "# age and r is your resting heart rate (your pulse when you first awaken). Write a program to request a person's age and \n",
    "# resting hear rate and display their training heart rate.\n",
    "\n",
    "\n",
    "a = eval(input(\"Enter your age: \"))\n",
    "r = eval(input(\"Enter your resting heart rate: \"))\n",
    "training_rate = (0.7*(220 - a) + (0.3*r))\n",
    "print((\"The training heart rate is \"), training_rate, \"beats sper minute\")\n",
    "                    "
   ]
  },
  {
   "cell_type": "code",
   "execution_count": 61,
   "metadata": {},
   "outputs": [
    {
     "name": "stdout",
     "output_type": "stream",
     "text": [
      "Enter the number of hours cycling: 2\n",
      "Enter the number of hours running: 3\n",
      "Enter the number of hours swimming: 1\n",
      "The number of pounds lost is  0.6\n"
     ]
    }
   ],
   "source": [
    "# Exercise 99.Triathlon.The number of calories burned per hour by cycling, running and swimming ar 200, 475 and 275 \n",
    "# respectively.A person loses 1 pound of weight per each 3500 calories burned. Write a proram to request the number of hours\n",
    "# spent at each each activity and then display the number of pounds worked off. \n",
    "\n",
    "hours_cycling = eval(input(\"Enter the number of hours cycling: \"))\n",
    "hours_runnnig = eval(input(\"Enter the number of hours running: \"))\n",
    "hours_swimming = eval(input(\"Enter the number of hours swimming: \"))\n",
    "cycling = 200 #calories burned per hour\n",
    "running = 475 #calories burned per hour\n",
    "swimming = 275 #calories burned per hour\n",
    "weight_loss_calories = 3500 #calories in 1 pound lost\n",
    "total_calories = ((hours_cycling*cycling)+(hours_runnnig*running)+(hours_swimming*swimming))/(weight_loss_calories)\n",
    "print((\"The number of pounds lost is \"), total_calories)"
   ]
  },
  {
   "cell_type": "code",
   "execution_count": 63,
   "metadata": {},
   "outputs": [
    {
     "name": "stdout",
     "output_type": "stream",
     "text": [
      "Enter the wattage of your device: 100\n",
      "Enter the number of hours used: 720\n",
      "Your electricity cost this month is  6.122448979591836\n"
     ]
    }
   ],
   "source": [
    "# Exercise 100.Cost of electricity.The cost of electricity used by a device is given by the formula: \n",
    "\n",
    "#     cost of electricy in dollars = (wattage of device * hours used) / 1000 *cost per kWh(in cents)\n",
    "\n",
    "# where kWh is an abbreviation of \"kilowatt per hour\". The cost per kWh of electricity varies wit locality.\n",
    "# Suppose the current average cost of electricity for a residential customer in the United States is 11.76 cents per KWh.\n",
    "# Write a program that allows the user to calculate the cost of operating an electrical device.Keeping a light bulb turned \n",
    "# on for an entire month. \n",
    "\n",
    "wattage = eval(input(\"Enter the wattage of your device: \"))\n",
    "hours_used = eval(input(\"Enter the number of hours used: \"))\n",
    "cost_per_kwh = 11.76 #in cents\n",
    "cost_of_electricity = ((wattage*hours_used)/(1000*cost_per_kwh))\n",
    "print((\"Your electricity cost this month is \"), cost_of_electricity)\n"
   ]
  },
  {
   "cell_type": "code",
   "execution_count": 66,
   "metadata": {},
   "outputs": [
    {
     "name": "stdout",
     "output_type": "stream",
     "text": [
      "Enter the name of a baseball team: Yankees\n",
      "Enter the number of games won: 84\n",
      "Enter the number of games lost: 78\n",
      "Yankees won 51.9 % of the games\n"
     ]
    }
   ],
   "source": [
    "# Exercise 101. Baseball. Write a program to request the name of a baseball team, the number of ganes won and the numbers \n",
    "# of games lost as input, and then display the name of the team and the percentage of games won. \n",
    "\n",
    "name = (input(\"Enter the name of a baseball team: \"))\n",
    "games_won = eval(input(\"Enter the number of games won: \"))\n",
    "games_lost = eval(input(\"Enter the number of games lost: \"))\n",
    "total_games = games_won + games_lost\n",
    "percent_games_won = (games_won*100)/(total_games) \n",
    "print(name, \"won\", round(percent_games_won,1), \"% of the games\")\n"
   ]
  },
  {
   "cell_type": "code",
   "execution_count": 67,
   "metadata": {},
   "outputs": [
    {
     "name": "stdout",
     "output_type": "stream",
     "text": [
      "Enter your company's earnings per share this year: 5.25\n",
      "Enter the price of one share: 68.25\n",
      "Your company's price to earning ratio is  13.0\n"
     ]
    }
   ],
   "source": [
    "# Exercise 102.Price to earnings ratio.Write a program that requests a company's earnings per share for the year, and the \n",
    "# price of one share of stock as input, and then displays the company's price to earnings ratio(that is, price/earnings)\n",
    "\n",
    "\n",
    "Earning_pershare = eval(input(\"Enter your company's earnings per share this year: \"))\n",
    "price_one_share = eval(input(\"Enter the price of one share: \"))\n",
    "price_earning_ratio = price_one_share/Earning_pershare\n",
    "print((\"Your company's price to earning ratio is \"), price_earning_ratio)\n"
   ]
  },
  {
   "cell_type": "code",
   "execution_count": 70,
   "metadata": {},
   "outputs": [
    {
     "name": "stdout",
     "output_type": "stream",
     "text": [
      "Enter the distance skidded: 54\n",
      "The speed was 36.0 miles per hour\n"
     ]
    }
   ],
   "source": [
    "# Exercise 103. Car speed. The formula s = (24*d)^1/2 gives an estimate of the speed in miles per hour of a car that \n",
    "# skidded d feet o dry concrete when the brakes were applied.Write a program that requests the distance skidded and then \n",
    "# displays the estimated speed of the car.\n",
    "\n",
    "\n",
    "distance  = eval(input(\"Enter the distance skidded: \"))\n",
    "speed = ((24*distance)**0.5)\n",
    "print(\"The speed was\", speed,\"miles per hour\")"
   ]
  },
  {
   "cell_type": "code",
   "execution_count": 75,
   "metadata": {},
   "outputs": [
    {
     "name": "stdout",
     "output_type": "stream",
     "text": [
      "Enter the percentage in % here: 125\n",
      "This number in decimal is: 1.25\n"
     ]
    }
   ],
   "source": [
    "# Exercise 104. Percentages. Write a program that converts a percentage to a decimal.\n",
    "\n",
    "\n",
    "percent  = eval(input(\"Enter the percentage in % here: \"))\n",
    "decimal = float(percent/100)\n",
    "print(\"This number in decimal is:\", decimal)"
   ]
  },
  {
   "cell_type": "code",
   "execution_count": 79,
   "metadata": {},
   "outputs": [
    {
     "name": "stdout",
     "output_type": "stream",
     "text": [
      "Enter the speed in km/hour: 24.20\n",
      "The speed in miles per hour is: 15.04\n"
     ]
    }
   ],
   "source": [
    "# Exercise 105. Convert speeds. On May 6, 1954 British runner Sir Roger Bannister became the first person to run the mile in\n",
    "# less than 4 minutes. His average speed as 24.20 kilometers per hour. Write a program that requests a speed in kilometers\n",
    "# per hour as input and then displays the speed in miles per hour.Note: one kilometer is 0.6214 of a mile.\n",
    "\n",
    "\n",
    "speed_km_hr = eval(input(\"Enter the speed in km/hour: \"))\n",
    "km_to_mile = 0.6214 #miles\n",
    "speed_mile_hr = speed_km_hr*km_to_mile\n",
    "print(\"The speed in miles per hour is:\",round(speed_mile_hr, 2))\n"
   ]
  },
  {
   "cell_type": "code",
   "execution_count": 80,
   "metadata": {},
   "outputs": [
    {
     "name": "stdout",
     "output_type": "stream",
     "text": [
      "Enter the bill amount here: 21.50\n",
      "Enter the tip percentage here: 18\n",
      "3.87\n"
     ]
    }
   ],
   "source": [
    "# Exercise 106.Server's tip. Write a program that calculates the amount of a server's tip given the amount of the bill and \n",
    "# the percentage tip as input.\n",
    "\n",
    "\n",
    "bill  = (eval(input(\"Enter the bill amount here: \")))\n",
    "percent = (eval(input(\"Enter the tip percentage here: \")))\n",
    "tip = ((percent*bill)/(100))\n",
    "print(tip)\n"
   ]
  },
  {
   "cell_type": "code",
   "execution_count": 81,
   "metadata": {},
   "outputs": [
    {
     "name": "stdout",
     "output_type": "stream",
     "text": [
      "Enter the tax bracket(as decimal): 0.37\n",
      "Enter the municipal bond interest rate(as percentage): 3.26\n",
      "5.17\n"
     ]
    }
   ],
   "source": [
    "# Exercise 107. Equivalent interest rates. Interest earned on municipal bonds from an investor's home state is not taxed,\n",
    "# whereas interes earned on CDs is taxed. Therefore, in order for a CD to earn as much as a municipal bond, the CD must pay\n",
    "# a higher interest rate.How much higher the interest must be depends on the investor's tax bracket. Write a program that\n",
    "# requests a tax bracket and a municipal bond interest rate as input, and then displays the CD interest rate having the \n",
    "# same yield.\n",
    "\n",
    "\n",
    "tax_bracket  = (eval(input(\"Enter the tax bracket(as decimal): \")))\n",
    "municipal_bond_interest = (eval(input(\"Enter the municipal bond interest rate(as percentage): \")))\n",
    "CD_interest_rate = ((municipal_bond_interest)/(1-tax_bracket))\n",
    "print(round(CD_interest_rate,2))\n",
    "\n"
   ]
  },
  {
   "cell_type": "code",
   "execution_count": 82,
   "metadata": {},
   "outputs": [
    {
     "name": "stdout",
     "output_type": "stream",
     "text": [
      "Enter a number with decimals: 123.45677\n",
      "3 digits to the left\n",
      "5 digits to the right\n"
     ]
    }
   ],
   "source": [
    "# Exercise 109.Analyze a number. Write a program that requests a positive number containing a decimal point as input and \n",
    "# then displays the number of digits to the left of the decimal point and the number of digits to the right of the decimal \n",
    "# point.\n",
    "\n",
    "\n",
    "number = (input(\"Enter a number with decimals: \"))\n",
    "integer = number.find(\".\")\n",
    "decimal = (len(number) - integer -(1))\n",
    "print(integer, \"digits to the left\")\n",
    "print(decimal, \"digits to the right\")"
   ]
  },
  {
   "cell_type": "code",
   "execution_count": 83,
   "metadata": {},
   "outputs": [
    {
     "name": "stdout",
     "output_type": "stream",
     "text": [
      "Enter a sentence: What you don't know won't hurt you\n",
      "Enter a word to replace: know\n",
      "Enter replacement: owe\n",
      "What you don't know won't hurt you\n",
      "What you don't owe won't hurt you\n"
     ]
    }
   ],
   "source": [
    "# Exercise 110. Word replacement. Write a program that requests a sentence, a word in the sentence, and another word and \n",
    "#then displays the sentence with the first word replaced by the second. \n",
    "\n",
    "\n",
    "sentence = (input(\"Enter a sentence: \"))\n",
    "word_one = (input(\"Enter a word to replace: \"))\n",
    "word_two = (input(\"Enter replacement: \"))\n",
    "new_sentence = sentence.replace(word_one,word_two)\n",
    "print(sentence)\n",
    "print(new_sentence)"
   ]
  },
  {
   "cell_type": "code",
   "execution_count": 21,
   "metadata": {},
   "outputs": [
    {
     "name": "stdout",
     "output_type": "stream",
     "text": [
      "         amount\n",
      "height\n",
      "     speed     \n"
     ]
    }
   ],
   "source": [
    "#Justify output (r.just),(l.just),(c.just) - Good for tables\n",
    "\n",
    "\n",
    "print(\"amount\".rjust(15))\n",
    "print(\"height\".ljust(5))\n",
    "print(\"speed\".center(15))\n"
   ]
  },
  {
   "cell_type": "markdown",
   "metadata": {},
   "source": [
    "# Exercises 2.4 - Lists, Tuples and files"
   ]
  },
  {
   "cell_type": "code",
   "execution_count": 90,
   "metadata": {},
   "outputs": [
    {
     "name": "stdout",
     "output_type": "stream",
     "text": [
      "['Delaware', 'Pennsylvania', 'New Jersey', 'Georgia', 'Connecticut', 'Massachusetts', 'Maryland', 'South Carolina', 'New Hampshire', 'Virginia', 'New York', 'North Carolina', 'Rhode Island', 'Vermont', 'Kentucky', 'Tennessee', 'Ohio', 'Louisiana', 'Indiana', 'Mississippi', 'Illinois', 'Alabama', 'Maine', 'Missouri', 'Arkansas', 'Michigan', 'Florida', 'Texas', 'Iowa', 'Wisconsin', 'California', 'Minnesota', 'Oregon', 'Kansas', 'West Virginia', 'Nevada', 'Nebraska', 'Colorado', 'North Dakota', 'South Dakota', 'Montana', 'Washington', 'Idaho', 'Wyoming', 'Utah', 'Oklahoma', 'New Mexico', 'Arizona', 'Alaska', 'Hawaii']\n",
      "==================================================================================================================\n",
      "Delaware Hawaii\n",
      "Pennsylvania Hawaii\n",
      "Alaska Hawaii\n",
      "Delaware Delaware\n",
      "48\n",
      "Ohio\n",
      "Hawaii Hawaii\n",
      "DELAWARE\n",
      "['DELAWARE', 'Pennsylvania', 'New Jersey', 'Georgia', 'Connecticut', 'Massachusetts', 'Maryland', 'South Carolina', 'New Hampshire', 'Virginia', 'New York', 'North Carolina', 'Rhode Island', 'Vermont', 'Kentucky', 'Tennessee', 'Ohio', 'Louisiana', 'Indiana', 'Mississippi', 'Illinois', 'Alabama', 'Maine', 'Missouri', 'Arkansas', 'Michigan', 'Florida', 'Texas', 'Iowa', 'Wisconsin', 'California', 'Minnesota', 'Oregon', 'Kansas', 'West Virginia', 'Nevada', 'Nebraska', 'Colorado', 'North Dakota', 'South Dakota', 'Montana', 'Washington', 'Idaho', 'Wyoming', 'Utah', 'Oklahoma', 'New Mexico', 'Arizona', 'Alaska', 'Hawaii', 'Puerto Rico']\n",
      "Puerto Rico\n",
      "['United States', 'DELAWARE', 'Pennsylvania', 'New Jersey', 'Georgia', 'Connecticut', 'Massachusetts', 'Maryland', 'South Carolina', 'New Hampshire', 'Virginia', 'New York', 'North Carolina', 'Rhode Island', 'Vermont', 'Kentucky', 'Tennessee', 'Ohio', 'Louisiana', 'Indiana', 'Mississippi', 'Illinois', 'Alabama', 'Maine', 'Missouri', 'Arkansas', 'Michigan', 'Florida', 'Texas', 'Iowa', 'Wisconsin', 'California', 'Minnesota', 'Oregon', 'Kansas', 'West Virginia', 'Nevada', 'Nebraska', 'Colorado', 'North Dakota', 'South Dakota', 'Montana', 'Washington', 'Idaho', 'Wyoming', 'Utah', 'Oklahoma', 'New Mexico', 'Arizona', 'Alaska', 'Hawaii', 'Puerto Rico']\n",
      "['United States', 'DELAWARE', 'Pennsylvania']\n",
      "['United States', 'DELAWARE', 'Pennsylvania']\n",
      "['Alaska', 'Hawaii', 'Puerto Rico']\n",
      "[]\n",
      "New Jersey\n",
      "['Hawaii', 'Puerto Rico']\n",
      "Arizona\n",
      "10\n",
      "0\n",
      "50\n",
      "['United States', 'DELAWARE', 'Pennsylvania', 'New Jersey', 'Georgia', 'Connecticut', 'Massachusetts', 'Maryland', 'South Carolina', 'New Hampshire', 'Virginia', 'New York', 'North Carolina', 'Rhode Island', 'Vermont', 'Kentucky', 'Tennessee', 'Ohio', 'Louisiana', 'Indiana', 'Mississippi', 'Illinois', 'Alabama', 'Maine', 'Missouri', 'Arkansas', 'Michigan', 'Florida', 'Texas', 'Iowa', 'Wisconsin', 'California', 'Minnesota', 'Oregon', 'Kansas', 'West Virginia', 'Nevada', 'Nebraska', 'Colorado', 'North Dakota', 'South Dakota', 'Montana', 'Washington', 'Idaho', 'Wyoming', 'Utah', 'Oklahoma', 'New Mexico', 'Arizona', 'Alaska', 'Hawaii', 'Puerto Rico', 'Puerto Rico', 'Guam']\n",
      "['Puerto Rico', 'Puerto Rico', 'Guam']\n",
      "['United States', 'DELAWARE', 'Pennsylvania', 'New Jersey', 'Georgia', 'Connecticut', 'Massachusetts', 'Maryland', 'South Carolina', 'New Hampshire', 'Virginia', 'New York', 'North Carolina', 'Rhode Island', 'Vermont', 'Kentucky', 'Tennessee', 'Ohio', 'Louisiana', 'Indiana', 'Mississippi', 'Illinois', 'Alabama', 'Maine', 'Missouri', 'Arkansas', 'Michigan', 'Florida', 'Texas', 'Iowa', 'Wisconsin', 'California', 'Minnesota', 'Oregon', 'Kansas', 'West Virginia', 'Nevada', 'Nebraska', 'Colorado', 'North Dakota', 'South Dakota', 'Montana', 'Washington', 'Idaho', 'Wyoming', 'Utah', 'Oklahoma', 'New Mexico', 'Arizona', 'Alaska', 'Hawaii', 'Puerto Rico', 'Puerto Rico', 'Guam', ['Puerto Rico', 'Guam']]\n",
      "['Puerto Rico', 'Guam', ['Puerto Rico', 'Guam']]\n",
      "['United States', 'DELAWARE', 'Pennsylvania', 'New Jersey', 'Georgia', 'Connecticut', 'Massachusetts', 'Maryland', 'South Carolina', 'New Hampshire', 'Virginia', 'New York', 'North Carolina', 'Rhode Island', 'Vermont', 'Kentucky', 'Tennessee', 'Ohio', 'Louisiana', 'Indiana', 'Mississippi', 'Illinois', 'Alabama', 'Maine', 'Missouri', 'Arkansas', 'Michigan', 'Florida', 'Texas', 'Iowa', 'Wisconsin', 'California', 'Minnesota', 'Oregon', 'Kansas', 'West Virginia', 'Nevada', 'Nebraska', 'Colorado', 'North Dakota', 'South Dakota', 'Montana', 'Washington', 'Idaho', 'Wyoming', 'Utah', 'Oklahoma', 'New Mexico', 'Arizona', 'Alaska', 'Hawaii', 'Puerto Rico', 'Puerto Rico', 'Guam', ['Puerto Rico', 'Guam'], 'Puerto Rico', 'Guam']\n",
      "[['Puerto Rico', 'Guam'], 'Puerto Rico', 'Guam']\n",
      "['United States', 'Commonwealth of Pennsylvania', 'Pennsylvania']\n",
      "['United States', 'Commonwealth of Pennsylvania', 'Pennsylvania']\n",
      "['Guam']\n",
      "['Pennsylvania']\n",
      "['United States', 'Commonwealth of Pennsylvania', 'Pennsylvania', 'New Jersey', 'Georgia', 'Connecticut', 'Massachusetts', 'Maryland', 'South Carolina', 'New Hampshire', 'Virginia', 'New York', 'North Carolina', 'Rhode Island', 'Vermont', 'Kentucky', 'Tennessee', 'Ohio', 'Louisiana', 'Indiana', 'Mississippi', 'Illinois', 'Alabama', 'Maine', 'Missouri', 'Arkansas', 'Michigan', 'Florida', 'Texas', 'Iowa', 'Wisconsin', 'California', 'Minnesota', 'Oregon', 'Kansas', 'West Virginia', 'Nevada', 'Nebraska', 'Colorado', 'North Dakota', 'South Dakota', 'Montana', 'Washington', 'Idaho', 'Wyoming', 'Utah', 'Oklahoma', 'New Mexico', 'Arizona', 'Alaska', 'Hawaii', 'Puerto Rico', 'Puerto Rico', 'Guam', ['Puerto Rico', 'Guam'], 'Puerto Rico', 'Guam']\n",
      "Commonwealth of Pennsylvania,Pennsylvania,New Jersey\n"
     ]
    }
   ],
   "source": [
    "# In Exercises 1 through 48, assume that the list states contains the names of the fifty US states in the order they joined\n",
    "# the union, and determine the output displayed by the lines of code.\n",
    "\n",
    "states = [\"Delaware\",\"Pennsylvania\",\"New Jersey\",\"Georgia\",\"Connecticut\",\"Massachusetts\",\"Maryland\",\"South Carolina\",\"New Hampshire\",\"Virginia\",\"New York\",\"North Carolina\",\"Rhode Island\",\"Vermont\",\"Kentucky\",\"Tennessee\",\"Ohio\",\"Louisiana\",\"Indiana\",\"Mississippi\",\"Illinois\",\"Alabama\",\"Maine\",\"Missouri\",\"Arkansas\",\"Michigan\",\"Florida\",\"Texas\",\"Iowa\",\"Wisconsin\",\"California\",\"Minnesota\",\"Oregon\",\"Kansas\",\"West Virginia\",\"Nevada\",\"Nebraska\",\"Colorado\",\"North Dakota\",\"South Dakota\",\"Montana\",\"Washington\",\"Idaho\",\"Wyoming\",\"Utah\",\"Oklahoma\",\"New Mexico\",\"Arizona\",\"Alaska\",\"Hawaii\"]\n",
    "print(states)\n",
    "\n",
    "print(\"==================================================================================================================\")\n",
    "\n",
    "print(states[0],states[-1])\n",
    "print(states[1],states[-1])\n",
    "print(states[48],states[49])\n",
    "print(states[0],states[-50])\n",
    "print(states.index(\"Alaska\"))\n",
    "print(states[states.index(\"Ohio\")])\n",
    "print(states[len(states) - 1], (states[-1]))\n",
    "\n",
    "states[0] = states[0].upper()\n",
    "print(states[0])\n",
    "\n",
    "states.append(\"Puerto Rico\")\n",
    "print(states)\n",
    "print(states[50])\n",
    "\n",
    "\n",
    "states.insert(0,\"United States\")\n",
    "print(states)\n",
    "\n",
    "print(states[0:3])\n",
    "print(states[:3])\n",
    "print(states[-3:])\n",
    "\n",
    "print(states[3:3])\n",
    "print(states[1:10][2])\n",
    "print(states[-2:len(states)])\n",
    "print(states[:][-4])\n",
    "print(len(states[10:20]))\n",
    "print(len([]))\n",
    "print(len(states[1:-1]))\n",
    "\n",
    "states.extend([\"Puerto Rico\", \"Guam\"])\n",
    "print(states)\n",
    "print(states[-3:])\n",
    "\n",
    "states.append([\"Puerto Rico\", \"Guam\"])\n",
    "print(states)\n",
    "print(states[-3:])\n",
    "\n",
    "\n",
    "states += [\"Puerto Rico\", \"Guam\"]\n",
    "print(states)\n",
    "print(states[-3:])\n",
    "\n",
    "states[1] = \"Commonwealth of Pennsylvania\" \n",
    "print(states[:3])\n",
    "\n",
    "\n",
    "del states[1] \n",
    "states.insert(1, \"Commonwealth of Pennsylvania\") \n",
    "print(states[:3])\n",
    "\n",
    "\n",
    "print(states[-4].split())\n",
    "print(states[2].split())\n",
    "\n",
    "print(states)\n",
    "print(\",\".join(states[1:4]))"
   ]
  },
  {
   "cell_type": "code",
   "execution_count": null,
   "metadata": {},
   "outputs": [],
   "source": [
    "# In Exercises 55 through 58, assume that the list nums = [6,2,8,0] and determine the output displayed."
   ]
  },
  {
   "cell_type": "code",
   "execution_count": 95,
   "metadata": {},
   "outputs": [
    {
     "name": "stdout",
     "output_type": "stream",
     "text": [
      "Largest number is 8\n",
      "Length is 4\n",
      "Total is 16\n"
     ]
    }
   ],
   "source": [
    "#Exercise 55, 56 and 57.\n",
    "\n",
    "nums = [6,2,8,0]\n",
    "\n",
    "print(\"Largest number is\",max(nums))\n",
    "print(\"Length is\",len(nums))\n",
    "print(\"Total is\",sum(nums))\n"
   ]
  },
  {
   "cell_type": "code",
   "execution_count": 96,
   "metadata": {},
   "outputs": [],
   "source": [
    "# In Exercises 59 through 94, determine the output displayed by the lines of code."
   ]
  },
  {
   "cell_type": "code",
   "execution_count": 97,
   "metadata": {},
   "outputs": [
    {
     "name": "stdout",
     "output_type": "stream",
     "text": [
      "['This', 'sentence', 'contains', 'five', 'words']\n",
      "This sentence contains five words\n",
      "This sentence contains six different words\n"
     ]
    }
   ],
   "source": [
    "# Exercise 59.\n",
    "\n",
    "L=[\"sentence\",\"contains\",\"five\",\"words\"]    \n",
    "L.insert(0, \"This\") \n",
    "print(L)\n",
    "print((\" \").join(L))\n",
    "del L[3]\n",
    "L.insert(3,\"six\")\n",
    "L.insert(4, \"different\")\n",
    "print((\" \").join(L))\n",
    "\n"
   ]
  },
  {
   "cell_type": "code",
   "execution_count": 98,
   "metadata": {},
   "outputs": [
    {
     "name": "stdout",
     "output_type": "stream",
     "text": [
      "['all', 'for', 'one']\n"
     ]
    }
   ],
   "source": [
    "# Exercise 60\n",
    "L = [\"one\",\"for\",\"all\"]\n",
    "L[0],L[-1] = L[-1],L[0]\n",
    "print(L)"
   ]
  },
  {
   "cell_type": "code",
   "execution_count": 100,
   "metadata": {},
   "outputs": [
    {
     "name": "stdout",
     "output_type": "stream",
     "text": [
      "abcd\n"
     ]
    }
   ],
   "source": [
    "# Exercise 74\n",
    "\n",
    "infile = open(\"ABC.csv\",\"r\")\n",
    "alpha = [line.rstrip() for line in infile]\n",
    "infile.close()\n",
    "word = (\"\").join(alpha)\n",
    "print(word)"
   ]
  },
  {
   "cell_type": "code",
   "execution_count": 101,
   "metadata": {},
   "outputs": [
    {
     "name": "stdout",
     "output_type": "stream",
     "text": [
      "programmer\n"
     ]
    }
   ],
   "source": [
    "# Exercise 75.\n",
    "\n",
    "infile = open(\"dev.csv\",\"r\")\n",
    "dev = [line.rstrip() for line in infile]\n",
    "infile.close()\n",
    "dev[0],dev[-1] = dev[-1],dev[0]\n",
    "word = (\"\").join(dev)\n",
    "print(word)"
   ]
  },
  {
   "cell_type": "code",
   "execution_count": 102,
   "metadata": {},
   "outputs": [
    {
     "name": "stdout",
     "output_type": "stream",
     "text": [
      "Follow your own star\n"
     ]
    }
   ],
   "source": [
    "# Exercise 77.\n",
    "\n",
    "\n",
    "infile = open(\"star.csv\",\"r\")\n",
    "star = [line.rstrip() for line in infile]\n",
    "infile.close()\n",
    "star.insert(0,\"Follow\")\n",
    "word = (\" \").join(star)\n",
    "print(word)\n"
   ]
  }
 ],
 "metadata": {
  "kernelspec": {
   "display_name": "Python 3",
   "language": "python",
   "name": "python3"
  },
  "language_info": {
   "codemirror_mode": {
    "name": "ipython",
    "version": 3
   },
   "file_extension": ".py",
   "mimetype": "text/x-python",
   "name": "python",
   "nbconvert_exporter": "python",
   "pygments_lexer": "ipython3",
   "version": "3.7.3"
  }
 },
 "nbformat": 4,
 "nbformat_minor": 2
}
