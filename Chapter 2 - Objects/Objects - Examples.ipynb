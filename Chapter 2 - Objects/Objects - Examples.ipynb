{
 "cells": [
  {
   "cell_type": "markdown",
   "metadata": {},
   "source": [
    "# Chapter 2 - Core Objects , Variables, Input and Output"
   ]
  },
  {
   "cell_type": "markdown",
   "metadata": {},
   "source": [
    "#  2.1 Numbers"
   ]
  },
  {
   "cell_type": "code",
   "execution_count": 3,
   "metadata": {},
   "outputs": [
    {
     "name": "stdout",
     "output_type": "stream",
     "text": [
      "5 1 6\n",
      "4.0 64 14\n"
     ]
    }
   ],
   "source": [
    "# Example 1. Arithmethic operations. The following program applies each of the five standard arithmetic operations. \n",
    "# [Run] indicatesthat the program should be executed (by pressing the F5) key or clicking the Run menu).. The lines after \n",
    "# [Run] show the output of the proram. In the evaluation of 2 * (3 + 4), the operation inside the parentheses was calculated\n",
    "# first.(Expressions inside parentheses are always evaluated first)\n",
    "\n",
    "print(3 + 2, 3 - 2, 3 * 2)\n",
    "print(8 / 2, 8**2, 2 * (3 + 4))\n",
    "\n"
   ]
  },
  {
   "cell_type": "code",
   "execution_count": 4,
   "metadata": {},
   "outputs": [
    {
     "name": "stdout",
     "output_type": "stream",
     "text": [
      "700\n"
     ]
    }
   ],
   "source": [
    "# Example 2. Distance traveled. The following program uses the speed and the time elapsed to calculate the distance traveled.\n",
    "# The names given to the values are called variables.The first line of the program is said to create(or declare) the \n",
    "# variable speed and to assign it to the value 50. Similarly, the second and third lines create and assign values to toher \n",
    "# variables.\n",
    "\n",
    "\n",
    "speed = 50 \n",
    "time_elapsed = 14 \n",
    "distance = speed * time_elapsed\n",
    "print(distance)"
   ]
  },
  {
   "cell_type": "code",
   "execution_count": 8,
   "metadata": {},
   "outputs": [
    {
     "name": "stdout",
     "output_type": "stream",
     "text": [
      "11\n",
      "8\n",
      "0.667\n"
     ]
    }
   ],
   "source": [
    "# Example 3.Functions. The following program evaluates each of the preceding three functions at an expression:\n",
    "\n",
    "a = 2\n",
    "b = 3\n",
    "\n",
    "print(abs(1 - (4 * b)))\n",
    "print(int((a**b) + .8))\n",
    "print(round(a/b,3))  "
   ]
  },
  {
   "cell_type": "code",
   "execution_count": 11,
   "metadata": {},
   "outputs": [
    {
     "name": "stdout",
     "output_type": "stream",
     "text": [
      "7 2 4\n",
      "3 8\n"
     ]
    }
   ],
   "source": [
    "# Example 4. Augmented assignments. The following program illustrates the different augmented assignment operators\n",
    "\n",
    "num1 = 6\n",
    "num1 = num1 + 1\n",
    "\n",
    "num2 = 7\n",
    "num2 = num2 - 5\n",
    "\n",
    "num3 = 8\n",
    "num3 = num3 / 2\n",
    "print(num1,num2,round(num3))\n",
    "\n",
    "num1 = 1\n",
    "num1 = num1 * 3\n",
    "\n",
    "num2 = 2\n",
    "num2 = num2 ** 3\n",
    "print(num1,num2)"
   ]
  },
  {
   "cell_type": "code",
   "execution_count": 12,
   "metadata": {},
   "outputs": [
    {
     "name": "stdout",
     "output_type": "stream",
     "text": [
      "3 5\n"
     ]
    }
   ],
   "source": [
    "# Example 5. Convert lenghts. The following program convert 41 inches to 3 feeet and 5 inches.\n",
    "\n",
    "total_inches = 41\n",
    "feet = total_inches // 12\n",
    "inches = total_inches % 12\n",
    "print(feet,inches)"
   ]
  },
  {
   "cell_type": "markdown",
   "metadata": {},
   "source": [
    "# 2.2 Strings"
   ]
  },
  {
   "cell_type": "code",
   "execution_count": 14,
   "metadata": {},
   "outputs": [
    {
     "name": "stdout",
     "output_type": "stream",
     "text": [
      "Python\n",
      "y n th\n",
      "6\n",
      "-1\n",
      "9\n"
     ]
    }
   ],
   "source": [
    "# Example 1: Indices. The following program illustrates the use of indices.\n",
    "    \n",
    "print(\"Python\")\n",
    "print(\"Python\"[1],\"Python\"[5],\"Python\"[2:4])\n",
    "\n",
    "str1 = \"Hello World\"\n",
    "print(str1.find(\"W\"))\n",
    "print(str1.find(\"x\"))\n",
    "print(str1.rfind(\"l\"))"
   ]
  },
  {
   "cell_type": "code",
   "execution_count": 15,
   "metadata": {},
   "outputs": [
    {
     "name": "stdout",
     "output_type": "stream",
     "text": [
      "Python\n",
      "n t yth\n",
      "g\n",
      "m & e\n",
      "spam & egg\n"
     ]
    }
   ],
   "source": [
    "# Example 2: Negative indices. The following program illustrates negative indices.\n",
    "    \n",
    "print(\"Python\")\n",
    "print(\"Python\"[-1],\"Python\"[-4],\"Python\"[-5:-2])\n",
    "\n",
    "str1 = \"spam & eggs\"\n",
    "print(str1[-2])\n",
    "print(str1[-8:-3])\n",
    "print(str1[0:-1])"
   ]
  },
  {
   "cell_type": "code",
   "execution_count": 16,
   "metadata": {},
   "outputs": [
    {
     "name": "stdout",
     "output_type": "stream",
     "text": [
      "thon Pyth Python\n",
      "hon Pyt\n"
     ]
    }
   ],
   "source": [
    "# Example 3: Default bonds. The following program illustrates default bounds.\n",
    "    \n",
    "print(\"Python\"[2:],\"Python\"[:4],\"Python\"[:])\n",
    "print(\"Python\"[-3:],\"Python\"[:-3])\n",
    "    "
   ]
  },
  {
   "cell_type": "code",
   "execution_count": 17,
   "metadata": {},
   "outputs": [
    {
     "name": "stdout",
     "output_type": "stream",
     "text": [
      "Enter a full name: Adriana Hernandez\n",
      "Last name:  Hernandez\n",
      "First name:  Adriana\n"
     ]
    }
   ],
   "source": [
    "# Example 4:Parse a name. The following program requests a name from the user and then parses the name. When the program\n",
    "# is run, the phrase \"Enter a full name: \" appears and execution of the program pauses. After the user types the words shown\n",
    "# in black and presses the Enter (or return) key, the last two lines of output are displayed. \n",
    "\n",
    "full_name = input(\"Enter a full name: \") \n",
    "n = full_name.rfind(\" \")\n",
    "print(\"Last name: \", full_name[n+1:])\n",
    "print(\"First name: \", full_name[:n])"
   ]
  },
  {
   "cell_type": "code",
   "execution_count": 19,
   "metadata": {},
   "outputs": [
    {
     "name": "stdout",
     "output_type": "stream",
     "text": [
      "23\n",
      "23.0\n",
      "23\n",
      "23.5\n",
      "33\n"
     ]
    }
   ],
   "source": [
    "# Example 5:Illustrate functions. The following program illustrates the use of int, float an eval functions.\n",
    "\n",
    "print(int(\"23\"))\n",
    "print(float(\"23\"))\n",
    "print(eval(\"23\"))\n",
    "print(eval(\"23.5\"))\n",
    "\n",
    "x = 5\n",
    "print(eval(\"23 + (2 * x)\"))  "
   ]
  },
  {
   "cell_type": "code",
   "execution_count": 23,
   "metadata": {},
   "outputs": [
    {
     "name": "stdout",
     "output_type": "stream",
     "text": [
      "Enter a full name: Adriana Andreina Hernandez\n",
      "Last name:  Hernandez\n",
      "First name:  Adriana Andreina\n"
     ]
    }
   ],
   "source": [
    "# Example 6:Parse a name. The following rewrite of Example 4 uses documentation.The first comment describes the entire\n",
    "# program, the comment in the third line gives the meaning of a variable, and the final comment describes the purpose\n",
    "# of the two lines that follow it.\n",
    "\n",
    "#Break a name into two parts  -- the last name and the first names\n",
    "full_name = input(\"Enter a full name: \") \n",
    "n = full_name.rfind(\" \")\n",
    "\n",
    "#Dsiplay the desired information\n",
    "print(\"Last name: \", full_name[n+1:])    #Index of the space preceding the last name\n",
    "print(\"First name: \", full_name[:n])\n"
   ]
  },
  {
   "cell_type": "markdown",
   "metadata": {},
   "source": [
    "# 2.3 Output"
   ]
  },
  {
   "cell_type": "code",
   "execution_count": 24,
   "metadata": {},
   "outputs": [
    {
     "name": "stdout",
     "output_type": "stream",
     "text": [
      "01234567890123456\n",
      "a\tb\tc\n",
      "a    b    c\n",
      "Nudge,     nudge, \n",
      "wink,      wink\n"
     ]
    }
   ],
   "source": [
    "# Example 1: The following program demosntates the use of the escape sequences \\t and \\n\n",
    "\n",
    "\n",
    "## Demonstrate use of escape sequences\n",
    "print(\"01234567890123456\")\n",
    "print(\"a\\tb\\tc\")\n",
    "print(\"a\\tb\\tc\".expandtabs(5))\n",
    "print(\"Nudge, \\tnudge, \\nwink, \\twink\".expandtabs(11))\n"
   ]
  },
  {
   "cell_type": "code",
   "execution_count": 26,
   "metadata": {},
   "outputs": [
    {
     "name": "stdout",
     "output_type": "stream",
     "text": [
      "0123456789012345678901234567\n",
      "Rank Player               HR\n",
      "  1  Barry Bonds         762\n",
      "  2  Hank Aaron          755\n",
      "  3  Babe Ruth           714\n"
     ]
    }
   ],
   "source": [
    "# Example 2: Justifying output. The follwong program uses three justification methods to create a table of the top three\n",
    "# home run hitters in professional baseball. The first line was added to identify the columns of the table. The first five\n",
    "# columns (columns 0 through 4) list the ranks of the top three hitters. The numbers 1,2 and 3 are each centered in a field\n",
    "# of width 5. The next 20 columns (columns 5 through 24) hold the names of the top three hitters, with each name left \n",
    "# justified in a field with 20. Each name is padded on the right with space characters. The last three columns(col 0 to 27)\n",
    "# hold the number of home runs hit by the players. Since each of the numbers is three digits long, they exactly fill the\n",
    "# field of width 3 set aside for them. The output for this column would be the same even if the rjust method was not used.\n",
    "\n",
    "\n",
    "\n",
    "## Demonstrate  justification of output\n",
    "print(\"0123456789012345678901234567\")\n",
    "print(\"Rank\".ljust(5),\"Player\".ljust(20),\"HR\".rjust(3), sep =\"\")\n",
    "print(\"1\".center(5), \"Barry Bonds\".ljust(20), \"762\". rjust(3), sep = \"\")\n",
    "print(\"2\".center(5), \"Hank Aaron\".ljust(20), \"755\". rjust(3), sep = \"\")\n",
    "print(\"3\".center(5), \"Babe Ruth\".ljust(20), \"714\". rjust(3), sep = \"\")\n",
    "\n"
   ]
  },
  {
   "cell_type": "code",
   "execution_count": 27,
   "metadata": {},
   "outputs": [
    {
     "name": "stdout",
     "output_type": "stream",
     "text": [
      "0123456789012345678901234567\n",
      "Rank Player                HR\n",
      "  1  Barry Bonds          762\n",
      "  2  Hank Aaron           755\n",
      "  3  Babe Ruth            714\n"
     ]
    }
   ],
   "source": [
    "# Example 3:Justifying output. The following program produces the same output as Example 2, but using the format method. \n",
    "# Consider the fourth line. The formatting braces {0:^5n}, {1:<20s} and {2:>3n} determine the formatting of the number 1,\n",
    "# the string \"Barry Bonds\" and the number 762, respectively.\n",
    "\n",
    "\n",
    "## Demonstrate justification of output\n",
    "print(\"0123456789012345678901234567\")\n",
    "print(\"{0:^5s}{1:<20s} {2:>3s}\".format(\"Rank\", \"Player\", \"HR\"))\n",
    "print(\"{0:^5n}{1:<20s} {2:>3n}\".format(1, \"Barry Bonds\", 762))\n",
    "print(\"{0:^5n}{1:<20s} {2:>3n}\".format(2, \"Hank Aaron\", 755))\n",
    "print(\"{0:^5n}{1:<20s} {2:>3n}\".format(3, \"Babe Ruth\", 714))\n"
   ]
  },
  {
   "cell_type": "code",
   "execution_count": 28,
   "metadata": {},
   "outputs": [
    {
     "name": "stdout",
     "output_type": "stream",
     "text": [
      "The area of Texas is 268,820 square miles\n",
      "The population of Texas is 8.56% of the U.S population\n"
     ]
    }
   ],
   "source": [
    "# Example 4:State Data. The following program demonstrates the use of placing curly braces inside a string.\n",
    "       \n",
    "    \n",
    "## Demonstrate use of the format method.    \n",
    "print(\"The area of {0:s} is {1:,d} square miles\".format(\"Texas\", 268820))\n",
    "str1 = \"The population of {0:s} is {1:0.2%} of the U.S population\"\n",
    "print(str1.format(\"Texas\", 26448000/309000000))"
   ]
  },
  {
   "cell_type": "markdown",
   "metadata": {},
   "source": [
    "# 2.4 Lists, Tuples, and Files - An introduction"
   ]
  },
  {
   "cell_type": "code",
   "execution_count": 30,
   "metadata": {},
   "outputs": [
    {
     "name": "stdout",
     "output_type": "stream",
     "text": [
      "Enter the first grade: 89\n",
      "Enter the second grade: 77\n",
      "Enter the third grade: 82\n",
      "Enter the fourth grade: 95\n",
      "Enter the fifth grade: 81\n",
      "Average grade: 88.67\n"
     ]
    }
   ],
   "source": [
    "# Example 1. Grades. The following program requests five grades as input and displays the average after dropping the two \n",
    "# lowest grades. The grades are placed into the list grades, the twolowest gardes are removed from the list, and the sum\n",
    "# and len functions are used to calculate the average of the remaining grades.\n",
    "\n",
    "## Calculate average of grades.\n",
    "\n",
    "\n",
    "#Create the variable grades and assign it to an empty list\n",
    "grades = []  \n",
    "\n",
    "\n",
    "# Acquire all the numbers and send them to the list.\n",
    "num  = float(input(\"Enter the first grade: \"))   \n",
    "grades.append(num)\n",
    "\n",
    "num  = float(input(\"Enter the second grade: \"))\n",
    "grades.append(num)\n",
    "\n",
    "num  = float(input(\"Enter the third grade: \"))   \n",
    "grades.append(num)\n",
    "\n",
    "num  = float(input(\"Enter the fourth grade: \"))\n",
    "grades.append(num)\n",
    "\n",
    "num  = float(input(\"Enter the fifth grade: \"))\n",
    "grades.append(num)\n",
    "\n",
    "\n",
    "#Find 2 lowest grades and rmove them from the list\n",
    "minimum_grade = min(grades)\n",
    "grades.remove(minimum_grade)\n",
    "\n",
    "minimum_grade = min(grades)\n",
    "grades.remove(minimum_grade)\n",
    "\n",
    "#Calculate average\n",
    "average = sum(grades) / len(grades)\n",
    "print(\"Average grade: {0:.2f}\".format(average))"
   ]
  },
  {
   "cell_type": "code",
   "execution_count": 32,
   "metadata": {},
   "outputs": [
    {
     "name": "stdout",
     "output_type": "stream",
     "text": [
      "['a', 'b', 'c']\n",
      "['a', 'b', 'c']\n",
      "['a', 'b', 'c']\n",
      "['a', 'b', 'c']\n"
     ]
    }
   ],
   "source": [
    "# Example 2. The split method. The following statements each display the list[\"a\",\"b\",\"c\"]\n",
    "\n",
    "print(\"a,b,c\".split(\",\"))\n",
    "print(\"a**b**c\".split(\"**\"))\n",
    "print(\"a\\nb\\nc\".split())\n",
    "print(\"a b c\".split())"
   ]
  },
  {
   "cell_type": "code",
   "execution_count": 38,
   "metadata": {},
   "outputs": [
    {
     "name": "stdout",
     "output_type": "stream",
     "text": [
      "To be or not to be.\n",
      "Snap, Crackle, Pop\n"
     ]
    }
   ],
   "source": [
    "# Example 3. The join method. The following program shows how the join method can be used to display the items from a list\n",
    "# of strings.\n",
    "\n",
    "\n",
    "line = [\"To\", \"be\", \"or\", \"not\", \"to\", \"be.\"]\n",
    "print(\" \".join(line))\n",
    "krispies = [\"Snap\", \"Crackle\", \"Pop\"]\n",
    "print(\", \".join(krispies))"
   ]
  },
  {
   "cell_type": "code",
   "execution_count": 39,
   "metadata": {},
   "outputs": [
    {
     "name": "stdout",
     "output_type": "stream",
     "text": [
      "(5, 7, 6, 2)\n",
      "4 7 2 20\n",
      "5 2 (5, 7)\n"
     ]
    }
   ],
   "source": [
    "# Example 4. Tuple Functions.The following program shows that tuples have several of the same functions as list\n",
    "\n",
    "t = 5, 7, 6, 2\n",
    "print(t)\n",
    "print(len(t),max(t),min(t),sum(t))\n",
    "print(t[0],t[-1],t[:2])"
   ]
  },
  {
   "cell_type": "code",
   "execution_count": 41,
   "metadata": {},
   "outputs": [
    {
     "name": "stdout",
     "output_type": "stream",
     "text": [
      "6 5\n"
     ]
    }
   ],
   "source": [
    "# Example 5. Swap values. The following program swaps the values of two variables. In essence, the third line of the of the\n",
    "# program is assigning the tuple(6,5) to the tuple(x,y)\n",
    "\n",
    "x = 5\n",
    "y = 6\n",
    "x , y = y , x\n",
    "print(x, y)"
   ]
  },
  {
   "cell_type": "code",
   "execution_count": 43,
   "metadata": {},
   "outputs": [
    {
     "name": "stdout",
     "output_type": "stream",
     "text": [
      "The 2010 population of the Midwest was 66.9 millions\n",
      "The total 2010 population of the US was: 308.7 million\n"
     ]
    }
   ],
   "source": [
    "# Example 6. U.S regions. The list regions contains four tuples, with each tuple giving the name and 2010 population\n",
    "# (in millions) of a region of the United States. The following program displays the 2010 population of the Midwest and\n",
    "# calculates the 2010 population of the United States.\n",
    "\n",
    "\n",
    "regions = [(\"Northeast\",55.3),(\"Midwest\",66.9),(\"South\",114.6),(\"West\",71.9)]\n",
    "print(\"The 2010 population of the\", regions[1][0], \"was\",regions[1][1] , \"millions\")\n",
    "\n",
    "total_population = regions[0][1] + regions[1][1] + regions[2][1] + regions[3][1] \n",
    "\n",
    "\n",
    "print(\"The total 2010 population of the US was: {0:.1f} million\".format(total_population))"
   ]
  }
 ],
 "metadata": {
  "kernelspec": {
   "display_name": "Python 3",
   "language": "python",
   "name": "python3"
  },
  "language_info": {
   "codemirror_mode": {
    "name": "ipython",
    "version": 3
   },
   "file_extension": ".py",
   "mimetype": "text/x-python",
   "name": "python",
   "nbconvert_exporter": "python",
   "pygments_lexer": "ipython3",
   "version": "3.7.3"
  }
 },
 "nbformat": 4,
 "nbformat_minor": 2
}
