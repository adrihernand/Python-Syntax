{
 "cells": [
  {
   "cell_type": "code",
   "execution_count": 1,
   "metadata": {},
   "outputs": [
    {
     "data": {
      "text/plain": [
       "[9, 4, 1, 0, 1, 4]"
      ]
     },
     "execution_count": 1,
     "metadata": {},
     "output_type": "execute_result"
    }
   ],
   "source": [
    "                                          # FOR LOOPS examples:\n",
    "\n",
    "#Creando lista de loop\n",
    "[x * x for x in range(-3,3)]\n"
   ]
  },
  {
   "cell_type": "code",
   "execution_count": null,
   "metadata": {},
   "outputs": [],
   "source": [
    "#forma mas tradicional de hacer este loop sin que sea una lista\n",
    "\n",
    "x = -3\n",
    "for x in range(-3,3):\n",
    "    x = x*x\n",
    "    print(x)"
   ]
  },
  {
   "cell_type": "code",
   "execution_count": 1,
   "metadata": {},
   "outputs": [
    {
     "name": "stdout",
     "output_type": "stream",
     "text": [
      "2 4\n",
      "3 9\n",
      "4 16\n",
      "5 25\n"
     ]
    }
   ],
   "source": [
    "#Example 1: Squares. Genere el cuadrado de la secuencia 2,3,4,5.\n",
    "\n",
    "for i in range(2,6):\n",
    "    print(i,i**2)\n"
   ]
  },
  {
   "cell_type": "code",
   "execution_count": 2,
   "metadata": {},
   "outputs": [
    {
     "name": "stdout",
     "output_type": "stream",
     "text": [
      "2014 300000\n",
      "2015 309000\n",
      "2016 318270\n",
      "2017 327818\n",
      "2018 337653\n"
     ]
    }
   ],
   "source": [
    "#Example 2: Population Growth. Si la poblacion es 300mil en el 2014 y crece a un 3%, cuanto sera hasta el 2018?\n",
    "\n",
    "poblacion = 300000\n",
    "\n",
    "print(\"2014\", poblacion)\n",
    "\n",
    "for ano in range(2015,2019):\n",
    "    poblacion = (poblacion) + (poblacion*0.03)\n",
    "    print(ano, round(poblacion))\n"
   ]
  },
  {
   "cell_type": "code",
   "execution_count": 3,
   "metadata": {},
   "outputs": [
    {
     "name": "stdout",
     "output_type": "stream",
     "text": [
      "mes balance\n",
      "3   1007.52\n",
      "6   1015.09\n",
      "9   1022.73\n",
      "12   1030.42\n"
     ]
    }
   ],
   "source": [
    "#Example 3: Savings Account.Calcule el balance en la cuenta de ahorro para cuarto(Q) del ano. Si empieza con un deposito de\n",
    "# 1000 doalres y la tasa de interes es 3% n=anual compuesta. Rijase por la ecuacion de balance abajo.\n",
    "\n",
    "deposito = 1000\n",
    "tasa = 0.03\n",
    "balance = 0\n",
    "\n",
    "print(\"mes balance\")\n",
    "for meses in range(3,13,3):\n",
    "    balance = deposito*((1+(tasa/12))**meses)\n",
    "    print(meses,\" \",round(balance,2))"
   ]
  },
  {
   "cell_type": "code",
   "execution_count": 4,
   "metadata": {},
   "outputs": [
    {
     "name": "stdout",
     "output_type": "stream",
     "text": [
      "1 x 1  =  1 \t1 x 2  =  2 \t1 x 3  =  3 \t1 x 4  =  4 \t1 x 5  =  5 \t\n",
      "2 x 1  =  2 \t2 x 2  =  4 \t2 x 3  =  6 \t2 x 4  =  8 \t2 x 5  =  10 \t\n",
      "3 x 1  =  3 \t3 x 2  =  6 \t3 x 3  =  9 \t3 x 4  =  12 \t3 x 5  =  15 \t\n",
      "4 x 1  =  4 \t4 x 2  =  8 \t4 x 3  =  12 \t4 x 4  =  16 \t4 x 5  =  20 \t\n",
      "5 x 1  =  5 \t5 x 2  =  10 \t5 x 3  =  15 \t5 x 4  =  20 \t5 x 5  =  25 \t\n"
     ]
    }
   ],
   "source": [
    "#Example 4: Multiplication table. Haga un nested for loop de tal manera que saque la tabla de multiplicar del 1-5\n",
    "\n",
    "for numero_exterior in range(1,6):\n",
    "    for numero_interior in range(1,6):\n",
    "        print(numero_exterior,\"x\",numero_interior,\" = \",(numero_exterior*numero_interior),\"\\t\",end = \"\")\n",
    "    \n",
    "    print()             #Separo en bloques iterativos y el \"\\t,end=\"\" horizontalizo las tablas"
   ]
  },
  {
   "cell_type": "code",
   "execution_count": 5,
   "metadata": {},
   "outputs": [
    {
     "name": "stdout",
     "output_type": "stream",
     "text": [
      "*\n",
      "**\n",
      "***\n",
      "****\n",
      "*****\n"
     ]
    }
   ],
   "source": [
    "#Example 5: Triangle of Asterisks. Haga un nested for loop de tal manera que saque un tringulo de asteriscos\n",
    "\n",
    "\n",
    "for elementos in range(1,6):\n",
    "    print(elementos*\"*\")\n"
   ]
  },
  {
   "cell_type": "code",
   "execution_count": 6,
   "metadata": {},
   "outputs": [
    {
     "name": "stdout",
     "output_type": "stream",
     "text": [
      "Ingrese una palabra: dios\n",
      "soid\n"
     ]
    }
   ],
   "source": [
    "#Example 6: Reverse letters. Este programa requiere que el usuario ingrese una palabra. El programa crea una nueva palabra\n",
    "# la cual es la inversa a la ingresada. para esto, toma la primera letra y luego va pegando cada siguiente letra delante de\n",
    "# la anterior\n",
    "\n",
    "\n",
    "palabra = input(\"Ingrese una palabra: \")\n",
    "palabra_alreves = \"\"\n",
    "\n",
    "for letras in palabra:\n",
    "    palabra_alreves = letras + palabra_alreves\n",
    "\n",
    "print(palabra_alreves)"
   ]
  },
  {
   "cell_type": "code",
   "execution_count": 7,
   "metadata": {},
   "outputs": [
    {
     "name": "stdout",
     "output_type": "stream",
     "text": [
      "True Enero\n",
      "True Febrero\n",
      "True Marzo\n",
      "True Abril\n",
      "False Mayo\n",
      "False Junio\n",
      "False Julio\n",
      "False Agosto\n",
      "True Septiembre\n",
      "True Octubre\n",
      "True Noviembre\n",
      "True Diciembre\n",
      "============================================\n",
      "Enero\n",
      "Febrero\n",
      "Marzo\n",
      "Abril\n",
      "Septiembre\n",
      "Octubre\n",
      "Noviembre\n",
      "Diciembre\n"
     ]
    }
   ],
   "source": [
    "#Example 7: R months. Este programa muestra los meses que contienen nombres con la letra \"r\"\n",
    "\n",
    "\n",
    "meses = (\"Enero\",\"Febrero\",\"Marzo\",\"Abril\",\"Mayo\",\"Junio\",\"Julio\",\"Agosto\",\"Septiembre\",\"Octubre\",\"Noviembre\",\"Diciembre\")\n",
    "\n",
    "for mes in meses:\n",
    "    print(mes.__contains__(\"r\"),mes)\n",
    "\n",
    "print(\"============================================\")\n",
    "\n",
    "meses = (\"Enero\",\"Febrero\",\"Marzo\",\"Abril\",\"Mayo\",\"Junio\",\"Julio\",\"Agosto\",\"Septiembre\",\"Octubre\",\"Noviembre\",\"Diciembre\")\n",
    "\n",
    "for mes in meses:\n",
    "    if (\"r\") in mes:\n",
    "        print(mes)\n",
    "\n"
   ]
  },
  {
   "cell_type": "code",
   "execution_count": 8,
   "metadata": {},
   "outputs": [
    {
     "name": "stdout",
     "output_type": "stream",
     "text": [
      "Ene\n",
      "Feb\n",
      "Mar\n",
      "Abr\n",
      "May\n",
      "Jun\n",
      "Jul\n",
      "Ago\n",
      "Sep\n",
      "Oct\n",
      "Nov\n",
      "Dic\n"
     ]
    }
   ],
   "source": [
    "#Example 8: Abbreviate months. Reemplace el nombre de cada mes con la abreviacion de sus 3 primeras letras\n",
    "\n",
    "meses = (\"Enero\",\"Febrero\",\"Marzo\",\"Abril\",\"Mayo\",\"Junio\",\"Julio\",\"Agosto\",\"Septiembre\",\"Octubre\",\"Noviembre\",\"Diciembre\")\n",
    "\n",
    "for mes in meses:\n",
    "    print(mes[0:3])\n",
    "\n"
   ]
  },
  {
   "cell_type": "code",
   "execution_count": 9,
   "metadata": {},
   "outputs": [
    {
     "name": "stdout",
     "output_type": "stream",
     "text": [
      "2 trebol \t     2 diamante \t     2 corazon rojo \t     2 corazon negro \t     \n",
      "3 trebol \t     3 diamante \t     3 corazon rojo \t     3 corazon negro \t     \n",
      "4 trebol \t     4 diamante \t     4 corazon rojo \t     4 corazon negro \t     \n",
      "5 trebol \t     5 diamante \t     5 corazon rojo \t     5 corazon negro \t     \n",
      "6 trebol \t     6 diamante \t     6 corazon rojo \t     6 corazon negro \t     \n",
      "7 trebol \t     7 diamante \t     7 corazon rojo \t     7 corazon negro \t     \n",
      "8 trebol \t     8 diamante \t     8 corazon rojo \t     8 corazon negro \t     \n",
      "9 trebol \t     9 diamante \t     9 corazon rojo \t     9 corazon negro \t     \n",
      "10 trebol \t     10 diamante \t     10 corazon rojo \t     10 corazon negro \t     \n",
      "Jocker trebol \t     Jocker diamante \t     Jocker corazon rojo \t     Jocker corazon negro \t     \n",
      "Rey trebol \t     Rey diamante \t     Rey corazon rojo \t     Rey corazon negro \t     \n",
      "Reina trebol \t     Reina diamante \t     Reina corazon rojo \t     Reina corazon negro \t     \n",
      "A trebol \t     A diamante \t     A corazon rojo \t     A corazon negro \t     \n"
     ]
    }
   ],
   "source": [
    "#Example 9: Deck of cards. Mazo de cartas.\n",
    "# Este programa muestra las 52 cartas de un mazo. Se usa un loop para el valor de la carta y otro para la pinta.\n",
    "\n",
    "\n",
    "valores = [\"2\",\"3\",\"4\",\"5\",\"6\",\"7\",\"8\",\"9\",\"10\",\"Jocker\",\"Rey\",\"Reina\",\"A\"]\n",
    "pintas = [\"trebol\",\"diamante\",\"corazon rojo\",\"corazon negro\"]\n",
    "\n",
    "for valor in valores:\n",
    "    for pinta in pintas:\n",
    "        print(valor,pinta,\"\\t\",end =\"     \" )\n",
    "    \n",
    "    print()             #Separo en bloques iterativos y el \"\\t,end=\"\" horizontalizo las tablas\n",
    "\n",
    "\n"
   ]
  },
  {
   "cell_type": "code",
   "execution_count": 10,
   "metadata": {},
   "outputs": [
    {
     "name": "stdout",
     "output_type": "stream",
     "text": [
      "Ingrese el nombre del presidente: john\n",
      "Ningun presidente tiene el nombre john\n"
     ]
    }
   ],
   "source": [
    "#Example 10: U.S. Presidents.  El archivo USPres.txt tiene los nombres y apellidos de los 45 presidentes de US en el orden\n",
    "# en el cual ejercieron. Este programa pide ingresar un nombre y luego muestra los presidentes con ese nombre.La variable\n",
    "# hay_banderita nos indicarasi al menos 1 presidente tiene ese nombre.\n",
    "\n",
    "nombre = input(\"Ingrese el nombre del presidente: \")\n",
    "hay_banderita = False\n",
    "\n",
    "archivo = open(\"USPres.txt\", \"r\")                    #Abrir el archivo txt en el mimso directorio donde se guardo\n",
    "\n",
    "for cada_linea in archivo:\n",
    "    if cada_linea.startswith(nombre + \"\"):\n",
    "        print(cada_linea.rstrip())\n",
    "        hay_banderita = True\n",
    "\n",
    "archivo.close()\n",
    "if not hay_banderita:\n",
    "    print(\"Ningun presidente tiene el nombre\", nombre)\n"
   ]
  },
  {
   "cell_type": "code",
   "execution_count": 11,
   "metadata": {},
   "outputs": [
    {
     "name": "stdout",
     "output_type": "stream",
     "text": [
      "This new constitution officially changed the name of the country to Republica Bolivariana de Venezuela.\n"
     ]
    }
   ],
   "source": [
    "#Example 11: Last line of file. Muestre la ultima linea de un archivo.Despues de que la iteracion haya pasado por todas\n",
    "#las lineas del archivo, lo que queremos es solo ver la ultima linea. Para esto se usa el \"pass\"\n",
    "\n",
    "\n",
    "archivo = open(\"aFile.txt\",\"r\")\n",
    "\n",
    "for cada_linea in archivo:\n",
    "    pass\n",
    "print(cada_linea.rstrip())\n",
    "archivo.close()"
   ]
  },
  {
   "cell_type": "code",
   "execution_count": 12,
   "metadata": {},
   "outputs": [
    {
     "name": "stdout",
     "output_type": "stream",
     "text": [
      "ano peso\n",
      "1   8.8\n",
      "2   7.74\n",
      "3   6.81\n",
      "4   6.0\n",
      "5   5.28\n"
     ]
    }
   ],
   "source": [
    "#Example 51: Radioactive decay. Un quimico decae 12% anual. Su peso inciial es 10 gramos. Cuanto pesara al quinto ano?\n",
    "\n",
    "peso = 10\n",
    "tasa = 0.12\n",
    "\n",
    "\n",
    "print(\"ano\",\"peso\")\n",
    "for ano in range(1,6):\n",
    "    peso = peso - (peso*tasa)\n",
    "    print(ano,\" \",round(peso,2))\n",
    "\n"
   ]
  },
  {
   "cell_type": "code",
   "execution_count": 13,
   "metadata": {},
   "outputs": [
    {
     "name": "stdout",
     "output_type": "stream",
     "text": [
      "Ingrese su numero de telefono con guiones:713-894-2104\n",
      "7138942104\n"
     ]
    }
   ],
   "source": [
    "#Example 52: Phone number. Elimine los guiones de un numero de telefono ingresado por el usuario\n",
    "\n",
    "numero_telefonico = list(input(\"Ingrese su numero de telefono con guiones:\"))\n",
    "\n",
    "nueva_lista = []\n",
    "\n",
    "\n",
    "for numeros in numero_telefonico:\n",
    "    nueva_lista.append(numeros.replace(\"-\",\"\"))\n",
    "    \n",
    "print((\"\").join(nueva_lista))\n"
   ]
  },
  {
   "cell_type": "code",
   "execution_count": 50,
   "metadata": {},
   "outputs": [
    {
     "name": "stdout",
     "output_type": "stream",
     "text": [
      "Ingrese su frase aca: less is more\n",
      "Cantidad de vocales =  4\n"
     ]
    }
   ],
   "source": [
    "#Example 53: Vowels. Cuente el numero de vocales en la frase ingresada por el usuario\n",
    "\n",
    "frase = list(input(\"Ingrese su frase aca: \"))\n",
    "\n",
    "for elementos in frase:\n",
    "    frase.count(\"a\")\n",
    "    frase.count(\"e\")\n",
    "    frase.count(\"i\")\n",
    "    frase.count(\"o\")\n",
    "    frase.count(\"u\")\n",
    "\n",
    "print(\"Cantidad de vocales = \", frase.count(\"a\")+frase.count(\"e\")+frase.count(\"i\")+frase.count(\"o\")+frase.count(\"u\")) "
   ]
  },
  {
   "cell_type": "code",
   "execution_count": 15,
   "metadata": {},
   "outputs": [
    {
     "name": "stdout",
     "output_type": "stream",
     "text": [
      "Ingrese el primer numero: 3\n",
      "Ingrese el segundo numero: 4\n",
      "Ingrese el tercer numero: 5\n",
      "['3', '4', '5']\n",
      "5\n"
     ]
    }
   ],
   "source": [
    "#Example 54: largest number. Sin usar listas, consiga el numero mayor de 3 numeros ingresados por el usuario.\n",
    "\n",
    "#Aca tuve que usar listas\n",
    "\n",
    "num_1 = input(\"Ingrese el primer numero: \")\n",
    "num_2 = input(\"Ingrese el segundo numero: \")\n",
    "num_3 = input(\"Ingrese el tercer numero: \")\n",
    "lista = [num_1,num_2,num_3]\n",
    "print(lista)\n",
    "\n",
    "for i in lista:\n",
    "    if num_1 > num_2:\n",
    "        valor_mayor = num_1\n",
    "    elif num_2 > num_3:\n",
    "        valor_mayor = num_2\n",
    "    else:\n",
    "        valor_mayor = num_3\n",
    "        \n",
    "print(valor_mayor)\n",
    "\n"
   ]
  },
  {
   "cell_type": "code",
   "execution_count": 16,
   "metadata": {},
   "outputs": [
    {
     "name": "stdout",
     "output_type": "stream",
     "text": [
      "5.18738\n"
     ]
    }
   ],
   "source": [
    "#Example 55: Sum of fractions. Encuentre el valor total de 1/1 + 1/2 + 1/3 + 1/4 hasta 1/100. Redonde a 5 decimales.\n",
    "\n",
    "total = 0\n",
    "\n",
    "for i in range(1,101):\n",
    "    total = total + (1/i)\n",
    "    \n",
    "print(round(total,5))\n"
   ]
  },
  {
   "cell_type": "code",
   "execution_count": 17,
   "metadata": {},
   "outputs": [
    {
     "name": "stdout",
     "output_type": "stream",
     "text": [
      "5050\n"
     ]
    }
   ],
   "source": [
    "#Example 56. Sum of numbers. Encuentre el valor total de 1+2+3+ 4 hasta 100. \n",
    "\n",
    "total = 0\n",
    "for i in range(1,101):\n",
    "    total = total + i\n",
    "print(total)\n"
   ]
  },
  {
   "cell_type": "code",
   "execution_count": 18,
   "metadata": {},
   "outputs": [
    {
     "name": "stdout",
     "output_type": "stream",
     "text": [
      "Ingrese su palabra aqui: dios\n",
      "La palabra esta ordenada alfabeticamente\n"
     ]
    }
   ],
   "source": [
    "#Example 57. Alphabetical order. Orden alfabetico Ingrese una palabra y asegurese de que este en orden alfabetico\n",
    "\n",
    "palabra = input(\"Ingrese su palabra aqui: \")\n",
    "primera_letra = \"\"\n",
    "segunda_letra = \"\"\n",
    "bandera = True\n",
    "\n",
    "for letra in range(0,len(palabra) - 1):\n",
    "    primera_letra = palabra[letra]\n",
    "    segunda_letra = palabra [letra+1]\n",
    "    if primera_letra > segunda_letra:\n",
    "        bandera = False\n",
    "        \n",
    "if bandera:\n",
    "    print (\"La palabra esta ordenada alfabeticamente\")\n",
    "else:\n",
    "    print(\"La palabra esta desordenada\")"
   ]
  },
  {
   "cell_type": "code",
   "execution_count": null,
   "metadata": {},
   "outputs": [],
   "source": [
    "# Alphabetical order. Ingrese una palabra y asegurese de que este en orden alfabetico\n",
    "\n",
    "word = (input(\"Enter your word here: \")).lower()\n",
    "#word_list = list(word)\n",
    "#print(word_list)\n",
    "\n",
    "for n in range(len(word)):\n",
    "    if n == (len(word) - 1):\n",
    "        print(\"Alphabetically ordered\")\n",
    "    else:\n",
    "        if ord(word[n]) > ord(word[n+1]):\n",
    "            print(\"Not alphabetically ordered\")\n",
    "            break"
   ]
  },
  {
   "cell_type": "code",
   "execution_count": 19,
   "metadata": {},
   "outputs": [
    {
     "name": "stdout",
     "output_type": "stream",
     "text": [
      "Ingrese su palabra aca: adriana\n",
      "No tiene todas las vocales\n"
     ]
    }
   ],
   "source": [
    "#Example 58: Vowel words.Determine si la palabra ingresada contiene todas las vocales\n",
    "\n",
    "palabra = list(input(\"Ingrese su palabra aca: \"))\n",
    "\n",
    "for elementos in palabra:\n",
    "    if \"a\" and \"e\" and \"i\" and \"o\" and \"u\" in palabra:\n",
    "        bandera = True\n",
    "    else:\n",
    "        bandera = False\n",
    "        \n",
    "if bandera == True:\n",
    "    print(\"Esta palabra tiene todas las vocales\")\n",
    "\n",
    "else:\n",
    "    print(\"No tiene todas las vocales\")\n",
    "   "
   ]
  },
  {
   "cell_type": "code",
   "execution_count": 20,
   "metadata": {},
   "outputs": [
    {
     "name": "stdout",
     "output_type": "stream",
     "text": [
      "Ingrese su nombre: helen\n",
      "Ingrese su edad: 25\n",
      "Ingrese su salario inicial: 1000\n",
      "ano acumulado\n",
      "1    1000\n",
      "2    2050.0\n",
      "3    3152.5\n",
      "4    4310.1\n",
      "5    5525.6\n",
      "6    6801.9\n",
      "7    8142.0\n",
      "8    9549.1\n",
      "9    11026.6\n",
      "10    12577.9\n",
      "11    14206.8\n",
      "12    15917.1\n",
      "13    17713.0\n",
      "14    19598.6\n",
      "15    21578.6\n",
      "16    23657.5\n",
      "17    25840.4\n",
      "18    28132.4\n",
      "19    30539.0\n",
      "20    33066.0\n",
      "21    35719.3\n",
      "22    38505.2\n",
      "23    41430.5\n",
      "24    44502.0\n",
      "25    47727.1\n",
      "26    51113.5\n",
      "27    54669.1\n",
      "28    58402.6\n",
      "29    62322.7\n",
      "30    66438.8\n",
      "31    70760.8\n",
      "32    75298.8\n",
      "33    80063.8\n",
      "34    85067.0\n",
      "35    90320.3\n",
      "36    95836.3\n",
      "37    101628.1\n",
      "38    107709.5\n",
      "39    114095.0\n",
      "40    120799.8\n",
      "Cuando helen tenga 65 anos habran pasado 40 anos, y habra acumulado 120799.8\n"
     ]
    }
   ],
   "source": [
    "#Example 59: Lifetime Earnings. Ingrese el nombre, edad y salario inicial de una persona.Asuma que la persona se retirara \n",
    "# a los 65 y que su salario incrementara 5% anual. Cuanto sera el dinero pagado acumulado?\n",
    "\n",
    "nombre = input(\"Ingrese su nombre: \")\n",
    "edad = int(input(\"Ingrese su edad: \"))\n",
    "deposito_mensual = int(input(\"Ingrese su salario inicial: \"))\n",
    "\n",
    "tiempo = int(65 - edad)\n",
    "\n",
    "acumulado_balance_cuenta = 0\n",
    "\n",
    "print(\"ano\", \"acumulado\")\n",
    "\n",
    "for i in range(1,tiempo+1):\n",
    "    \n",
    "    acumulado_balance_cuenta = (deposito_mensual) + (acumulado_balance_cuenta)\n",
    "    \n",
    "    deposito_mensual = (deposito_mensual) + (deposito_mensual*0.05)\n",
    "    tiempo = tiempo + 1\n",
    "    \n",
    "    print(i,\"  \",round(acumulado_balance_cuenta,1))\n",
    "\n",
    "print(\"Cuando\",nombre,\"tenga 65 anos habran pasado\",i, \"anos, y habra acumulado\",round(acumulado_balance_cuenta,1))"
   ]
  },
  {
   "cell_type": "code",
   "execution_count": 21,
   "metadata": {},
   "outputs": [
    {
     "name": "stdout",
     "output_type": "stream",
     "text": [
      "ano monto interes simple\n",
      "1 1050\n",
      "2 1100\n",
      "3 1150\n",
      "4 1200\n",
      "===============\n",
      "ano monto interes compuesto\n",
      "1 1050.0\n",
      "2 1102.5\n",
      "3 1157.625\n",
      "4 1215.50625\n"
     ]
    }
   ],
   "source": [
    "#Example 60. Simple vs compound interest. Interes simple vs interes compuesto\n",
    "\n",
    "#Cuando se invierte 1000 $ al 5% interes simple, el monto crece 50$ cada ano. \n",
    "#Cuando se invierte 1000 $ al 5% interes compuesto anualmente, el monto es 1.05 veces el monto al inicio del ano.(1000+(1000 * 0.05))\n",
    "\n",
    "#Muestre el monto de 4 anos cuando se invierte 1000$\n",
    "\n",
    "\n",
    "inversion = 1000\n",
    "\n",
    "print(\"ano\",  \"monto interes simple\")\n",
    "\n",
    "for i in range(1,5):\n",
    "    inversion = inversion + 50\n",
    "    print(i,inversion)\n",
    "    i = i+1    \n",
    "\n",
    "print(\"===============\")\n",
    "\n",
    "print(\"ano\",  \"monto interes compuesto\")\n",
    "inversion = 1000\n",
    "\n",
    "for i in range(1,5):\n",
    "    inversion = inversion + (inversion*0.05) \n",
    "    print(i,inversion)\n",
    "    i = i+1\n",
    "\n",
    "\n",
    "\n",
    "\n"
   ]
  },
  {
   "cell_type": "code",
   "execution_count": 22,
   "metadata": {},
   "outputs": [
    {
     "name": "stdout",
     "output_type": "stream",
     "text": [
      "ano monto que se debe\n",
      "2013 12347.85\n",
      "2014 9532.13\n",
      "2015 6542.74\n",
      "2016 3368.97\n",
      "2017 0.00\n"
     ]
    }
   ],
   "source": [
    "#Example 61. Car loan. Tengo un prestamo de 15 mil y quiero calcular la deuda anual. El carro se pagara en 5 anos y el pago\n",
    "#mensual es de 290 dolares y el carro fue comprado en el ano 2013.\n",
    "\n",
    "deuda = 15000\n",
    "ano = 2012\n",
    "\n",
    "\n",
    "print(\"ano\", \"monto que se debe\")\n",
    "for i in range(1,60):                            #loop es en meses, pagos y formulas son en meses\n",
    "    \n",
    "    deuda = (1.005*deuda) - (290)\n",
    "    if i % 12 == 0:\n",
    "        ano = ano + 1\n",
    "        print(ano,round(deuda,2))\n",
    "        \n",
    "print(ano+1,\"0.00\")\n"
   ]
  },
  {
   "cell_type": "code",
   "execution_count": 23,
   "metadata": {},
   "outputs": [
    {
     "name": "stdout",
     "output_type": "stream",
     "text": [
      "ano monto en la cuenta\n",
      "2014 1216.64\n",
      "2015 2470.28\n",
      "2016 3762.06\n",
      "2017 5093.12\n",
      "2018 6464.67\n"
     ]
    }
   ],
   "source": [
    "#Example 62. Annuity. Muestre el ahorro que tendra al final de cada ano si deposita 100 dolares mensual y comienza en \n",
    "#Enero 2014.La tasa es del 3% compuesto mensual, por lo tanto la tasa de interes mensual es (0.03/12) = 0.0025\n",
    "\n",
    "balance_en_cuenta = 0\n",
    "ano = 2013\n",
    "\n",
    "\n",
    "print(\"ano\", \"monto en la cuenta\")\n",
    "for i in range(1,72):                            #loop es en meses, pagos y formulas son en meses\n",
    "    \n",
    "    balance_en_cuenta = (1.0025*balance_en_cuenta) + (100)\n",
    "    if i % 12 == 0:\n",
    "        ano = ano + 1\n",
    "        print(ano,round(balance_en_cuenta,2))\n"
   ]
  },
  {
   "cell_type": "code",
   "execution_count": 24,
   "metadata": {},
   "outputs": [
    {
     "name": "stdout",
     "output_type": "stream",
     "text": [
      "Ingrese el primer numero: 5\n",
      "Ingrese el segundo numero: 3\n",
      "Ingrese el tercer numero: 7\n",
      "[5, 3, 7]\n",
      "[5, 7]\n",
      "Los 2 numeros mayores son:  5 y 7 y el promedio de ellos es: 6\n"
     ]
    }
   ],
   "source": [
    "#Example 63. Average grade. Ingrese 3 numeros y saque el promedio de los 2 mayores.\n",
    "\n",
    "num_1 = eval(input(\"Ingrese el primer numero: \"))\n",
    "num_2 = eval(input(\"Ingrese el segundo numero: \"))\n",
    "num_3 = eval(input(\"Ingrese el tercer numero: \"))\n",
    "lista = [num_1,num_2,num_3]\n",
    "print(lista)\n",
    "\n",
    "\n",
    "for i in lista:\n",
    "    arreglar = lista.sort()\n",
    "    \n",
    "lista_nueva = lista[1:3] \n",
    "print(lista_nueva)\n",
    "\n",
    "print(\"Los 2 numeros mayores son: \", lista_nueva[0],\"y\",lista_nueva[1], \"y el promedio de ellos es:\", round(sum(lista_nueva)/2))\n"
   ]
  },
  {
   "cell_type": "code",
   "execution_count": 25,
   "metadata": {},
   "outputs": [],
   "source": [
    "#Example 64. Automobile depreciation"
   ]
  },
  {
   "cell_type": "code",
   "execution_count": 26,
   "metadata": {},
   "outputs": [],
   "source": [
    "#Example 65. Supply and demand"
   ]
  },
  {
   "cell_type": "code",
   "execution_count": 27,
   "metadata": {},
   "outputs": [],
   "source": [
    "#Example 66. Median"
   ]
  },
  {
   "cell_type": "code",
   "execution_count": 28,
   "metadata": {},
   "outputs": [],
   "source": [
    "#Example 67. Salary options"
   ]
  },
  {
   "cell_type": "code",
   "execution_count": 29,
   "metadata": {},
   "outputs": [],
   "source": [
    "#Example 68. Misleading percentages"
   ]
  },
  {
   "cell_type": "code",
   "execution_count": 30,
   "metadata": {},
   "outputs": [],
   "source": [
    "#Example 69.Superbowl"
   ]
  },
  {
   "cell_type": "code",
   "execution_count": 31,
   "metadata": {},
   "outputs": [],
   "source": [
    "#Example 70. Superbowl"
   ]
  },
  {
   "cell_type": "code",
   "execution_count": 32,
   "metadata": {},
   "outputs": [],
   "source": [
    "#Example 71. Average grade"
   ]
  },
  {
   "cell_type": "code",
   "execution_count": 33,
   "metadata": {},
   "outputs": [],
   "source": [
    "#Example 72. Average grade"
   ]
  },
  {
   "cell_type": "code",
   "execution_count": 34,
   "metadata": {},
   "outputs": [],
   "source": [
    "#Example 73. Number of vowels"
   ]
  },
  {
   "cell_type": "code",
   "execution_count": 35,
   "metadata": {},
   "outputs": [],
   "source": [
    "#Example 74. A Puzzle"
   ]
  },
  {
   "cell_type": "code",
   "execution_count": 36,
   "metadata": {},
   "outputs": [],
   "source": [
    "#Example 75. Same birthday"
   ]
  },
  {
   "cell_type": "code",
   "execution_count": 37,
   "metadata": {},
   "outputs": [],
   "source": [
    "#Example 76.Original U.S. States"
   ]
  },
  {
   "cell_type": "code",
   "execution_count": 38,
   "metadata": {},
   "outputs": [],
   "source": [
    "#Example 77. Boston Accent"
   ]
  },
  {
   "cell_type": "code",
   "execution_count": 39,
   "metadata": {},
   "outputs": [],
   "source": [
    "#Example 78. Special number"
   ]
  },
  {
   "cell_type": "code",
   "execution_count": 40,
   "metadata": {},
   "outputs": [],
   "source": [
    "#Example 79. U.S. Presidents"
   ]
  },
  {
   "cell_type": "code",
   "execution_count": 41,
   "metadata": {},
   "outputs": [],
   "source": [
    "#Example 80. U.S> presidents"
   ]
  },
  {
   "cell_type": "code",
   "execution_count": 42,
   "metadata": {},
   "outputs": [],
   "source": [
    "#Example 81.odometer readings"
   ]
  },
  {
   "cell_type": "code",
   "execution_count": 43,
   "metadata": {},
   "outputs": [],
   "source": [
    "#Example 82.Digit sum"
   ]
  },
  {
   "cell_type": "code",
   "execution_count": 44,
   "metadata": {},
   "outputs": [],
   "source": [
    "#Example 83.Supreme court"
   ]
  },
  {
   "cell_type": "code",
   "execution_count": 45,
   "metadata": {},
   "outputs": [
    {
     "name": "stdout",
     "output_type": "stream",
     "text": [
      "Ingresa un valor positivo mayor que 1: 56\n",
      " 2 is a prime factor of a given number 56\n",
      " 7 is a prime factor of a given number 56\n"
     ]
    }
   ],
   "source": [
    "#Example 84. Factorization. Calcula los numeros primos de un valor\n",
    "\n",
    "N = eval(input(\"Ingresa un valor positivo mayor que 1: \"))\n",
    "\n",
    "for i in range(2,N+1):\n",
    "    if (N % i == 0):\n",
    "        isprime = 1\n",
    "        for j in range(2,(i//2+1)):\n",
    "            if(i % j == 0):\n",
    "                isprime = 0\n",
    "                break\n",
    "        if(isprime == 1):\n",
    "            print(\" %d is a prime factor of a given number %d\" %(i,N))"
   ]
  },
  {
   "cell_type": "code",
   "execution_count": 46,
   "metadata": {},
   "outputs": [],
   "source": [
    "#Ejemplo 23\n",
    "\n",
    "#la tasa de interes anual compuesta mensualmente\n",
    "#tasa de interes anual = 6% (o 0.06%)\n",
    "\n",
    "# tasa de interes mensual = 0.06/12\n",
    "\n",
    "#======\n",
    "#Ejemplo 24\n",
    "\n",
    "#tasa de interes anual, compuesta mensualmente = 3% (o 0.03%)\n",
    "#tasa de interes mensual = 0.03/12\n",
    "\n",
    "\n",
    "#======\n",
    "#Ejemplo 25\n",
    "\n",
    "#tasa de interes anual, compuesta mensualmente = 3.6% (o 0.036%)\n",
    "#tasa de interes mensual = 0.036/12 ===> 0.003 que es 1.003*(balance end month) para representar (previous balance)+ 0.003(previous balance) \n",
    "\n",
    "\n"
   ]
  },
  {
   "cell_type": "code",
   "execution_count": 47,
   "metadata": {},
   "outputs": [
    {
     "name": "stdout",
     "output_type": "stream",
     "text": [
      "7\n",
      "8\n",
      "9\n",
      "10\n",
      "===\n",
      "-11\n",
      "-10\n",
      "-9\n",
      "-8\n",
      "===\n",
      "2\n",
      "5\n",
      "8\n",
      "11\n",
      "===\n",
      "2010\n",
      "2015\n",
      "2020\n",
      "2025\n",
      "===\n",
      "0\n",
      "1\n",
      "2\n",
      "3\n",
      "4\n",
      "5\n",
      "===\n",
      "0\n",
      "===\n",
      "11\n",
      "10\n",
      "9\n",
      "8\n",
      "===\n",
      "12\n",
      "7\n"
     ]
    }
   ],
   "source": [
    "#Exercises 3.4\n",
    "\n",
    "#1):\n",
    "for i in range(7,11):\n",
    "    print(i)\n",
    "\n",
    "#2):\n",
    "print(\"===\")\n",
    "for i in range(-11,-7):\n",
    "    print(i)\n",
    "\n",
    "#3):\n",
    "print(\"===\")\n",
    "for i in range(2,14,3):\n",
    "    print(i)\n",
    "\n",
    "#4):\n",
    "print(\"===\")\n",
    "for i in range(2010,2030,5):\n",
    "    print(i)\n",
    "\n",
    "#5):\n",
    "print(\"===\")\n",
    "for i in range(6):\n",
    "    print(i)\n",
    "\n",
    "#6):\n",
    "print(\"===\")\n",
    "for i in range(1):\n",
    "    print(i)\n",
    "\n",
    "#7):\n",
    "print(\"===\")\n",
    "for i in range(11,7,-1):                               #Step en retroceso\n",
    "    print(i)\n",
    "\n",
    "#8):\n",
    "print(\"===\")\n",
    "for i in range(12,2,-5):                               #Step en retroceso\n",
    "    print(i)\n"
   ]
  },
  {
   "cell_type": "code",
   "execution_count": 48,
   "metadata": {},
   "outputs": [
    {
     "name": "stdout",
     "output_type": "stream",
     "text": [
      "4\n",
      "9\n",
      "14\n",
      "19\n",
      "===\n",
      "0\n",
      "1\n",
      "2\n",
      "3\n",
      "===\n",
      "-21\n",
      "-20\n",
      "-19\n",
      "-18\n",
      "===\n",
      "4\n",
      "3\n",
      "2\n",
      "1\n",
      "===\n",
      "20\n",
      "17\n",
      "14\n",
      "===\n",
      "7\n",
      "===\n",
      "5\n",
      "4\n",
      "3\n",
      "2\n",
      "1\n",
      "0\n",
      "===\n",
      "-5\n",
      "-3\n",
      "-1\n",
      "1\n"
     ]
    }
   ],
   "source": [
    "#Exercises 9 al 16. Determina el rango que genera las siguientes secuencias\n",
    "\n",
    "#9): 4,9,14,19\n",
    "\n",
    "for i in range(4,20,5):\n",
    "    print(i)\n",
    "\n",
    "#10): 0,1,2,3\n",
    "print(\"===\")\n",
    "for i in range(0,4):\n",
    "    print(i)\n",
    "\n",
    "#11): -21,-20-19,-18\n",
    "print(\"===\")\n",
    "for i in range(-21,-17):\n",
    "    print(i)\n",
    "\n",
    "#12): 4,3,2,1\n",
    "print(\"===\")\n",
    "for i in range(4,0,-1):              #Step en retroceso\n",
    "    print(i)\n",
    "\n",
    "#13): 20,17,14                      #Step en retroceso\n",
    "print(\"===\")\n",
    "for i in range(20,13,-3):\n",
    "    print(i)\n",
    "\n",
    "#14): 7\n",
    "print(\"===\")\n",
    "for i in range(7,8):\n",
    "    print(i)\n",
    "\n",
    "#14): 5, 4, 3, 2, 1, 0              #Step en retroceso\n",
    "print(\"===\")\n",
    "for i in range(5,-1,-1):                             \n",
    "    print(i)\n",
    "\n",
    "#16): -5, -3, -1, 1       \n",
    "print(\"===\")\n",
    "for i in range(-5,2,2):                             \n",
    "    print(i)\n"
   ]
  },
  {
   "cell_type": "code",
   "execution_count": null,
   "metadata": {},
   "outputs": [],
   "source": []
  }
 ],
 "metadata": {
  "kernelspec": {
   "display_name": "Python 3",
   "language": "python",
   "name": "python3"
  },
  "language_info": {
   "codemirror_mode": {
    "name": "ipython",
    "version": 3
   },
   "file_extension": ".py",
   "mimetype": "text/x-python",
   "name": "python",
   "nbconvert_exporter": "python",
   "pygments_lexer": "ipython3",
   "version": "3.7.3"
  }
 },
 "nbformat": 4,
 "nbformat_minor": 2
}
