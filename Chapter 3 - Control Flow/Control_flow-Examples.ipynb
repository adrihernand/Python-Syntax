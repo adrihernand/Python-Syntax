{
 "cells": [
  {
   "cell_type": "markdown",
   "metadata": {},
   "source": [
    "# Chapter 3 - Structures that control flow "
   ]
  },
  {
   "cell_type": "markdown",
   "metadata": {},
   "source": [
    "# 3.1 Relational and logical operators"
   ]
  },
  {
   "cell_type": "code",
   "execution_count": 1,
   "metadata": {},
   "outputs": [
    {
     "name": "stdout",
     "output_type": "stream",
     "text": [
      "True\n",
      "False\n",
      "True\n",
      "True\n",
      "True\n"
     ]
    }
   ],
   "source": [
    "# Example 1. Relational operators. Determine whether each of the following conditions evaluates to True or False.\n",
    "\n",
    "print(1 <= 1) \n",
    "print(1 < 1)\n",
    "print(\"car\" < \"cat\")\n",
    "print(\"Dog\" < \"dog\")\n",
    "print(\"fun\" in \"refunded\")"
   ]
  },
  {
   "cell_type": "code",
   "execution_count": 2,
   "metadata": {},
   "outputs": [
    {
     "name": "stdout",
     "output_type": "stream",
     "text": [
      "True\n",
      "True\n",
      "False\n"
     ]
    }
   ],
   "source": [
    "# Example 2. Relational operators. Suppose the variables a and b have the values 4 and 3, and the variables c and d have \n",
    "# the values \"hello\" and \"bye\". Are the follwong conditions True or False?\n",
    "\n",
    "a = 4\n",
    "b = 3\n",
    "c = \"hello\"\n",
    "d = \"bye\"\n",
    "\n",
    "print((a+b)<(2*a))\n",
    "print(len(c)-b == (a/2))\n",
    "print(c < \"good\" + d)"
   ]
  },
  {
   "cell_type": "code",
   "execution_count": 3,
   "metadata": {},
   "outputs": [
    {
     "name": "stdout",
     "output_type": "stream",
     "text": [
      "[-5, 3.5, 4, 6]\n",
      "['7', 'B', 'ha', 'hi']\n"
     ]
    }
   ],
   "source": [
    "# Example 3. Sort a list. The following program illustrates how Python orders two simple lists\n",
    "\n",
    "list1 = [6, 4, -5, 3.5]\n",
    "list1.sort()\n",
    "print(list1)\n",
    "\n",
    "\n",
    "list2 = [\"ha\", \"hi\", \"B\", \"7\"]\n",
    "list2.sort()\n",
    "print(list2)\n"
   ]
  },
  {
   "cell_type": "code",
   "execution_count": 4,
   "metadata": {},
   "outputs": [
    {
     "name": "stdout",
     "output_type": "stream",
     "text": [
      "['5¢', '8-ball', 'Dog', 'car', 'cat', 'dog', '±']\n"
     ]
    }
   ],
   "source": [
    "# Example 4. Sort a list. The following program illustrates how Python orders ghe items in a complicated list of strings\n",
    "\n",
    "list1 = [chr(177), \"cat\", \"car\", \"Dog\", \"dog\", \"8-ball\", \"5\" + chr(162)]\n",
    "list1.sort()\n",
    "print(list1)"
   ]
  },
  {
   "cell_type": "code",
   "execution_count": 5,
   "metadata": {},
   "outputs": [
    {
     "name": "stdout",
     "output_type": "stream",
     "text": [
      "[('Elizabeth', 1), ('Elizabeth', 2), ('George', 5), ('George', 6)]\n"
     ]
    }
   ],
   "source": [
    "# Example 5. Sort a list. The following program orders the items in a list of tuples.\n",
    "\n",
    "monarchs = [(\"George\", 5), (\"Elizabeth\", 2), (\"George\", 6), (\"Elizabeth\", 1)]\n",
    "monarchs.sort()\n",
    "print(monarchs)"
   ]
  },
  {
   "cell_type": "code",
   "execution_count": 6,
   "metadata": {},
   "outputs": [
    {
     "name": "stdout",
     "output_type": "stream",
     "text": [
      "True\n",
      "True\n",
      "False\n",
      "True\n",
      "False\n",
      "True\n",
      "False\n",
      "True\n",
      "False\n"
     ]
    }
   ],
   "source": [
    "# Example 6. Logical operators. Suppose the variable n has value 4 and the variable answ has value \"Y\". Determine whether \n",
    "# each of the following conditions evaluates to True r False.\n",
    "\n",
    "n = 4\n",
    "answ = \"Y\"\n",
    "\n",
    "print((2 < n) and (n < 6))\n",
    "print((2 < n) or ( n == 6))\n",
    "print(not(n < 6))\n",
    "print((answ == \"Y\") or (answ == \"y\"))\n",
    "print((answ == \"Y\") and (answ == \"y\"))\n",
    "print(not(answ == \"y\"))\n",
    "print(((2 < n) and (n == 5+1)) or (answ == \"No\"))\n",
    "print(((n == 2) and (n == 7)) or (answ == \"Y\"))\n",
    "print((n == 2) and ((n == 7) or (answ == \"Y\")))"
   ]
  },
  {
   "cell_type": "markdown",
   "metadata": {},
   "source": [
    "# 3.2 Decision Structures"
   ]
  },
  {
   "cell_type": "code",
   "execution_count": 7,
   "metadata": {},
   "outputs": [
    {
     "name": "stdout",
     "output_type": "stream",
     "text": [
      "Enter the first number:3\n",
      "Enter the second number:7\n",
      "the largest value is: 7\n"
     ]
    }
   ],
   "source": [
    "# Example 1. Find the larger value. The following program finds the larger of twon numbers input by the user. The condition\n",
    "# is: num1 > num2 and each block consists of a single assignment statement. With the inputs 3 and 7for num1 and num2, the \n",
    "# condition is false, and so the second blcok is executed.\n",
    "\n",
    "\n",
    "num1 = eval(input(\"Enter the first number:\"))\n",
    "num2 = eval(input(\"Enter the second number:\"))\n",
    "\n",
    "\n",
    "if num1 > num2:\n",
    "    largervalue = num1\n",
    "else:\n",
    "    largervalue = num2\n",
    "\n",
    "print(\"the largest value is:\", largervalue)\n",
    "\n",
    "    "
   ]
  },
  {
   "cell_type": "code",
   "execution_count": 8,
   "metadata": {},
   "outputs": [
    {
     "name": "stdout",
     "output_type": "stream",
     "text": [
      "How many gallons does a ten gallon hat hold?2\n",
      "No. It holds about 3/4 of a gallon\n"
     ]
    }
   ],
   "source": [
    "# Example 2. Volume of ten gallon hat. The if-else statement in the following program has relational operators in its \n",
    "# condition\n",
    "\n",
    "answer = eval(input(\"How many gallons does a ten gallon hat hold?\"))\n",
    "\n",
    "if 0.5 < answer <= 1:\n",
    "    print(\"Good\")\n",
    "else:\n",
    "    print(\"No. It holds about 3/4 of a gallon\")\n"
   ]
  },
  {
   "cell_type": "code",
   "execution_count": 9,
   "metadata": {},
   "outputs": [
    {
     "name": "stdout",
     "output_type": "stream",
     "text": [
      "Enter the first number:3\n",
      "Enter the second number:7\n",
      "Enter the third number:4\n",
      "The largest number is: 7\n"
     ]
    }
   ],
   "source": [
    "# Example 3. Find the largest value.The following program contains two if statements.The value of max(largest value) is \n",
    "# initially set to the firstnumber input and is updated by the if statements when necessary.\n",
    "\n",
    "\n",
    "#Input the three numbers\n",
    "first_number = eval(input(\"Enter the first number:\"))\n",
    "second_number= eval(input(\"Enter the second number:\"))\n",
    "third_number = eval(input(\"Enter the third number:\"))\n",
    "\n",
    "\n",
    "#Determine the largest value\n",
    "max = first_number\n",
    "\n",
    "if second_number > max:\n",
    "    max = second_number\n",
    "\n",
    "if third_number > max:\n",
    "    max = third_number\n",
    "\n",
    "\n",
    "print(\"The largest number is:\", max)    \n",
    "\n",
    "\n"
   ]
  },
  {
   "cell_type": "code",
   "execution_count": 10,
   "metadata": {},
   "outputs": [
    {
     "name": "stdout",
     "output_type": "stream",
     "text": [
      "Enter a color (BLUE or RED):red\n",
      "Enter a mode(STEADY or FLASHING):flashing\n",
      "The weather forecast is Snow instead\n"
     ]
    }
   ],
   "source": [
    "# Example 4. Interpret Beacon. The color of the beacon light atop Boston;s old John Hancock building forecasts the weather\n",
    "# according to the following rhyme:\n",
    "    \n",
    "#     Steady blue, clear view.\n",
    "#     Flashing blue,clouds due.\n",
    "#     Steady red, rain ahead.\n",
    "#     Flashing red, snow instead.\n",
    "    \n",
    "# The following program requests a color(Blue or Red) and a mode(Steady or Flashing) as input and then displays the weather\n",
    "# forecast.Both courses of action asscoaited with the main if-else statement ocnsist of if-else statements.\n",
    "\n",
    "\n",
    "\n",
    "#Obtain color and mode\n",
    "color = input(\"Enter a color (BLUE or RED):\")\n",
    "mode = input(\"Enter a mode(STEADY or FLASHING):\")\n",
    "color = color.upper()\n",
    "mode = mode.upper()\n",
    "    \n",
    "    \n",
    "#Analyze response\n",
    "result = \"\"\n",
    "\n",
    "if color == \"BLUE\":\n",
    "    if mode == \"FLASHING\":\n",
    "        result = \"CLear view\"\n",
    "    if mode == \"STEADY\":\n",
    "        result = \"Clouds due\"\n",
    "        \n",
    "else:                              #elase means that color is red.\n",
    "    if mode == \"FLASHING\":\n",
    "        result = \"Snow instead\"\n",
    "    if mode == \"STEADY\":\n",
    "        result = \"Rain ahead\"\n",
    "\n",
    "print(\"The weather forecast is\", result)\n"
   ]
  },
  {
   "cell_type": "code",
   "execution_count": 11,
   "metadata": {},
   "outputs": [
    {
     "name": "stdout",
     "output_type": "stream",
     "text": [
      "Enter total costs:9500\n",
      "Enter total revenue:8000\n",
      "The loss is 1,500\n"
     ]
    }
   ],
   "source": [
    "# Example 5. Evaluate profit. The following program requests the costs and revenue for a company and displays the message\n",
    "# \"Break even\" if the costs and revenue are equal, otherwise it displays the profit or loss. The indeneted block following \n",
    "# the else header is another if-else statement.\n",
    "\n",
    "\n",
    "\n",
    "#Obtain inputs\n",
    "costs = eval(input(\"Enter total costs:\"))\n",
    "revenue = eval(input(\"Enter total revenue:\"))\n",
    "\n",
    "#Determine profit or loss\n",
    "if costs == revenue:\n",
    "    result = \"Break even\"\n",
    "\n",
    "else:\n",
    "    if costs < revenue:\n",
    "        profit = revenue - costs\n",
    "        result = \"The profit is {0:,.0f}\".format(profit)\n",
    "        \n",
    "        \n",
    "    else:\n",
    "        loss = costs - revenue\n",
    "        result = \"The loss is {0:,.0f}\".format(loss)\n",
    "        \n",
    "        \n",
    "print(result)\n"
   ]
  },
  {
   "cell_type": "code",
   "execution_count": 12,
   "metadata": {},
   "outputs": [
    {
     "name": "stdout",
     "output_type": "stream",
     "text": [
      "Enter the first number:7\n",
      "Enter the second number:7\n",
      "The two numbers are equal\n"
     ]
    }
   ],
   "source": [
    "# Example 6.Find the larger value. The follwoing program modifies Example 1 so that the program reports if the two numbers\n",
    "# are equal\n",
    "\n",
    "\n",
    "num1 = eval(input(\"Enter the first number:\"))\n",
    "num2 = eval(input(\"Enter the second number:\"))\n",
    "\n",
    "\n",
    "if num1 > num2:\n",
    "    print(\"The larger value is:\", num1)\n",
    "    \n",
    "elif num2 > num1:\n",
    "    print(\"The larger value is:\", num2)\n",
    "        \n",
    "else:\n",
    "    print(\"The two numbers are equal\")\n"
   ]
  },
  {
   "cell_type": "code",
   "execution_count": 13,
   "metadata": {},
   "outputs": [
    {
     "name": "stdout",
     "output_type": "stream",
     "text": [
      "Enter total earnings for this year prior to current pay period:12345.67\n",
      "Enter earnings for the current pay period:543.21\n",
      "FICA tax for the current pay period: 41.555565\n"
     ]
    }
   ],
   "source": [
    "# Example 7. FICA tax.The Social security or FICA tax has two components - The social security benefits tax, which in 2014\n",
    "# was 6.2% of the first $ 117000 of earnings for the year, and the Medicare tax which was 1.45% of earnings plus 0.9% of \n",
    "# earnings above $ 200000(for unmarried employees). The following program calculates a single employee's FICA tax witheld\n",
    "# for the current pay period\n",
    "\n",
    "\n",
    "\n",
    "## Obtain earnings\n",
    "\n",
    "ytd_earnings = eval(input(\"Enter total earnings for this year prior to current pay period:\"))\n",
    "current_earnings = eval(input(\"Enter earnings for the current pay period:\"))\n",
    "total_earnings = ytd_earnings + current_earnings\n",
    "\n",
    "\n",
    "## Calculate social security benefits tax\n",
    "ss_benefit_tax = 0\n",
    "\n",
    "if total_earnings <= 117000:\n",
    "    ss_benefit_tax = 0.062*current_earnings\n",
    "    \n",
    "\n",
    "elif ytd_earnings < 117000:\n",
    "    ss_benefit_tax = 0.062*(117000 - ytd_earnings)\n",
    "\n",
    "\n",
    "\n",
    "## Calculate FICA tax\n",
    "medicare_tax = 0.0145 * current_earnings\n",
    "\n",
    "\n",
    "if ytd_earnings >= 200000:\n",
    "    medicare_tax = medicare_tax + (0.009*current_earnings)\n",
    "    \n",
    "\n",
    "elif total_earnings > 200000:\n",
    "    medicare_tax = medicare_tax + (0.009*(total_earnings - 200000))\n",
    "    \n",
    "FICA_tax = ss_benefit_tax + medicare_tax\n",
    "print(\"FICA tax for the current pay period:\", FICA_tax)\n",
    "\n"
   ]
  },
  {
   "cell_type": "code",
   "execution_count": 14,
   "metadata": {},
   "outputs": [
    {
     "name": "stdout",
     "output_type": "stream",
     "text": [
      "Enter your GPA:3.2\n",
      "You graduated .\n"
     ]
    }
   ],
   "source": [
    "# Example 8.Graduation honors. The program assumes tar the user will graduate and determines if they will graduate with \n",
    "# honors\n",
    "\n",
    "#obtain GPA\n",
    "\n",
    "gpa = eval(input(\"Enter your GPA:\"))\n",
    "\n",
    "\n",
    "if gpa >= 3.9:\n",
    "    honors = \"summa cum laude\"\n",
    "elif gpa >= 3.6:\n",
    "    honors = \"magna cum ladude\"\n",
    "elif gpa > 3.3:\n",
    "    honors = \"cum laude\"\n",
    "\n",
    "else:\n",
    "    honors = \".\"\n",
    "    \n",
    "print(\"You graduated\", honors)    "
   ]
  },
  {
   "cell_type": "code",
   "execution_count": 15,
   "metadata": {},
   "outputs": [
    {
     "name": "stdout",
     "output_type": "stream",
     "text": [
      "Enter the first number:5\n",
      "Enter the second number:six\n",
      "The second entry was not a proper number\n"
     ]
    }
   ],
   "source": [
    "# Example 9. Input validation.The following program uses the method isdigit to guard against improper input\n",
    "\n",
    "\n",
    "num1 = input(\"Enter the first number:\")\n",
    "num2 = input(\"Enter the second number:\")\n",
    "\n",
    "\n",
    "if num1.isdigit() and num2.isdigit():\n",
    "    print(\"The sum is\", eval(num1)+eval(num2))\n",
    "\n",
    "elif not num1.isdigit():\n",
    "    if not num2.isdigit():\n",
    "        print('Neither entry was a proper number')\n",
    "    else:\n",
    "        print(\"The first entry was not a proper number\")\n",
    "        \n",
    "else:\n",
    "    print(\"The second entry was not a proper number\")"
   ]
  },
  {
   "cell_type": "code",
   "execution_count": 16,
   "metadata": {},
   "outputs": [
    {
     "name": "stdout",
     "output_type": "stream",
     "text": [
      "A non zero number is true\n",
      "An empty list is false\n",
      "A non empty list is true\n"
     ]
    }
   ],
   "source": [
    "# Example 10. True or False. The following program illustrates the truth values of objects\n",
    "\n",
    "if 7:\n",
    "    print(\"A non zero number is true\")\n",
    "else:\n",
    "    print(\"The number zero is false\")\n",
    "\n",
    "if []:\n",
    "    print(\"A non empty list is True\")\n",
    "else:\n",
    "    print('An empty list is false')\n",
    "\n",
    "if ['spam']:\n",
    "    print('A non empty list is true')\n",
    "else:\n",
    "    print(\"The empty list os false\")\n",
    "    "
   ]
  },
  {
   "cell_type": "markdown",
   "metadata": {},
   "source": [
    "# 3.3 The While loop"
   ]
  },
  {
   "cell_type": "code",
   "execution_count": 17,
   "metadata": {},
   "outputs": [
    {
     "name": "stdout",
     "output_type": "stream",
     "text": [
      "1\n",
      "2\n",
      "3\n",
      "4\n",
      "5\n"
     ]
    }
   ],
   "source": [
    "# Example 1. Numbers. The program dispalys numbers from 1 to 5. After the loops terminates, the value of num will be 6\n",
    "\n",
    "num = 1\n",
    "while num <=5:\n",
    "    print(num)\n",
    "    num = num + 1"
   ]
  },
  {
   "cell_type": "code",
   "execution_count": 18,
   "metadata": {},
   "outputs": [
    {
     "name": "stdout",
     "output_type": "stream",
     "text": [
      "This program displays a famous quotation\n",
      "Enter 1, 2 or 3: 2\n",
      "Rosebud\n"
     ]
    }
   ],
   "source": [
    "# Example 2.Movie Quotation. The following program requieres the suer to enter a number from 1 through 3. The loop repeats\n",
    "# the request until the user gives an acceptable response.\n",
    "\n",
    "print(\"This program displays a famous quotation\")\n",
    "\n",
    "responses = input(\"Enter 1, 2 or 3: \")\n",
    "\n",
    "while responses == \"1\" or \"2\" or \"3\":\n",
    "    \n",
    "    if responses == \"1\":                                     \n",
    "        print(\"Plastics\")\n",
    "        break\n",
    "        \n",
    "    elif responses == \"2\":\n",
    "        print(\"Rosebud\")\n",
    "        break\n",
    "        \n",
    "    elif responses == \"3\":\n",
    "        print(\"That's all folks\")\n",
    "        break\n",
    "    \n",
    "    else:\n",
    "        print(\"Try again\")\n",
    "        break"
   ]
  },
  {
   "cell_type": "code",
   "execution_count": 19,
   "metadata": {},
   "outputs": [
    {
     "name": "stdout",
     "output_type": "stream",
     "text": [
      "(This program finds the minimum, maximum, and average of a secuence of non negative numbers)\n",
      "(Enter -1 to terminate entering numbers)\n",
      "Enter a positive number: 3\n",
      "Enter a positive number: 7\n",
      "Enter a positive number: 2\n",
      "Enter a positive number: -1\n",
      "Minimum: 2\n",
      "Maximum: 7\n",
      "Average: 4.0\n"
     ]
    }
   ],
   "source": [
    "# Example 3.Numbers. The following program finds the minimum, maximum, and average of a secuence of non negative numbers\n",
    "# entered by the user. The user is told to enter the number -1 to indicate the end of data entry.Since the first request for\n",
    "# input appears before the loop is entered, there is the possibility that the entire loop will be skipped. The values of min \n",
    "# and max are initially set to the first number input and are updated during each pass through the loop.\n",
    "\n",
    "print(\"(This program finds the minimum, maximum, and average of a secuence of non negative numbers)\")\n",
    "\n",
    "count = 0\n",
    "total = 0\n",
    "\n",
    "print(\"(Enter -1 to terminate entering numbers)\")\n",
    "num = eval(input(\"Enter a positive number: \"))\n",
    "\n",
    "min = num\n",
    "max = num\n",
    "\n",
    "while num != -1:\n",
    "    count = count + 1\n",
    "    total = total + num\n",
    "    if num < min:\n",
    "        min = num\n",
    "    if num > max:\n",
    "        max = num\n",
    "    num = eval(input(\"Enter a positive number: \"))\n",
    "\n",
    "if count > 0 :\n",
    "    print(\"Minimum:\", min)\n",
    "    print(\"Maximum:\", max)\n",
    "    print(\"Average:\", total/count)\n",
    "else:\n",
    "    print(\"Negative numbers were introduced\")"
   ]
  },
  {
   "cell_type": "code",
   "execution_count": 20,
   "metadata": {},
   "outputs": [
    {
     "name": "stdout",
     "output_type": "stream",
     "text": [
      "(This program finds the minimum, maximum, and average of a secuence of non negative numbers)\n",
      "(Enter -1 to terminate entering numbers)\n",
      "Enter a positive number: 3\n",
      "Enter a positive number: 7\n",
      "Enter a positive number: 2\n",
      "Enter a positive number: -1\n",
      "Minimum: 2\n",
      "Maximum: 7\n",
      "Average: 4.0\n"
     ]
    }
   ],
   "source": [
    "# Example 4. Numbers.The following program performs the same tasks as the program in Example 3. However, it first stores the \n",
    "# numbers in a list, and the uses list methods and functions to determine the requested values.\n",
    "\n",
    "print(\"(This program finds the minimum, maximum, and average of a secuence of non negative numbers)\")\n",
    "print(\"(Enter -1 to terminate entering numbers)\")\n",
    "\n",
    "list1 = []\n",
    "num = eval(input(\"Enter a positive number: \"))\n",
    "\n",
    "while num != -1:\n",
    "    list1.append(num)\n",
    "    num = eval(input(\"Enter a positive number: \"))\n",
    "\n",
    "if len(list1) > 0 :\n",
    "    list1.sort()\n",
    "    print(\"Minimum:\", list1[0])\n",
    "    print(\"Maximum:\", list1[-1])\n",
    "    print(\"Average:\", sum(list1)/len(list1))\n",
    "else:\n",
    "    print(\"Negative numbers were introduced\")\n"
   ]
  },
  {
   "cell_type": "code",
   "execution_count": 21,
   "metadata": {},
   "outputs": [
    {
     "name": "stdout",
     "output_type": "stream",
     "text": [
      "Enter the initial deposit: 123456\n",
      "In 54 years you will have a million dollar\n"
     ]
    }
   ],
   "source": [
    "# Example 5.Compound interest.Suppose you deposit money into a savings account and let it accumulate at 4% interest \n",
    "# compounded annually.The following program determines when you will be millionaire\n",
    "\n",
    "\n",
    "balance = eval(input(\"Enter the initial deposit: \"))\n",
    "number_of_years = 0\n",
    "\n",
    "while balance < 1000000:\n",
    "    balance = (balance +(balance*0.04))\n",
    "    number_of_years = number_of_years + 1\n",
    "\n",
    "print(\"In\", str(number_of_years),\"years you will have a million dollar\" )"
   ]
  },
  {
   "cell_type": "code",
   "execution_count": 24,
   "metadata": {},
   "outputs": [
    {
     "name": "stdout",
     "output_type": "stream",
     "text": [
      "(Enter -1 to terminate entering numbers)\n",
      "Enter a positive number: 3\n",
      "Enter a positive number: 7\n",
      "Enter a positive number: 2\n",
      "Enter a positive number: -1\n",
      "Minimum: 3\n",
      "Maximum: 2\n",
      "Average: 4.0\n"
     ]
    }
   ],
   "source": [
    "# Example 6. Numbers. The re write of example 4 uses a break statement to avoid having two input statement. Many people\n",
    "# finds this easier to read.\n",
    "\n",
    "\n",
    "list1 = []\n",
    "print(\"(Enter -1 to terminate entering numbers)\")\n",
    "\n",
    "while True:\n",
    "    num = eval(input(\"Enter a positive number: \"))\n",
    "    if num == -1:\n",
    "        break                                  # terminate the loop\n",
    "    list1.append(num)\n",
    "\n",
    "print(\"Minimum:\", list1[0])\n",
    "print(\"Maximum:\", list1[-1])\n",
    "print(\"Average:\", sum(list1)/len(list1))\n"
   ]
  },
  {
   "cell_type": "code",
   "execution_count": 28,
   "metadata": {},
   "outputs": [
    {
     "name": "stdout",
     "output_type": "stream",
     "text": [
      "33 is the first int that is divisible by 11\n"
     ]
    }
   ],
   "source": [
    "# Example 7. Integer divisible by 11. The following program searches a list for the first int object tat is divisible by 11. \n",
    "# The variable found_flag tells us  if such an int has been found.(A flag is a boolean-valued variable used to report whether\n",
    "# a certain circumstance has occurred.The value of the flag is initially set to False, and then is changed to True of and \n",
    "# when the circumstances occurs)\n",
    "\n",
    "\n",
    "list1 = [\"one\", 23, 17.5, \"two\", 33, 22.1, 242, \"three\"]\n",
    "i = 0\n",
    "\n",
    "found_flag = False\n",
    "\n",
    "while i < len(list1):\n",
    "        x = list1[i]\n",
    "        i = i + 1\n",
    "        if not isinstance(x,int):\n",
    "            continue\n",
    "        if x % 11 == 0:\n",
    "            found_flag = True\n",
    "            print(x,\"is the first int that is divisible by 11\")\n",
    "            break\n",
    "\n",
    "if not found_flag:\n",
    "    print(\"There is no int in the list that is divisible by 11\")\n",
    "    \n"
   ]
  },
  {
   "cell_type": "code",
   "execution_count": 33,
   "metadata": {},
   "outputs": [
    {
     "name": "stdout",
     "output_type": "stream",
     "text": [
      "Enter a number from the menu to obtain a fact about the United States or exit the program\n",
      "1. Capital\n",
      "2. National bird\n",
      "3. National Flower\n",
      "4. Quit\n",
      "Make a selection from the menu: 2\n",
      "The American bald eagle is the national bird\n",
      "Make a selection from the menu: 4\n"
     ]
    }
   ],
   "source": [
    "# Example 8. US Facts. The following program uses a menu to obtain facts about the United States.\n",
    "\n",
    "## Display the menu\n",
    "print(\"Enter a number from the menu to obtain a fact about the United States or exit the program\")\n",
    "print(\"1. Capital\")\n",
    "print(\"2. National bird\")\n",
    "print(\"3. National Flower\")\n",
    "print(\"4. Quit\")\n",
    "\n",
    "\n",
    "while True:\n",
    "    num = int(input(\"Make a selection from the menu: \"))\n",
    "\n",
    "    \n",
    "## Create conditions    \n",
    "    if num == 1:\n",
    "        print(\"Washington DC is the capital of the United States\")\n",
    "    \n",
    "    elif num == 2:\n",
    "        print(\"The American bald eagle is the national bird\")\n",
    "\n",
    "    elif  num == 3:\n",
    "        print(\"The rose is the national flower\")\n",
    "\n",
    "    elif num == 4:\n",
    "        break\n",
    "\n"
   ]
  },
  {
   "cell_type": "markdown",
   "metadata": {},
   "source": [
    "# 3.4 The For loop"
   ]
  },
  {
   "cell_type": "code",
   "execution_count": 34,
   "metadata": {},
   "outputs": [
    {
     "name": "stdout",
     "output_type": "stream",
     "text": [
      "2 4\n",
      "3 9\n",
      "4 16\n",
      "5 25\n"
     ]
    }
   ],
   "source": [
    "# Example 1. Squares. The following 2 lines of code display four integers and their squares. The loop variable i \n",
    "# first assumes the the value 2 and uses that value in the execution of the print statement. The variable then successively assumes\n",
    "# and executes the print statement for each of the integers.\n",
    "\n",
    "for i in range(2,6):\n",
    "    print(i, i**2)\n"
   ]
  },
  {
   "cell_type": "code",
   "execution_count": 37,
   "metadata": {},
   "outputs": [
    {
     "name": "stdout",
     "output_type": "stream",
     "text": [
      "2014 300000\n",
      "2015 309000\n",
      "2016 318270\n",
      "2017 327818\n",
      "2018 337653\n"
     ]
    }
   ],
   "source": [
    "# Example 2. Population Growth.Suppose the population of a city was  300000 in the year 2014 and is growing at the rate 3%\n",
    "# per year. The following program displays a table showing the population each year until 2018. \n",
    "\n",
    "pop = 300000\n",
    "\n",
    "print(\"2014\", pop)\n",
    "\n",
    "for year in range(2015,2019):\n",
    "    pop = (pop) + (pop*0.03)\n",
    "    print(year, round(pop))\n"
   ]
  },
  {
   "cell_type": "code",
   "execution_count": 40,
   "metadata": {},
   "outputs": [
    {
     "name": "stdout",
     "output_type": "stream",
     "text": [
      "month balance\n",
      "3   1007.52\n",
      "6   1015.09\n",
      "9   1022.73\n",
      "12   1030.42\n"
     ]
    }
   ],
   "source": [
    "# Example 3.Savings account.When \"A\" dollars is deposited into an account at the annual interest rate r(in decimal form) \n",
    "# compounded monthly, the balance after m months is A*((1+(r/12))^m). The following program requests the amount deposited \n",
    "# into a savings account and the annual rate of interest , and then calculates the balance in the account after each\n",
    "# quarter year for four quarters.\n",
    "\n",
    "\n",
    "deposit = 1000\n",
    "rate = 0.03\n",
    "balance = 0\n",
    "\n",
    "print(\"month balance\")\n",
    "for months in range(3,13,3):\n",
    "    balance = deposit*((1+(rate/12))**months)\n",
    "    print(months,\" \",round(balance,2))"
   ]
  },
  {
   "cell_type": "code",
   "execution_count": 42,
   "metadata": {},
   "outputs": [
    {
     "name": "stdout",
     "output_type": "stream",
     "text": [
      "1 x 1  =  1 \t1 x 2  =  2 \t1 x 3  =  3 \t1 x 4  =  4 \t1 x 5  =  5 \t\n",
      "2 x 1  =  2 \t2 x 2  =  4 \t2 x 3  =  6 \t2 x 4  =  8 \t2 x 5  =  10 \t\n",
      "3 x 1  =  3 \t3 x 2  =  6 \t3 x 3  =  9 \t3 x 4  =  12 \t3 x 5  =  15 \t\n",
      "4 x 1  =  4 \t4 x 2  =  8 \t4 x 3  =  12 \t4 x 4  =  16 \t4 x 5  =  20 \t\n",
      "5 x 1  =  5 \t5 x 2  =  10 \t5 x 3  =  15 \t5 x 4  =  20 \t5 x 5  =  25 \t\n"
     ]
    }
   ],
   "source": [
    "# Example 4. Multiplication table. The following program displays  multiplication table for the integers from 1 to 5. Here\n",
    "# m denotes the left factors of the products, and n denotes the right factors.Each factor takes on a value from 1 to 5.\n",
    "# The values are assigned to m in the outer loop and n in the inner loop. \n",
    "\n",
    "\n",
    "for m in range(1,6):\n",
    "    for n in range(1,6):\n",
    "        print(m,\"x\",n,\" = \",(m*n),\"\\t\",end = \"\")\n",
    "    \n",
    "    print()             #Separo en bloques iterativos y el \"\\t,end=\"\" horizontalizo las tablas"
   ]
  },
  {
   "cell_type": "code",
   "execution_count": 45,
   "metadata": {},
   "outputs": [
    {
     "name": "stdout",
     "output_type": "stream",
     "text": [
      "*\n",
      "**\n",
      "***\n",
      "****\n",
      "*****\n"
     ]
    }
   ],
   "source": [
    "# Example 5.Triangle of Asterisks.The following proam uses the nested for loops to display a triangle of asterisks.\n",
    "\n",
    "\n",
    "for i in range(1,6):\n",
    "    print(i*\"*\")"
   ]
  },
  {
   "cell_type": "code",
   "execution_count": 48,
   "metadata": {},
   "outputs": [
    {
     "name": "stdout",
     "output_type": "stream",
     "text": [
      "Enter a word: zeus\n",
      "suez\n"
     ]
    }
   ],
   "source": [
    "# Example 6. Reverse letters.The following program requests a word as input and displays it backward. The program creates a \n",
    "# string consisting of the first letter of the word, and then succesively appends each subsequent letter to the front of \n",
    "# the string\n",
    "\n",
    "\n",
    "word = input(\"Enter a word: \")\n",
    "reverse_word = \"\"\n",
    "\n",
    "for ch in word:\n",
    "    reverse_word = ch + reverse_word\n",
    "\n",
    "print(reverse_word)"
   ]
  },
  {
   "cell_type": "code",
   "execution_count": 50,
   "metadata": {},
   "outputs": [
    {
     "name": "stdout",
     "output_type": "stream",
     "text": [
      "True January\n",
      "True February\n",
      "True March\n",
      "True April\n",
      "False May\n",
      "False June\n",
      "False July\n",
      "False August\n",
      "True September\n",
      "True October\n",
      "True November\n",
      "True December\n",
      "============================================\n",
      "January\n",
      "February\n",
      "March\n",
      "April\n",
      "September\n",
      "October\n",
      "November\n",
      "December\n"
     ]
    }
   ],
   "source": [
    "# Example 7.R months. The following program displays the months whose names contain the letter r\n",
    "\n",
    "\n",
    "months = (\"January\",\"February\",\"March\",\"April\",\"May\",\"June\",\"July\",\"August\",\"September\",\"October\",\"November\",\"December\")\n",
    "\n",
    "for month in months:\n",
    "    print(month.__contains__(\"r\"),month)\n",
    "\n",
    "print(\"============================================\")\n",
    "\n",
    "meses = (\"January\",\"February\",\"March\",\"April\",\"May\",\"June\",\"July\",\"August\",\"September\",\"October\",\"November\",\"December\")\n",
    "\n",
    "for month in months:\n",
    "    if (\"r\") in month:\n",
    "        print(month)\n",
    "\n"
   ]
  },
  {
   "cell_type": "code",
   "execution_count": 51,
   "metadata": {},
   "outputs": [
    {
     "name": "stdout",
     "output_type": "stream",
     "text": [
      "Jan\n",
      "Feb\n",
      "Mar\n",
      "Apr\n",
      "May\n",
      "Jun\n",
      "Jul\n",
      "Aug\n",
      "Sep\n",
      "Oct\n",
      "Nov\n",
      "Dec\n"
     ]
    }
   ],
   "source": [
    "# Example 8. Abbreviate months.The following program replaces the name of each month with its three-letter abbreviation.\n",
    "# Note: For any list, call it list1, the last item has index len(-1) -1, and therefore range in (len(list1)) generates the\n",
    "# indices of the list.\n",
    "\n",
    "\n",
    "\n",
    "months = (\"January\",\"February\",\"March\",\"April\",\"May\",\"June\",\"July\",\"August\",\"September\",\"October\",\"November\",\"December\")\n",
    "\n",
    "for month in months:\n",
    "    print(month[0:3])\n",
    "\n",
    "\n"
   ]
  },
  {
   "cell_type": "code",
   "execution_count": 55,
   "metadata": {},
   "outputs": [
    {
     "name": "stdout",
     "output_type": "stream",
     "text": [
      "2 spades \t 2 hearts \t 2 clubs \t 2 diamonds \t \n",
      "3 spades \t 3 hearts \t 3 clubs \t 3 diamonds \t \n",
      "4 spades \t 4 hearts \t 4 clubs \t 4 diamonds \t \n",
      "5 spades \t 5 hearts \t 5 clubs \t 5 diamonds \t \n",
      "6 spades \t 6 hearts \t 6 clubs \t 6 diamonds \t \n",
      "7 spades \t 7 hearts \t 7 clubs \t 7 diamonds \t \n",
      "8 spades \t 8 hearts \t 8 clubs \t 8 diamonds \t \n",
      "9 spades \t 9 hearts \t 9 clubs \t 9 diamonds \t \n",
      "10 spades \t 10 hearts \t 10 clubs \t 10 diamonds \t \n",
      "Jack spades \t Jack hearts \t Jack clubs \t Jack diamonds \t \n",
      "Queen spades \t Queen hearts \t Queen clubs \t Queen diamonds \t \n",
      "King spades \t King hearts \t King clubs \t King diamonds \t \n",
      "Ace spades \t Ace hearts \t Ace clubs \t Ace diamonds \t \n"
     ]
    }
   ],
   "source": [
    "# Example 9. Deck of cards.The following program uses nested for loops with a list of ranks and a list of suits to create a \n",
    "# list consisting of the 52 cards in a deck of cards.\n",
    "\n",
    "\n",
    "ranks = [\"2\",\"3\",\"4\",\"5\",\"6\",\"7\",\"8\",\"9\",\"10\",\"Jack\",\"Queen\",\"King\",\"Ace\"]\n",
    "suits = [\"spades\",\"hearts\",\"clubs\",\"diamonds\"]\n",
    "\n",
    "for rank in ranks:\n",
    "    for suit in suits:\n",
    "        print(rank,suit,\"\\t\",end =\" \" )\n",
    "    \n",
    "    print()             "
   ]
  },
  {
   "cell_type": "code",
   "execution_count": 56,
   "metadata": {},
   "outputs": [
    {
     "name": "stdout",
     "output_type": "stream",
     "text": [
      "Enter a first name: John\n",
      "John Adams\n",
      "John Quincy Adams\n",
      "John Tyler\n",
      "John F. Kennedy\n"
     ]
    }
   ],
   "source": [
    "# Example 10. US presidents. The file. USpres.txt contains the names of the first 45 US presidents in the order in which \n",
    "# they served. The following program requests the name and then displays the names of the US presidents having that \n",
    "# first name. The variable flag tells us if at least one president had the requested first name.   \n",
    "\n",
    "\n",
    "firstname = input(\"Enter a first name: \")\n",
    "flag = False\n",
    "\n",
    "infile = open(\"USPres.txt\", \"r\")                   \n",
    "\n",
    "for line in infile:\n",
    "    if line.startswith(firstname + \"\"):\n",
    "        print(line.rstrip())\n",
    "        flag = True\n",
    "\n",
    "infile.close()\n",
    "if not flag:\n",
    "    print(\"No president has the name\", firstname)\n"
   ]
  },
  {
   "cell_type": "code",
   "execution_count": 57,
   "metadata": {},
   "outputs": [
    {
     "name": "stdout",
     "output_type": "stream",
     "text": [
      "This new constitution officially changed the name of the country to Republica Bolivariana de Venezuela.\n"
     ]
    }
   ],
   "source": [
    "# Example 11.Last line of file.The following program displays the last line of a file.\n",
    "\n",
    "\n",
    "infile = open(\"aFile.txt\",\"r\")\n",
    "\n",
    "for line in infile:\n",
    "    pass\n",
    "print(line.rstrip())\n",
    "infile.close()"
   ]
  }
 ],
 "metadata": {
  "kernelspec": {
   "display_name": "Python 3",
   "language": "python",
   "name": "python3"
  },
  "language_info": {
   "codemirror_mode": {
    "name": "ipython",
    "version": 3
   },
   "file_extension": ".py",
   "mimetype": "text/x-python",
   "name": "python",
   "nbconvert_exporter": "python",
   "pygments_lexer": "ipython3",
   "version": "3.7.3"
  }
 },
 "nbformat": 4,
 "nbformat_minor": 2
}
