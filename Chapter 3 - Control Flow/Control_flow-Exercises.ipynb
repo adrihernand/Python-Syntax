{
 "cells": [
  {
   "cell_type": "markdown",
   "metadata": {},
   "source": [
    "# Chapter 3 - Structures that control flow "
   ]
  },
  {
   "cell_type": "markdown",
   "metadata": {},
   "source": [
    "# 3.1 Relational and logical operators"
   ]
  },
  {
   "cell_type": "code",
   "execution_count": 8,
   "metadata": {},
   "outputs": [
    {
     "name": "stdout",
     "output_type": "stream",
     "text": [
      "hi\n",
      "C#\n",
      "The letter before G is F\n",
      "B\n",
      "[17, 3, 12, 9, 10]\n",
      "[3, 9, 10, 12, 17]\n",
      "The first element is 3\n"
     ]
    }
   ],
   "source": [
    "# In Exercises 1 through 8, determine the output displayed.\n",
    "\n",
    "\n",
    "print(chr(104)+chr(105))\n",
    "\n",
    "print(\"C\" + chr (35))\n",
    "\n",
    "print(\"The letter before G is\" , chr(ord(\"G\")-1))\n",
    "\n",
    "print(chr(ord(\"B\")))\n",
    "      \n",
    "      \n",
    "L = [17, 3, 12, 9, 10]\n",
    "print(L)\n",
    "L.sort()\n",
    "print(L)\n",
    "print(\"The first element is\",L[0])\n",
    "\n"
   ]
  },
  {
   "cell_type": "code",
   "execution_count": 9,
   "metadata": {},
   "outputs": [
    {
     "name": "stdout",
     "output_type": "stream",
     "text": [
      "True\n",
      "True\n",
      "True\n",
      "True\n"
     ]
    }
   ],
   "source": [
    "# In Exercises 9 through 20, determine the output displayed. Assume the value of a is 2, and b is 3 and determine whether\n",
    "# the condition evaluates to True or False.\n",
    "\n",
    "\n",
    "a = 2\n",
    "b = 3\n",
    "\n",
    "print(3*a == 2*b)\n",
    "print(b <= 3)\n",
    "print(a**(5-2) > 7)\n",
    "print((a < b) or (b < a))"
   ]
  },
  {
   "cell_type": "markdown",
   "metadata": {},
   "source": [
    "# 3.2 Decision Structures"
   ]
  },
  {
   "cell_type": "code",
   "execution_count": 10,
   "metadata": {},
   "outputs": [
    {
     "name": "stdout",
     "output_type": "stream",
     "text": [
      "Enter the amount of bill: 25.98\n",
      "25.98 The tip is: 3.9\n"
     ]
    }
   ],
   "source": [
    "# Exercise 25. Restaurant tip. Write a program to determine how much to tip the server in a restaurant. The tip should be \n",
    "# 15%of th check with a minimum of $2\n",
    "\n",
    "bill = eval(input(\"Enter the amount of bill: \"))\n",
    "tip_calculated = (bill*1.15) - (bill)\n",
    "if tip_calculated > 2:\n",
    "    tip = tip_calculated\n",
    "else:\n",
    "    tip = 2\n",
    "    \n",
    "print(bill, \"The tip is:\", round(tip,2))\n"
   ]
  },
  {
   "cell_type": "code",
   "execution_count": 11,
   "metadata": {},
   "outputs": [
    {
     "name": "stdout",
     "output_type": "stream",
     "text": [
      "Enter the amount of bagels: 12\n",
      "Your bill is 7.2 because your ordered 12 bagels\n"
     ]
    }
   ],
   "source": [
    "# Exercise 26. Cost of bagels. A bagel shop charges 75 cents per bagel for orders of less than a half dozen bagels,\n",
    "# and 60 cents per bagel for orders of half dozen or more.Write a program that requests the number of bagels ordered and \n",
    "# displays the total cost.\n",
    "\n",
    "\n",
    "order_amount_bagels = eval(input(\"Enter the amount of bagels: \"))\n",
    "if order_amount_bagels > 12:\n",
    "    bagel_price = 0.75\n",
    "\n",
    "else:\n",
    "    bagel_price = 0.60\n",
    "\n",
    "bill = order_amount_bagels*bagel_price \n",
    "print(\"Your bill is\",round(bill,2), \"because your ordered\",order_amount_bagels,\"bagels\")\n"
   ]
  },
  {
   "cell_type": "code",
   "execution_count": 12,
   "metadata": {},
   "outputs": [
    {
     "name": "stdout",
     "output_type": "stream",
     "text": [
      "Enter the amount of widgets: 200\n",
      "Your bill is 40.0 because your ordered 200 widgets\n"
     ]
    }
   ],
   "source": [
    "# Exercise 27. Cost of widgets. Astore sells widgets at 25 cents each for small orders or at 20 cents each for orders of 100 \n",
    "# or more.Write a program that requests the number of widgets ordered and displays the total cost.\n",
    "\n",
    "\n",
    "\n",
    "order_amount_widgets = eval(input(\"Enter the amount of widgets: \"))\n",
    "if order_amount_widgets > 100:\n",
    "    widget_price = 0.20\n",
    "\n",
    "else:\n",
    "    widget_price = 0.25\n",
    "\n",
    "bill = order_amount_widgets*widget_price \n",
    "\n",
    "print(\"Your bill is\",round(bill,2), \"because your ordered\",order_amount_widgets,\"widgets\")\n"
   ]
  },
  {
   "cell_type": "code",
   "execution_count": 13,
   "metadata": {},
   "outputs": [
    {
     "name": "stdout",
     "output_type": "stream",
     "text": [
      "Enter the amount of copies: 125\n",
      "Your bill is 5.75 because your ordered 125 copies\n"
     ]
    }
   ],
   "source": [
    "# Exercise 28. Cost of copies. A copy center charges 5 cents per copy for the first 100 copies and 3 cents per copy for \n",
    "# each additional copy. Write a program that requests the number of copies as input and displays the total cost.\n",
    "\n",
    "\n",
    "\n",
    "order_amount_copies = eval(input(\"Enter the amount of copies: \"))\n",
    "excess_copies = order_amount_copies - 100\n",
    "price1= 0.05\n",
    "price2= 0.03\n",
    "\n",
    "if order_amount_copies >= 100:\n",
    "    bill = (100*price1) + (excess_copies*price2)\n",
    "\n",
    "else:\n",
    "    bill = order_amount_copies*0.05\n",
    "     \n",
    "print(\"Your bill is\",round(bill,2), \"because your ordered\",order_amount_copies,\"copies\")\n",
    "\n",
    "\n"
   ]
  },
  {
   "cell_type": "code",
   "execution_count": 14,
   "metadata": {},
   "outputs": [
    {
     "name": "stdout",
     "output_type": "stream",
     "text": [
      "Who was the first Ronald Mac Donald: Silvester Stalone\n",
      "Nice try\n"
     ]
    }
   ],
   "source": [
    "# Exercise 29. Quiz. Write a quiz program to ask \"Who was the first Ronald Mac Donald?\". The program should display\n",
    "# \"You are correct\"if the answer is \"Willard Scott\" and \"Nice try\" for any other answer.\n",
    "\n",
    "\n",
    "name = (input(\"Who was the first Ronald Mac Donald: \"))\n",
    "\n",
    "if name == \"Willard Scott\":\n",
    "    print(\"You are correct\")\n",
    "\n",
    "else:\n",
    "    print(\"Nice try\")\n",
    "\n",
    "\n"
   ]
  },
  {
   "cell_type": "code",
   "execution_count": 15,
   "metadata": {},
   "outputs": [
    {
     "name": "stdout",
     "output_type": "stream",
     "text": [
      "Enter amount of hours worked: 60\n",
      "Enter hourly wage: 12\n",
      "Your pay is 840.0 because you worked 60 hours\n"
     ]
    }
   ],
   "source": [
    "# Exercise 30. Overtime pay. Federal law requires that hourly employees be paid \"time and a half\" for work in excess of 40 \n",
    "# hours in a week.For example, if a person's hourly wage is $12 and he or she works 60 hours in a week, the person's gross \n",
    "# pay should be (40*12) + (1.5*12*(60-40)) = $ 840\n",
    "\n",
    "time_served = eval(input(\"Enter amount of hours worked: \"))\n",
    "pay1 = eval(input(\"Enter hourly wage: \"))\n",
    "pay2 = (pay1) * (1.5)\n",
    "excess_time = (time_served) - (40) \n",
    "                         \n",
    "if time_served >= 40:\n",
    "    gross_pay = (40*pay1) + (excess_time*pay2)\n",
    "\n",
    "else:\n",
    "    gross_pay = (40*pay1)\n",
    "     \n",
    "print(\"Your pay is\",round(gross_pay,2), \"because you worked\",time_served,\"hours\")\n",
    "\n"
   ]
  },
  {
   "cell_type": "code",
   "execution_count": 16,
   "metadata": {},
   "outputs": [
    {
     "name": "stdout",
     "output_type": "stream",
     "text": [
      "Enter number 1: 85\n",
      "Enter number 2: 93\n",
      "Enter number 3: 91\n",
      "[85, 93, 91]\n",
      "[93, 91, 85]\n",
      "The average of the two highest scores is 92.0\n",
      "Enter number 1: 85\n",
      "Enter number 2: 93\n",
      "Enter number 3: 91\n",
      "The average of the two highest scores is 92.0\n"
     ]
    }
   ],
   "source": [
    "# Exercise 31. Compute an average. Write a program that requests three scores as input and displays the average of the two \n",
    "# highest scores.\n",
    "\n",
    "\n",
    "#Compute an average - Solution 1\n",
    "number_1 = eval(input(\"Enter number 1: \"))\n",
    "number_2 = eval(input(\"Enter number 2: \"))\n",
    "number_3 = eval(input(\"Enter number 3: \"))\n",
    "\n",
    "L= [number_1,number_2,number_3]\n",
    "print(L)\n",
    "L.sort()\n",
    "L.reverse()\n",
    "print(L)\n",
    "avg = (L[0]+L[1])/2\n",
    "print(\"The average of the two highest scores is\",avg)\n",
    "\n",
    "\n",
    "#Compute an average - Solution 2\n",
    "number_1 = eval(input(\"Enter number 1: \"))\n",
    "number_2 = eval(input(\"Enter number 2: \"))\n",
    "number_3 = eval(input(\"Enter number 3: \"))\n",
    "\n",
    "if number_1 > number_2 and number_2 > number_3:\n",
    "    avg = ((number_1 + number_2)/2)\n",
    "elif number_2 > number_3 and number_3 > number_1:\n",
    "    avg = ((number_2+number_3)/2)\n",
    "\n",
    "else: \n",
    "    avg = ((number_3 + number_1)/2)\n",
    "print(\"The average of the two highest scores is\",avg)\n"
   ]
  },
  {
   "cell_type": "code",
   "execution_count": 17,
   "metadata": {},
   "outputs": [
    {
     "name": "stdout",
     "output_type": "stream",
     "text": [
      "Enter a word: chip\n",
      "ipchay\n"
     ]
    }
   ],
   "source": [
    "# Exercise 32.Pig latin.Write a program that requests a word in lower case letter as input and translates the word into \n",
    "# Pig latin. The rules for translating a word into Pig latin are as follows:\n",
    "    \n",
    "# If the word begins with a group of consonants, move them to the end of the word and add \"ay\". For instance, chip becomes\n",
    "# ipchay.\n",
    "# If the word begins with a vowel, add \"way\" to the end of the word. For instance, else becomes elseway. \n",
    "    \n",
    "\n",
    "\n",
    "word = input(\"Enter a word: \")\n",
    "#change_1\n",
    "vowels = ['a','e','i','o','u']\n",
    "def translate(word): \n",
    "    first = word[0]\n",
    "#change_2\n",
    "    if first in vowels: \n",
    "         word = word.lower()\n",
    "         word = word + \"way\"   \n",
    "         return word\n",
    "    else: \n",
    "        word = word.lower()\n",
    "#change_3\n",
    "        for letter in word:\n",
    "            if letter in vowels:\n",
    "                index_value = word.index(letter)\n",
    "                break\n",
    "#change_4\n",
    "        word = word[index_value:] + word [:index_value] + \"ay\" \n",
    "        return word \n",
    "\n",
    "print(translate(word))"
   ]
  },
  {
   "cell_type": "code",
   "execution_count": 18,
   "metadata": {},
   "outputs": [
    {
     "name": "stdout",
     "output_type": "stream",
     "text": [
      "Enter amount paid: 20\n",
      "Enter pounds here: 6\n",
      "Here is your change: 5.0\n"
     ]
    }
   ],
   "source": [
    "# Exercise 33. Make change. A supermarket sells apples for $ 2.50 per pound. Write a cashiers program that request the\n",
    "# number of pounds and the amount of cash tendered as input and displays the change for the transaction. If the cash is \n",
    "# not enough the message\"You owe X more\" should be displayed.  \n",
    "\n",
    "\n",
    "amount_paid = eval(input(\"Enter amount paid: \"))\n",
    "pound_bought = eval(input(\"Enter pounds here: \"))\n",
    "bill = 2.50 * pound_bought\n",
    "diff = amount_paid - bill\n",
    "\n",
    "\n",
    "\n",
    "if amount_paid < bill:\n",
    "    print((\"You owe: \") + str(diff))\n",
    "\n",
    "elif amount_paid > bill:\n",
    "    print((\"Here is your change: \") + str(diff))\n",
    "    \n",
    "else:\n",
    "    print(\"Thanks for shopping\")\n"
   ]
  },
  {
   "cell_type": "markdown",
   "metadata": {},
   "source": [
    "# 3.3 The While loop"
   ]
  },
  {
   "cell_type": "code",
   "execution_count": 19,
   "metadata": {},
   "outputs": [],
   "source": [
    "#In Exercises 1 through 8, deterine the output displayed."
   ]
  },
  {
   "cell_type": "code",
   "execution_count": 20,
   "metadata": {},
   "outputs": [
    {
     "name": "stdout",
     "output_type": "stream",
     "text": [
      "24\n"
     ]
    }
   ],
   "source": [
    "#Exercise 1\n",
    "num = 3\n",
    "while True:\n",
    "    num = num *2\n",
    "    if num > 15:\n",
    "        break\n",
    "print(num)"
   ]
  },
  {
   "cell_type": "code",
   "execution_count": 21,
   "metadata": {},
   "outputs": [
    {
     "name": "stdout",
     "output_type": "stream",
     "text": [
      "18\n"
     ]
    }
   ],
   "source": [
    "#Exercise 2\n",
    "\n",
    "num = 3\n",
    "while num < 15:\n",
    "    num = num + 5\n",
    "print(num)"
   ]
  },
  {
   "cell_type": "code",
   "execution_count": 22,
   "metadata": {},
   "outputs": [
    {
     "name": "stdout",
     "output_type": "stream",
     "text": [
      "10 5\n"
     ]
    }
   ],
   "source": [
    "#Exercise 3\n",
    "\n",
    "total  = 0\n",
    "num = 1\n",
    "while True:\n",
    "    total = total + num\n",
    "    num = num + 1\n",
    "    if num >=5:\n",
    "        break\n",
    "print(total, num)"
   ]
  },
  {
   "cell_type": "code",
   "execution_count": 23,
   "metadata": {},
   "outputs": [
    {
     "name": "stdout",
     "output_type": "stream",
     "text": [
      "10 5\n"
     ]
    }
   ],
   "source": [
    "#Exercise 4\n",
    "\n",
    "total = 0\n",
    "num = 1\n",
    "while num < 5:\n",
    "    total = total+num\n",
    "    num = num + 1\n",
    "print(total, num)"
   ]
  },
  {
   "cell_type": "code",
   "execution_count": 24,
   "metadata": {},
   "outputs": [
    {
     "name": "stdout",
     "output_type": "stream",
     "text": [
      "2 [4, 6, 8]\n",
      "6 [6, 8]\n",
      "12 [8]\n",
      "20 []\n"
     ]
    }
   ],
   "source": [
    "#Exercise 5\n",
    "\n",
    "lista = [2,4,6,8]\n",
    "total = 0\n",
    "\n",
    "while lista != []:\n",
    "    total = total +lista[0]\n",
    "    lista = lista[1:]\n",
    "    print(total, lista)"
   ]
  },
  {
   "cell_type": "code",
   "execution_count": 25,
   "metadata": {},
   "outputs": [
    {
     "name": "stdout",
     "output_type": "stream",
     "text": [
      "Atlantic,Pacific,Indian,Artic,Antartic\n",
      "Atlantic,Pacific,Indian,Antartic\n",
      "Atlantic,Pacific,Antartic\n",
      "Atlantic,Pacific,Antartic\n",
      "Atlantic,Pacific,Antartic\n"
     ]
    }
   ],
   "source": [
    "#Exercise 6\n",
    "\n",
    "oceans = ['Atlantic','Pacific','Indian','Artic','Antartic']\n",
    "\n",
    "i = len(oceans) - 1\n",
    "\n",
    "while i >= 0:\n",
    "    if len(oceans[i]) < 7:\n",
    "        del oceans[i]\n",
    "    i = i -1\n",
    "    print(\",\".join(oceans))             #Imprimiendo cada pasada por el loop\n",
    "    "
   ]
  },
  {
   "cell_type": "code",
   "execution_count": 26,
   "metadata": {},
   "outputs": [
    {
     "name": "stdout",
     "output_type": "stream",
     "text": [
      "a\n",
      "b\n",
      "c\n",
      "d\n"
     ]
    }
   ],
   "source": [
    "#Exercise 7\n",
    "\n",
    "list1 = ['a','b','c','d']\n",
    "i = 0\n",
    "while True:\n",
    "    print(list1[i])\n",
    "    i = i+1\n",
    "    if i == len(list1): \n",
    "        break"
   ]
  },
  {
   "cell_type": "code",
   "execution_count": 27,
   "metadata": {},
   "outputs": [
    {
     "name": "stdout",
     "output_type": "stream",
     "text": [
      "Celsius Fahrenheit\n",
      "10      50\n",
      "15      59\n",
      "20      68\n",
      "25      77\n",
      "30      86\n"
     ]
    }
   ],
   "source": [
    "# Exercise 15. Tenperature conversion. Write a program that displays a Celsius to Fahrenheit conversion table. Entries \n",
    "# in the table should range from 10 t0 30 degrees celsius in increments of 5 degrees. The formula f = ((9/5)*c) + 32 converts\n",
    "# celsius to fahrenheit.\n",
    "\n",
    "\n",
    "\n",
    "print(\"Celsius\",\"Fahrenheit\")\n",
    "celsius = 10\n",
    "\n",
    "while celsius < 35:\n",
    "    fahrenheit = ((9/5)*celsius)+ 32\n",
    "    print(int(celsius),\"    \", int(fahrenheit))\n",
    "    celsius = celsius + 5\n",
    "    \n",
    "\n"
   ]
  },
  {
   "cell_type": "code",
   "execution_count": 29,
   "metadata": {},
   "outputs": [
    {
     "name": "stdout",
     "output_type": "stream",
     "text": [
      "5.6 1\n",
      "3.92 2\n",
      "2.74 3\n",
      "1.92 4\n",
      "1.34 5\n",
      "0.94 6\n",
      "0.66 7\n",
      "0.46 8\n",
      "0.32 9\n",
      "0.23 10\n",
      "0.16 11\n",
      "0.11 12\n",
      "0.08 13\n",
      "In 13 bounces the ball will stop\n"
     ]
    }
   ],
   "source": [
    "# Exercise 16. Bouncing ball. The coeffciient of restituition of a ball, a number between 0 and 1, specifies how much energy\n",
    "# is conserved when the ball hits a rigid surface. A coefficient of 0.9 for instance means a bouncing ball will rise 90%\n",
    "# of its previous height after each bounce.Write a rpgroma to input a coefficient and initial height in meters and reports \n",
    "# how many timesa ball bounces when dropped from its initial height before it rises to a height less than 10 centimeters.\n",
    "\n",
    "\n",
    "height = 8\n",
    "bounce = 0\n",
    "\n",
    "while height > 0.1:\n",
    "    height = (height * 0.7)\n",
    "    bounce = bounce + 1\n",
    "    print(round(height,2), bounce)\n",
    "    \n",
    "print(\"In\", str(bounce),\"bounces the ball will stop\" )   \n"
   ]
  },
  {
   "cell_type": "code",
   "execution_count": 30,
   "metadata": {},
   "outputs": [
    {
     "name": "stdout",
     "output_type": "stream",
     "text": [
      "Enter M: 30\n",
      "Enter N: 35\n",
      "the greatest common divisor of M and N is  5\n"
     ]
    }
   ],
   "source": [
    "#Exercise 17.Greatest Common divisor. \n",
    "\n",
    "M = eval(input(\"Enter M: \"))\n",
    "N = eval(input(\"Enter N: \"))\n",
    "\n",
    "T = 0 \n",
    "\n",
    "while N > 0 :\n",
    "    T = N\n",
    "    N = M % N\n",
    "    M = T\n",
    "    \n",
    "\n",
    "print(\"the greatest common divisor of M and N is \", str(T))"
   ]
  },
  {
   "cell_type": "code",
   "execution_count": 32,
   "metadata": {},
   "outputs": [
    {
     "name": "stdout",
     "output_type": "stream",
     "text": [
      "Enter a positive integer: 2345\n",
      " 5 is a prime factor of a given number 2345\n",
      " 7 is a prime factor of a given number 2345\n",
      " 67 is a prime factor of a given number 2345\n"
     ]
    }
   ],
   "source": [
    "#Exercise 18. Factorization\n",
    "\n",
    "N = eval(input(\"Enter a positive integer: \"))\n",
    "\n",
    "i=1\n",
    "\n",
    "while(i <= N):\n",
    "    count = 0\n",
    "    if (N % i == 0):\n",
    "        j = 1\n",
    "        while(j <= i):\n",
    "            if(i % j  == 0):\n",
    "                count = count + 1\n",
    "            j = j + 1\n",
    "        if (count == 2):\n",
    "            print(\" %d is a prime factor of a given number %d\" %(i,N))\n",
    "    i = i + 1"
   ]
  },
  {
   "cell_type": "code",
   "execution_count": 42,
   "metadata": {},
   "outputs": [
    {
     "name": "stdout",
     "output_type": "stream",
     "text": [
      "I'll be 45 years old in 2025 This means that 45 square equals 2025\n"
     ]
    }
   ],
   "source": [
    "#Exercise 19.Age.A person born in 1980 can claim\"I will be x years old in the year squared\" What is the value of x?\n",
    "\n",
    "age = 0\n",
    "year = 1980\n",
    "\n",
    "while year < 2025:\n",
    "    age = age + 1\n",
    "    year = year + 1\n",
    "\n",
    "print(\"I'll be\", str(age),\"years old in\", str(year),\"This means that\", (str(age)), \"square equals 2025\")\n",
    "\n"
   ]
  },
  {
   "cell_type": "code",
   "execution_count": 55,
   "metadata": {},
   "outputs": [
    {
     "name": "stdout",
     "output_type": "stream",
     "text": [
      "The populaton will be 8 billions in 2024\n"
     ]
    }
   ],
   "source": [
    "# Exercise 20. Population Growth. the world population reached 7 billionson in Oct 21,2011 and was growing at the rate of \n",
    "# 1.1% each year.Assuming that the population continues to grow at the same rate , approximately when will the population\n",
    "# reach 8 billion?\n",
    "\n",
    "population= 7000000000\n",
    "year = 2011\n",
    "\n",
    "while population < 8000000000:\n",
    "    population = population +(population*0.011)\n",
    "    year = year + 1\n",
    "\n",
    "print(\"The populaton will be 8 billions in\", str(year))"
   ]
  },
  {
   "cell_type": "code",
   "execution_count": 58,
   "metadata": {},
   "outputs": [
    {
     "name": "stdout",
     "output_type": "stream",
     "text": [
      "size time\n",
      "50      28\n",
      "25      56\n",
      "12      84\n",
      "6      112\n",
      "3      140\n",
      "2      168\n",
      "1      196\n",
      "It will take 196 years to have a size of 1 gr\n"
     ]
    }
   ],
   "source": [
    "# Example 21. Radioactive decay. A radioactive element that is part of the fallout from nuclear explosions, has a half life\n",
    "# of 28 years.This means that a given quantity will emit radioactive particles and decay to one half its size every 28 years.\n",
    "# How many years are required for 100 grams to decay to less than 1 gr?\n",
    "\n",
    "size = 100\n",
    "time = 0\n",
    "print(\"size time\")\n",
    "\n",
    "while size >= 1 and size <= 100:\n",
    "    size = size/2\n",
    "    time = time + 28\n",
    "    print(round(size),\"    \", time)\n",
    "\n",
    "print(\"It will take\", str(time), \"years to have a size of 1 gr\")"
   ]
  },
  {
   "cell_type": "code",
   "execution_count": 59,
   "metadata": {},
   "outputs": [
    {
     "name": "stdout",
     "output_type": "stream",
     "text": [
      "244 1\n",
      "250 2\n",
      "257 3\n",
      "263 4\n",
      "270 5\n",
      "276 6\n",
      "283 7\n",
      "290 8\n",
      "298 9\n",
      "305 10\n",
      "313 11\n",
      "320 12\n",
      "328 13\n",
      "337 14\n",
      "345 15\n",
      "354 16\n",
      "363 17\n",
      "372 18\n",
      "381 19\n",
      "390 20\n",
      "400 21\n",
      "410 22\n",
      "420 23\n",
      "431 24\n",
      "442 25\n",
      "453 26\n",
      "464 27\n",
      "476 28\n",
      "488 29\n",
      "the CPI will take 29 years to double its level in 2014\n"
     ]
    }
   ],
   "source": [
    "# Exercise 22. Consumer price index. The consumer price index CPI indicates the average price of a fixed basket of goods \n",
    "# and services it is a customarily taken as a measure of inflation and is frequently used to adjust pensions.\n",
    "# The CPI was 9.9 in July 1913, was 100 in July 1983 and was 238.25 in July 2014.This means that 9.90 in July 1913 had the \n",
    "# same purchasing power as 100 in July 1983 and the same purchasing power as 238.25 in July 2014. In 2009 the CPI fell for \n",
    "# the first time since 1955 however for most of the preceding 15 years it had grown at an average rate of 2.5% per year.\n",
    "# Assuming that the CPI will rise at 2.5% per year in the future, in how many years will the CPI have at least doubled from\n",
    "# its July 2013 level?\n",
    "# Note: Each each year the CPI will be 1.025 times the CPI for the previous year. \n",
    "\n",
    "CPI = 238.25\n",
    "time = 0\n",
    "\n",
    "while CPI <= 476.5:\n",
    "    CPI = CPI + (CPI*0.025)\n",
    "    time = time + 1\n",
    "    print(round(CPI), time)\n",
    "\n",
    "print(\"the CPI will take\", str(time), \"years to double its level in 2014\")\n"
   ]
  },
  {
   "cell_type": "code",
   "execution_count": 65,
   "metadata": {},
   "outputs": [
    {
     "name": "stdout",
     "output_type": "stream",
     "text": [
      "14785 1\n",
      "14569 2\n",
      "14352 3\n",
      "14134 4\n",
      "13914 5\n",
      "13694 6\n",
      "13472 7\n",
      "13250 8\n",
      "13026 9\n",
      "12801 10\n",
      "12575 11\n",
      "12348 12\n",
      "12120 13\n",
      "11890 14\n",
      "11660 15\n",
      "11428 16\n",
      "11195 17\n",
      "10961 18\n",
      "10726 19\n",
      "10489 20\n",
      "10252 21\n",
      "10013 22\n",
      "9773 23\n",
      "9532 24\n",
      "9290 25\n",
      "9046 26\n",
      "8801 27\n",
      "8555 28\n",
      "8308 29\n",
      "8060 30\n",
      "7810 31\n",
      "7559 32\n",
      "7307 33\n",
      "Half be paid off in 33 months\n"
     ]
    }
   ],
   "source": [
    "# Exercise 23. Car Loan. When you borrow money to buy a house or a car the loan is paid off with a sequence of equal monthly\n",
    "# payments with a stated annual interest rate compounded monthly. The amount borrowed is called the principal.If the annual \n",
    "# interest rate is 6% (or 0.06) then the monthly interest rate is (0.06/12) = 0.005. At anytime the balance of the loan is \n",
    "# the amount still owed.The balance at the end of each month is calculated as a balance at the end of the previous month \n",
    "# plus the interest due on that balance, and minus the monthly payment. For instance with an annual interest rate of 6%\n",
    "\n",
    "# new balance = [previous balance] + 0.05*[previous balance] - [monthly payment]\n",
    "\n",
    "# new balance = 1.005*[previous balance] - [monthly payment]\n",
    "\n",
    "# suppose you borrow 15000 to buy a new car at 6% interest compounded monthly and your monthly payment is 290 after how  \n",
    "# many months will the car be half paid off that is after how many months will the balance be less than half the amount \n",
    "# borrowed \n",
    "\n",
    "balance = 15000\n",
    "time = 0\n",
    "monthly = 290\n",
    "\n",
    "while balance >= 7500:\n",
    "    balance = balance+(0.005*balance) - (monthly)\n",
    "    time = time + 1\n",
    "    print(round(balance), time)\n",
    "\n",
    "print(\"Half be paid off in\", str(time), \"months\")"
   ]
  },
  {
   "cell_type": "code",
   "execution_count": 67,
   "metadata": {},
   "outputs": [
    {
     "name": "stdout",
     "output_type": "stream",
     "text": [
      "balance time\n",
      "100    1\n",
      "200    2\n",
      "301    3\n",
      "402    4\n",
      "503    5\n",
      "604    6\n",
      "705    7\n",
      "807    8\n",
      "909    9\n",
      "1011    10\n",
      "1114    11\n",
      "1217    12\n",
      "1320    13\n",
      "1423    14\n",
      "1527    15\n",
      "1630    16\n",
      "1734    17\n",
      "1839    18\n",
      "1943    19\n",
      "2048    20\n",
      "2153    21\n",
      "2259    22\n",
      "2364    23\n",
      "2470    24\n",
      "2576    25\n",
      "2683    26\n",
      "2790    27\n",
      "2897    28\n",
      "3004    29\n",
      "At 29 months you will have 3000 dollars in your account\n"
     ]
    }
   ],
   "source": [
    "# Exercise 24. Annuity. An annuity is a sequence of equal periodic payments. One type of annuity called a savings plan \n",
    "# consists of monthly payments into a savings account in order to generate money for a future purchase. Suppose you decide \n",
    "# to deposit 100 at the end of each month into savings account paying 3% interest compounded monthly,  the monthly interest \n",
    "# rate will be 0.03/12 (or 0.0025) and the balance in the account at the end of each month will be computed as \n",
    "\n",
    "# balance at the end of month = (1.0025)*[balance at the end of month] + 100\n",
    "\n",
    "# After how many months will there be more than 3000 in the account \n",
    "\n",
    "balance = 0\n",
    "time = 0\n",
    "monthly = 100\n",
    "\n",
    "print(\"balance time\")\n",
    "\n",
    "while balance <= 3000:\n",
    "    balance = (1.0025*balance) + (monthly)\n",
    "    time = time + 1\n",
    "    print(round(balance),\"  \", time)\n",
    "\n",
    "print(\"At\", str(time), \"months you will have 3000 dollars in your account\")"
   ]
  },
  {
   "cell_type": "code",
   "execution_count": 69,
   "metadata": {},
   "outputs": [
    {
     "name": "stdout",
     "output_type": "stream",
     "text": [
      "balance| time\n",
      "9430   |    1\n",
      "8858   |    2\n",
      "8285   |    3\n",
      "7710   |    4\n",
      "7133   |    5\n",
      "6554   |    6\n",
      "5974   |    7\n",
      "5392   |    8\n",
      "4808   |    9\n",
      "4222   |    10\n",
      "3635   |    11\n",
      "3046   |    12\n",
      "2455   |    13\n",
      "1863   |    14\n",
      "1268   |    15\n",
      "672   |    16\n",
      "74   |    17\n",
      "At 17 months, I will have only 73.91 dollars in this account\n"
     ]
    }
   ],
   "source": [
    "# Exercise 25. Annuity.An annuity is a sequence of equal periodic payments. For one type of annuity a large amount of money\n",
    "# is deposited into a bank account and then a fixed amount is withdrawn each month. Suppose you deposit 10000 into such an \n",
    "# account paying 3.6% interest compounded monthly and then withdraw 600 at the end of each month. The monthly interest rate \n",
    "# will be 0.036/12(or 0.03)and the balance in the account at the end of each month will be computed as \n",
    "\n",
    "# balance at the end of month = (1.003)*[balance at the end of month] - 600\n",
    "\n",
    "balance = 10000\n",
    "time = 0\n",
    "monthly = 600\n",
    "print(\"balance| time\")\n",
    "\n",
    "while balance >= 600:\n",
    "    balance = (1.003*balance) - (monthly)\n",
    "    time = time + 1\n",
    "    print(round(balance),\"  |   \", time)\n",
    "\n",
    "print(\"At\", str(time), \"months, I will have only\",str(round(balance,2)), \"dollars in this account\")"
   ]
  },
  {
   "cell_type": "code",
   "execution_count": 73,
   "metadata": {},
   "outputs": [
    {
     "name": "stdout",
     "output_type": "stream",
     "text": [
      "It'll take 5776 years to decay to 1/2 gram\n"
     ]
    }
   ],
   "source": [
    "# Exercise 26. Radioactive decay. Carbon-14 is constantly produced in earth upper atmosphere due to interactions between \n",
    "# cosmic rays and nitrogen and is found in all plants and animals. After a plant or animal dies its amount of carbon 14 \n",
    "# decreases by about 0.012% per year. Determine the half life of carbon-14, that is the number of years required for 1 \n",
    "# gram of carbon-14 to the decay to less than 1/2 gram \n",
    "\n",
    "size = 1\n",
    "time = 0\n",
    "\n",
    "\n",
    "while size >= 0.5 and size <=1:\n",
    "    size -= size*0.00012\n",
    "    time = time + 1\n",
    "\n",
    "\n",
    "print(\"It'll take\", str(time), \"years to decay to 1/2 gram\")"
   ]
  },
  {
   "cell_type": "code",
   "execution_count": 75,
   "metadata": {},
   "outputs": [
    {
     "name": "stdout",
     "output_type": "stream",
     "text": [
      "Starting 253 students the probability of having the same birthday as me is more than 50%\n"
     ]
    }
   ],
   "source": [
    "# Example 27. Same birthday as you.Suppose you are in a large lecture class with n  other students. Determine how large \n",
    "# n must be such that the probability that someone has the same birthday as you is greater than 50% . Note: forgetting about \n",
    "# leap years and so assuming 365 days in a year the probability that no one has the same birthday as you is (364/365)^n\n",
    "\n",
    "\n",
    "students = 0\n",
    "\n",
    "while (364/365)**students >= 0.5:\n",
    "    students = students + 1\n",
    "print(\"Starting\", str(students), \"students the probability of having the same birthday as me is more than 50%\")"
   ]
  },
  {
   "cell_type": "code",
   "execution_count": 78,
   "metadata": {},
   "outputs": [
    {
     "name": "stdout",
     "output_type": "stream",
     "text": [
      "Enter the amount:10000\n",
      "balance | time\n",
      "9430   |   1\n",
      "8858   |   2\n",
      "8285   |   3\n",
      "7710   |   4\n",
      "7133   |   5\n",
      "6554   |   6\n",
      "5974   |   7\n",
      "5392   |   8\n",
      "4808   |   9\n",
      "4222   |   10\n",
      "3635   |   11\n",
      "3046   |   12\n",
      "2455   |   13\n",
      "1863   |   14\n",
      "1268   |   15\n",
      "672   |   16\n",
      "74   |   17\n",
      "At 17 months I will have 73.91 dollars in this account\n"
     ]
    }
   ],
   "source": [
    "# Exercise 28. Annuity. Redo exercise 25 with the amount of money deposited being input by the user\n",
    "\n",
    "\n",
    "balance = eval(input(\"Enter the amount:\"))\n",
    "time = 0\n",
    "monthly = 600\n",
    "print(\"balance | time\")\n",
    "\n",
    "while balance >= 600:\n",
    "    balance = (1.003*balance) - (monthly)\n",
    "    time = time + 1\n",
    "    print(round(balance),\"  |  \", time)\n",
    "\n",
    "print(\"At\", str(time), \"months I will have\",str(round(balance,2)), \"dollars in this account\")"
   ]
  },
  {
   "cell_type": "code",
   "execution_count": 81,
   "metadata": {},
   "outputs": [
    {
     "name": "stdout",
     "output_type": "stream",
     "text": [
      "year:   China   |   India\n",
      "2015 1376987000 1277010000\n",
      "2016 1384009634 1294249635\n",
      "2017 1391068083 1311722005\n",
      "2018 1398162530 1329430252\n",
      "2019 1405293159 1347377561\n",
      "2020 1412460154 1365567158\n",
      "2021 1419663701 1384002314\n",
      "2022 1426903986 1402686345\n",
      "2023 1434181196 1421622611\n",
      "2024 1441495520 1440814516\n",
      "2025 1448847147 1460265512\n"
     ]
    }
   ],
   "source": [
    "# Exercise 29. Population Growth.In 2014 China's population was about 1.37 billion and growing at the rate of 0.51% per year\n",
    "# In 2014 India's population was about 1.26 billion and growing at the rate of 1.35% per year. Determine when India's \n",
    "# population will surpass China's population. Assume that the 2014 growth rates will continue\n",
    "\n",
    "\n",
    "pop_China = 1370000000\n",
    "pop_India = 1260000000\n",
    "year = 2014\n",
    "print(\"year:   China   |   India\")\n",
    "while pop_China >= pop_India:\n",
    "    pop_China = pop_China + (pop_China*0.0051)\n",
    "    pop_India = pop_India + (pop_India*0.0135)\n",
    "    year = year + 1\n",
    "    print(year,round(pop_China),round(pop_India))"
   ]
  },
  {
   "cell_type": "code",
   "execution_count": 84,
   "metadata": {},
   "outputs": [
    {
     "name": "stdout",
     "output_type": "stream",
     "text": [
      "temperatura minutos\n",
      "201           1\n",
      "190           2\n",
      "181           3\n",
      "172           4\n",
      "164           5\n",
      "157           6\n",
      "150           7\n",
      "The time that will take lower to 150F is 7 minutes\n"
     ]
    }
   ],
   "source": [
    "# Exercise 30. Cooling.Newton's law of cooling states that when a hot liquid is placed in a cool room each minute the \n",
    "# decrease in the temperature is approximately proportional to the difference between the liquid temperature and the room \n",
    "# temperature. That is, there is a constant K such that each minute the temperature loss is (k*(liquid temp - room temp))\n",
    "# Suppose a cup of 212 F of coffee is placed in a 70 F.  \n",
    "# Determine the number of minutes required for the coffee to cool below 150 Fahrenheit \n",
    "\n",
    "\n",
    "temp_liquid = 212\n",
    "temp_room = 70\n",
    "k = 0.079\n",
    "time = 0\n",
    "print(\"temperature\",\"minutes\")\n",
    "\n",
    "while temp_liquid >= 150:\n",
    "    temp_liquid = (temp_liquid)-k*(temp_liquid - temp_room)\n",
    "    time = time + 1\n",
    "    print(round(temp_liquid),\"         \",time)\n",
    "\n",
    "print(\"The time that will take lower to 150F is\", str(time), \"minutes\")\n"
   ]
  },
  {
   "cell_type": "markdown",
   "metadata": {},
   "source": [
    "# 3.4 The For loop"
   ]
  },
  {
   "cell_type": "code",
   "execution_count": 112,
   "metadata": {},
   "outputs": [
    {
     "name": "stdout",
     "output_type": "stream",
     "text": [
      "year weight\n",
      "1   8.8\n",
      "2   7.74\n",
      "3   6.81\n",
      "4   6.0\n",
      "5   5.28\n"
     ]
    }
   ],
   "source": [
    "# Exercise 51: Radioactive decay. Cobalt 60 and radioactive form of cobalt used in cancer therapy decays over a period of \n",
    "# time.Each year 12% of the amount present at the beginning of the year will have decayed. If a container of cobalt 60 \n",
    "# initially contains 10 grams determine the amount remaining after five years. Round the amount remaining to two decimal \n",
    "# places \n",
    "\n",
    "weight = 10\n",
    "rate = 0.12\n",
    "\n",
    "\n",
    "print(\"year\",\"weight\")\n",
    "for year in range(1,6):\n",
    "    weight = weight - (weight*rate)\n",
    "    print(year,\" \",round(weight,2))\n",
    "\n"
   ]
  },
  {
   "cell_type": "code",
   "execution_count": 113,
   "metadata": {},
   "outputs": [
    {
     "name": "stdout",
     "output_type": "stream",
     "text": [
      "Enter your phone number with dashes:713-894-2104\n",
      "7138942104\n"
     ]
    }
   ],
   "source": [
    "#Exercise 52: Phone number. Remove the dashes from a telephone number input by the user\n",
    "\n",
    "num = list(input(\"Enter your phone number with dashes:\"))\n",
    "\n",
    "list1 = []\n",
    "\n",
    "\n",
    "for n in num:\n",
    "    list1.append(n.replace(\"-\",\"\"))\n",
    "    \n",
    "print((\"\").join(list1))\n"
   ]
  },
  {
   "cell_type": "code",
   "execution_count": 114,
   "metadata": {},
   "outputs": [
    {
     "name": "stdout",
     "output_type": "stream",
     "text": [
      "Enter a phrase: Less is more\n",
      "Vowels =  4\n"
     ]
    }
   ],
   "source": [
    "#Exercise 53: Vowels.Count the number of vowels in a phrase input by the user\n",
    "\n",
    "phrase = list(input(\"Enter a phrase: \"))\n",
    "\n",
    "for elements in frase:\n",
    "    phrase.count(\"a\")\n",
    "    phrase.count(\"e\")\n",
    "    phrase.count(\"i\")\n",
    "    phrase.count(\"o\")\n",
    "    phrase.count(\"u\")\n",
    "\n",
    "print(\"Vowels = \", phrase.count(\"a\")+phrase.count(\"e\")+phrase.count(\"i\")+phrase.count(\"o\")+phrase.count(\"u\")) "
   ]
  },
  {
   "cell_type": "code",
   "execution_count": 115,
   "metadata": {},
   "outputs": [
    {
     "name": "stdout",
     "output_type": "stream",
     "text": [
      "Enter the first number: 3.4\n",
      "Enter the second number: 9.3\n",
      "Enter the third number: 5.5\n",
      "['3.4', '9.3', '5.5']\n",
      "The largest number is 9.3\n"
     ]
    }
   ],
   "source": [
    "#Exercise 54: largest number. Find the largest of three numbers obtained from the user\n",
    "\n",
    "num_1 = input(\"Enter the first number: \")\n",
    "num_2 = input(\"Enter the second number: \")\n",
    "num_3 = input(\"Enter the third number: \")\n",
    "list1 = [num_1,num_2,num_3]\n",
    "print(list1)\n",
    "\n",
    "for i in list1:\n",
    "    if num_1 > num_2:\n",
    "        largest_number = num_1\n",
    "    elif num_2 > num_3:\n",
    "        largest_number = num_2\n",
    "    else:\n",
    "        largest_number = num_3\n",
    "        \n",
    "print(\"The largest number is\",largest_number)\n",
    "\n"
   ]
  },
  {
   "cell_type": "code",
   "execution_count": 95,
   "metadata": {},
   "outputs": [
    {
     "name": "stdout",
     "output_type": "stream",
     "text": [
      "5.18738\n"
     ]
    }
   ],
   "source": [
    "#Exercise 55: Sum of fractions. Find the value of 1/1 + 1/2 + 1/3 + 1/4 hasta 1/100 to 5 decimal places\n",
    "\n",
    "total = 0\n",
    "\n",
    "for i in range(1,101):\n",
    "    total = total + (1/i)\n",
    "    \n",
    "print(round(total,5))\n"
   ]
  },
  {
   "cell_type": "code",
   "execution_count": 96,
   "metadata": {},
   "outputs": [
    {
     "name": "stdout",
     "output_type": "stream",
     "text": [
      "5050\n"
     ]
    }
   ],
   "source": [
    "#Exercise 56. Sum of numbers. Find the sum of the first 100 positive integers\n",
    "\n",
    "total = 0\n",
    "for i in range(1,101):\n",
    "    total = total + i\n",
    "print(total)\n"
   ]
  },
  {
   "cell_type": "code",
   "execution_count": 116,
   "metadata": {},
   "outputs": [
    {
     "name": "stdout",
     "output_type": "stream",
     "text": [
      "Enter a word: almost\n",
      "The word is ordered alphabetically\n"
     ]
    }
   ],
   "source": [
    "# Exercise 57. Alphabetical order. Accept a word as input and determine if its letter are in alphabetical order. \n",
    "# Some examples of words whose letters are in alphabetical order or biopsy, adapt,chintz and lost. \n",
    "\n",
    "#solution 1\n",
    "\n",
    "word = input(\"Enter a word: \")\n",
    "first_letter = \"\"\n",
    "second_letter = \"\"\n",
    "flag = True\n",
    "\n",
    "for letter in range(0,len(word) - 1):\n",
    "    first_letter = word[letter]\n",
    "    second_letter = word[letter+1]\n",
    "    if first_letter > second_letter:\n",
    "        flag = False\n",
    "        \n",
    "if flag:\n",
    "    print (\"The word is ordered alphabetically\")\n",
    "else:\n",
    "    print(\"The word is not ordered alphabetically\")"
   ]
  },
  {
   "cell_type": "code",
   "execution_count": 98,
   "metadata": {},
   "outputs": [
    {
     "name": "stdout",
     "output_type": "stream",
     "text": [
      "Enter your word here: education\n",
      "Not alphabetically ordered\n"
     ]
    }
   ],
   "source": [
    "# Exercise 57. Alphabetical order. Accept a word as input and determine if its letter are in alphabetical order. \n",
    "# Some examples of words whose letters are in alphabetical order or biopsy, adapt,chintz and lost. \n",
    "\n",
    "#solution2:\n",
    "\n",
    "word = (input(\"Enter your word here: \")).lower()\n",
    "#word_list = list(word)\n",
    "#print(word_list)\n",
    "\n",
    "for n in range(len(word)):\n",
    "    if n == (len(word) - 1):\n",
    "        print(\"Alphabetically ordered\")\n",
    "    else:\n",
    "        if ord(word[n]) > ord(word[n+1]):\n",
    "            print(\"Not alphabetically ordered\")\n",
    "            break"
   ]
  },
  {
   "cell_type": "code",
   "execution_count": 117,
   "metadata": {},
   "outputs": [
    {
     "name": "stdout",
     "output_type": "stream",
     "text": [
      "Ingrese su palabra aca: sequoia\n",
      "This word has all the vowels\n"
     ]
    }
   ],
   "source": [
    "# Exercise 58: Vowel words. A vowel word is a word that contains every vowel. Some examples of vowel words are \n",
    "# sequoia and dialogue. Determine if a word input by the user is a vowel word \n",
    "\n",
    "word = list(input(\"Ingrese su palabra aca: \"))\n",
    "\n",
    "for letter in word:\n",
    "    if \"a\" and \"e\" and \"i\" and \"o\" and \"u\" in word:\n",
    "        flag = True\n",
    "    else:\n",
    "        flag = False\n",
    "        \n",
    "if flag == True:\n",
    "    print(\"This word has all the vowels\")\n",
    "\n",
    "else:\n",
    "    print(\"This word does not have all the vowels\")\n",
    "   "
   ]
  },
  {
   "cell_type": "code",
   "execution_count": 129,
   "metadata": {},
   "outputs": [
    {
     "name": "stdout",
     "output_type": "stream",
     "text": [
      "Enter name: helen\n",
      "Enter age: 20\n",
      "Enter initial salary: 1000\n",
      "year cumulative earnings\n",
      "1    1000\n",
      "2    2050.0\n",
      "3    3152.5\n",
      "4    4310.1\n",
      "5    5525.6\n",
      "6    6801.9\n",
      "7    8142.0\n",
      "8    9549.1\n",
      "9    11026.6\n",
      "10    12577.9\n",
      "11    14206.8\n",
      "12    15917.1\n",
      "13    17713.0\n",
      "14    19598.6\n",
      "15    21578.6\n",
      "16    23657.5\n",
      "17    25840.4\n",
      "18    28132.4\n",
      "19    30539.0\n",
      "20    33066.0\n",
      "21    35719.3\n",
      "22    38505.2\n",
      "23    41430.5\n",
      "24    44502.0\n",
      "25    47727.1\n",
      "26    51113.5\n",
      "27    54669.1\n",
      "28    58402.6\n",
      "29    62322.7\n",
      "30    66438.8\n",
      "31    70760.8\n",
      "32    75298.8\n",
      "33    80063.8\n",
      "34    85067.0\n",
      "35    90320.3\n",
      "36    95836.3\n",
      "37    101628.1\n",
      "38    107709.5\n",
      "39    114095.0\n",
      "40    120799.8\n",
      "41    127839.8\n",
      "42    135231.8\n",
      "43    142993.3\n",
      "44    151143.0\n",
      "45    159700.2\n",
      "When helen is 65, 45 years would have passed and will have  159700.2 of lifetime earnings\n"
     ]
    }
   ],
   "source": [
    "#Exercise 59: Lifetime Earnings.Estimate how much a young worker will earn before retiring at age 65 where the workers name \n",
    "# age and starting salary are input by the user. assume the worker receive a 5% raise each year.\n",
    "\n",
    "name = input(\"Enter name: \")\n",
    "age = int(input(\"Enter age: \"))\n",
    "monthly = int(input(\"Enter initial salary: \"))\n",
    "\n",
    "time = int(65 - age)\n",
    "\n",
    "cum_balance= 0\n",
    "\n",
    "print(\"year\", \"cumulative earnings\")\n",
    "\n",
    "for i in range(1,time+1):\n",
    "    \n",
    "    cum_balance = (monthly) + (cum_balance)\n",
    "    \n",
    "    monthly = (monthly) + (monthly*0.05)\n",
    "    time = time + 1\n",
    "    \n",
    "    print(i,\"  \",round(cum_balance,1))\n",
    "\n",
    "print(\"When\",name,\"is 65,\",i, \"years would have passed and will have \",round(cum_balance,1), \"of lifetime earnings\")"
   ]
  },
  {
   "cell_type": "code",
   "execution_count": 118,
   "metadata": {},
   "outputs": [
    {
     "name": "stdout",
     "output_type": "stream",
     "text": [
      "year simple interest\n",
      "1 1050\n",
      "2 1100\n",
      "3 1150\n",
      "4 1200\n",
      "===============\n",
      "ano interes compounded\n",
      "1 1050.0\n",
      "2 1102.5\n",
      "3 1157.625\n",
      "4 1215.50625\n"
     ]
    }
   ],
   "source": [
    "# Exercise 60. Simple vs compound interest.\n",
    "# When $1000 is invested at 5% simple interest the amount grows by $50.00 each year. When money is invested at 5% interest \n",
    "# compounded annually the amount at the end of each year is 1.05 times the amount at the beginning of that year. Display \n",
    "# the amounts after the first four years for a 1000 investment at 5% simple and compounded interest \n",
    "\n",
    "\n",
    "investment = 1000\n",
    "\n",
    "print(\"year\",  \"simple interest\")\n",
    "\n",
    "for i in range(1,5):\n",
    "    investment = investment + 50\n",
    "    print(i,investment)\n",
    "    i = i+1    \n",
    "\n",
    "print(\"===============\")\n",
    "\n",
    "print(\"ano\",  \"interes compounded\")\n",
    "investment = 1000\n",
    "\n",
    "for i in range(1,5):\n",
    "    investment = investment + (investment*0.05) \n",
    "    print(i,investment)\n",
    "    i = i+1"
   ]
  },
  {
   "cell_type": "code",
   "execution_count": 119,
   "metadata": {},
   "outputs": [
    {
     "name": "stdout",
     "output_type": "stream",
     "text": [
      "year balance\n",
      "2013 12347.85\n",
      "2014 9532.13\n",
      "2015 6542.74\n",
      "2016 3368.97\n",
      "2017 0.00\n"
     ]
    }
   ],
   "source": [
    "# Exercise 61. Car loan. Consider the car loan discussed in exercise 23 of section 3.3 The loan will be paid off after five \n",
    "# years. Assume that the car was purchased at the beginning of January 2013 and displayed the balance at the end of each \n",
    "# year for five years.Note: the last payment will be slightly less than the other payments since otherwise the final balance\n",
    "# will be a negative amount \n",
    "\n",
    "balance = 15000\n",
    "year = 2012\n",
    "\n",
    "\n",
    "print(\"year\", \"balance\")\n",
    "for i in range(1,60):                            #loop es en meses, pagos y formulas son en meses\n",
    "    \n",
    "    balance = (1.005*balance) - (290)\n",
    "    if i % 12 == 0:\n",
    "        year = year + 1\n",
    "        print(year,round(balance,2))\n",
    "        \n",
    "print(year + 1,\"0.00\")\n"
   ]
  },
  {
   "cell_type": "code",
   "execution_count": 120,
   "metadata": {},
   "outputs": [
    {
     "name": "stdout",
     "output_type": "stream",
     "text": [
      "year balance\n",
      "2014 1216.64\n",
      "2015 2470.28\n",
      "2016 3762.06\n",
      "2017 5093.12\n",
      "2018 6464.67\n"
     ]
    }
   ],
   "source": [
    "# Exercise 62.Annuity.Refer to the annuity discussed in exercise 24 of section 3.3.Assume that the first deposit is made at \n",
    "# the end of January 2014 and display the balance in the account at the end of each year from 2014 to 2018 \n",
    "\n",
    "balance = 0\n",
    "year = 2013\n",
    "\n",
    "\n",
    "print(\"year\", \"balance\")\n",
    "for i in range(1,72):                            #loop es en meses, pagos y formulas son en meses\n",
    "    \n",
    "    balance = (1.0025*balance) + (100)\n",
    "    if i % 12 == 0:\n",
    "        year = year + 1\n",
    "        print(year,round(balance,2))\n"
   ]
  },
  {
   "cell_type": "code",
   "execution_count": 121,
   "metadata": {},
   "outputs": [
    {
     "name": "stdout",
     "output_type": "stream",
     "text": [
      "Ingrese el primer numero: 2\n",
      "Ingrese el segundo numero: 3\n",
      "Ingrese el tercer numero: 5\n",
      "[2, 3, 5]\n",
      "[3, 5]\n",
      "the 2 highes numbers are:  3 and 5 and their average is: 4\n"
     ]
    }
   ],
   "source": [
    "#Exercise 63. Average grade.Ask the user to enter three grades and then compute the average after dropping the lowest grade \n",
    "\n",
    "num_1 = eval(input(\"Ingrese el primer numero: \"))\n",
    "num_2 = eval(input(\"Ingrese el segundo numero: \"))\n",
    "num_3 = eval(input(\"Ingrese el tercer numero: \"))\n",
    "list1 = [num_1,num_2,num_3]\n",
    "print(list1)\n",
    "\n",
    "\n",
    "for i in list1:\n",
    "    sorting = list1.sort()\n",
    "    \n",
    "list_new = list1[1:3] \n",
    "print(list_new)\n",
    "\n",
    "print(\"the 2 highest numbers are: \", list_new[0],\"and\",list_new[1], \"and their average is:\", round(sum(list_new)/2))\n"
   ]
  },
  {
   "cell_type": "code",
   "execution_count": 109,
   "metadata": {},
   "outputs": [
    {
     "name": "stdout",
     "output_type": "stream",
     "text": [
      "7\n",
      "8\n",
      "9\n",
      "10\n",
      "===\n",
      "-11\n",
      "-10\n",
      "-9\n",
      "-8\n",
      "===\n",
      "2\n",
      "5\n",
      "8\n",
      "11\n",
      "===\n",
      "2010\n",
      "2015\n",
      "2020\n",
      "2025\n",
      "===\n",
      "0\n",
      "1\n",
      "2\n",
      "3\n",
      "4\n",
      "5\n",
      "===\n",
      "0\n",
      "===\n",
      "11\n",
      "10\n",
      "9\n",
      "8\n",
      "===\n",
      "12\n",
      "7\n"
     ]
    }
   ],
   "source": [
    "#In exercises 1 through 8 determine the sequence generated by the range function \n",
    "\n",
    "#1):\n",
    "for i in range(7,11):\n",
    "    print(i)\n",
    "\n",
    "#2):\n",
    "print(\"===\")\n",
    "for i in range(-11,-7):\n",
    "    print(i)\n",
    "\n",
    "#3):\n",
    "print(\"===\")\n",
    "for i in range(2,14,3):\n",
    "    print(i)\n",
    "\n",
    "#4):\n",
    "print(\"===\")\n",
    "for i in range(2010,2030,5):\n",
    "    print(i)\n",
    "\n",
    "#5):\n",
    "print(\"===\")\n",
    "for i in range(6):\n",
    "    print(i)\n",
    "\n",
    "#6):\n",
    "print(\"===\")\n",
    "for i in range(1):\n",
    "    print(i)\n",
    "\n",
    "#7):\n",
    "print(\"===\")\n",
    "for i in range(11,7,-1):                               #Step in reverse\n",
    "    print(i)\n",
    "\n",
    "#8):\n",
    "print(\"===\")\n",
    "for i in range(12,2,-5):                               #Step in reverse\n",
    "    print(i)\n"
   ]
  },
  {
   "cell_type": "code",
   "execution_count": 106,
   "metadata": {},
   "outputs": [
    {
     "name": "stdout",
     "output_type": "stream",
     "text": [
      "4\n",
      "9\n",
      "14\n",
      "19\n",
      "===\n",
      "0\n",
      "1\n",
      "2\n",
      "3\n",
      "===\n",
      "-21\n",
      "-20\n",
      "-19\n",
      "-18\n",
      "===\n",
      "4\n",
      "3\n",
      "2\n",
      "1\n",
      "===\n",
      "20\n",
      "17\n",
      "14\n",
      "===\n",
      "7\n",
      "===\n",
      "5\n",
      "4\n",
      "3\n",
      "2\n",
      "1\n",
      "0\n",
      "===\n",
      "-5\n",
      "-3\n",
      "-1\n",
      "1\n"
     ]
    }
   ],
   "source": [
    "#In exercises 9 through the 16 determine a range function that generates the sequence of numbers \n",
    "\n",
    "#9): 4,9,14,19\n",
    "\n",
    "for i in range(4,20,5):\n",
    "    print(i)\n",
    "\n",
    "#10): 0,1,2,3\n",
    "print(\"===\")\n",
    "for i in range(0,4):\n",
    "    print(i)\n",
    "\n",
    "#11): -21,-20-19,-18\n",
    "print(\"===\")\n",
    "for i in range(-21,-17):\n",
    "    print(i)\n",
    "\n",
    "#12): 4,3,2,1\n",
    "print(\"===\")\n",
    "for i in range(4,0,-1):              #Step in reverse\n",
    "    print(i)\n",
    "\n",
    "#13): 20,17,14                      #Step in reverse\n",
    "print(\"===\")\n",
    "for i in range(20,13,-3):\n",
    "    print(i)\n",
    "\n",
    "#14): 7\n",
    "print(\"===\")\n",
    "for i in range(7,8):\n",
    "    print(i)\n",
    "\n",
    "#14): 5, 4, 3, 2, 1, 0              #Step in reverse\n",
    "print(\"===\")\n",
    "for i in range(5,-1,-1):                             \n",
    "    print(i)\n",
    "\n",
    "#16): -5, -3, -1, 1       \n",
    "print(\"===\")\n",
    "for i in range(-5,2,2):                             \n",
    "    print(i)\n"
   ]
  }
 ],
 "metadata": {
  "kernelspec": {
   "display_name": "Python 3",
   "language": "python",
   "name": "python3"
  },
  "language_info": {
   "codemirror_mode": {
    "name": "ipython",
    "version": 3
   },
   "file_extension": ".py",
   "mimetype": "text/x-python",
   "name": "python",
   "nbconvert_exporter": "python",
   "pygments_lexer": "ipython3",
   "version": "3.7.3"
  }
 },
 "nbformat": 4,
 "nbformat_minor": 2
}
