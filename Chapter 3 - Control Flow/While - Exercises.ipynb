{
 "cells": [
  {
   "cell_type": "code",
   "execution_count": 1,
   "metadata": {},
   "outputs": [
    {
     "name": "stdout",
     "output_type": "stream",
     "text": [
      "1\n",
      "2\n",
      "3\n",
      "4\n",
      "5\n",
      "======\n",
      "2 4\n",
      "3 9\n",
      "4 16\n",
      "5 25\n"
     ]
    }
   ],
   "source": [
    " #==================================================== ITERATORS=========================================================\n",
    "    \n",
    "    \n",
    "# ----------------------------------WHILE (iteracion siempre y cuando se cumpla la condicion inicial)---------------------\n",
    "\n",
    "num = 1                    #-----------> Start\n",
    "while num <= 5:            #-----------> While Condition\n",
    "    print(num)             #-----------> Execute this  (result)\n",
    "    num+=1                 #-----------> Change number to start the loop again(no infinite condition)\n",
    "\n",
    "\n",
    "print(\"======\")\n",
    "# ----------------------------------FOR-------(iteracion de una secuencia de valores, por ejemplo \"in range (x:y)\"--------\n",
    "\n",
    "\n",
    "for i in range(2,6,1):   # (2 es incluyente,6 excluyente y 1 es el \"step\")\n",
    "    print(i, i*i)\n",
    "\n"
   ]
  },
  {
   "cell_type": "code",
   "execution_count": 2,
   "metadata": {},
   "outputs": [
    {
     "name": "stdout",
     "output_type": "stream",
     "text": [
      "Este programa muestra una frase famosa de peliculas\n",
      "Ingrese 1, 2 or 3: 2\n",
      "Rosebud\n"
     ]
    }
   ],
   "source": [
    "# Example 2:Movie Quotation. Este programa me muestra una frase famosa de peliculas\n",
    "\n",
    "print(\"Este programa muestra una frase famosa de peliculas\")\n",
    "\n",
    "opciones = input(\"Ingrese 1, 2 or 3: \")\n",
    "\n",
    "while opciones == \"1\" or \"2\" or \"3\":\n",
    "    \n",
    "    if opciones == \"1\":                                     \n",
    "        print(\"Plastics\")\n",
    "        break\n",
    "        \n",
    "    elif opciones == \"2\":\n",
    "        print(\"Rosebud\")\n",
    "        break\n",
    "        \n",
    "    elif opciones == \"3\":\n",
    "        print(\"That's all folks\")\n",
    "        break\n",
    "    \n",
    "    else:\n",
    "        print(\"Intenta de nuevo\")\n",
    "        break\n"
   ]
  },
  {
   "cell_type": "code",
   "execution_count": 3,
   "metadata": {},
   "outputs": [
    {
     "name": "stdout",
     "output_type": "stream",
     "text": [
      "(Este programa calcula el maximo, minimo y promedio de una secuencia de valores positivos)\n",
      "(Introduzca -1 para finalizar de introducir numeros)\n",
      "Introduzca un numero positivo: 32\n",
      "Introduzca un numero positivo: 76\n",
      "Introduzca un numero positivo: -1\n",
      "Minimo: 32\n",
      "Maximo: 76\n",
      "Promedio: 54.0\n"
     ]
    }
   ],
   "source": [
    "# Example 3: Numeros\n",
    "\n",
    "print(\"(Este programa calcula el maximo, minimo y promedio de una secuencia de valores positivos)\")\n",
    "\n",
    "cantidad = 0\n",
    "sumatoria_numeros = 0\n",
    "\n",
    "print(\"(Introduzca -1 para finalizar de introducir numeros)\")\n",
    "numero = eval(input(\"Introduzca un numero positivo: \"))\n",
    "\n",
    "min = numero\n",
    "max = numero\n",
    "\n",
    "while numero != -1:\n",
    "    cantidad = cantidad + 1\n",
    "    sumatoria_numeros = sumatoria_numeros + numero\n",
    "    if numero < min:\n",
    "        min = numero\n",
    "    if numero > max:\n",
    "        max = numero\n",
    "    numero = eval(input(\"Introduzca un numero positivo: \"))\n",
    "\n",
    "if cantidad > 0 :\n",
    "    print(\"Minimo:\", min)\n",
    "    print(\"Maximo:\", max)\n",
    "    print(\"Promedio:\", sumatoria_numeros/cantidad)\n",
    "else:\n",
    "    print(\"Introdujo numeros negativos\")"
   ]
  },
  {
   "cell_type": "code",
   "execution_count": 4,
   "metadata": {},
   "outputs": [
    {
     "name": "stdout",
     "output_type": "stream",
     "text": [
      "(Este programa calcula el maximo, minimo y promedio de una secuencia de valores positivos)\n",
      "(Introduzca -1 para finalizar de introducir numeros)\n",
      "Introduzca un numero positivo: 23\n",
      "Introduzca un numero positivo: 65\n",
      "Introduzca un numero positivo: 78\n",
      "Introduzca un numero positivo: -1\n",
      "Minimo: 23\n",
      "Maximo: 78\n",
      "Promedio: 55.333333333333336\n"
     ]
    }
   ],
   "source": [
    "# Example 4: Numeros. Este programa calcula el max, min y promedio pero usanod listas.\n",
    "\n",
    "print(\"(Este programa calcula el maximo, minimo y promedio de una secuencia de valores positivos)\")\n",
    "print(\"(Introduzca -1 para finalizar de introducir numeros)\")\n",
    "\n",
    "lista_numeros = []\n",
    "numero = eval(input(\"Introduzca un numero positivo: \"))\n",
    "\n",
    "while numero != -1:\n",
    "    lista_numeros.append(numero)\n",
    "    numero = eval(input(\"Introduzca un numero positivo: \"))\n",
    "\n",
    "if len(lista_numeros) > 0 :\n",
    "    lista_numeros.sort()\n",
    "    print(\"Minimo:\", lista_numeros[0])\n",
    "    print(\"Maximo:\", lista_numeros[-1])\n",
    "    print(\"Promedio:\", sum(lista_numeros)/len(lista_numeros))\n",
    "else:\n",
    "    print(\"Introdujo numeros negativos\")\n"
   ]
  },
  {
   "cell_type": "code",
   "execution_count": 5,
   "metadata": {},
   "outputs": [
    {
     "name": "stdout",
     "output_type": "stream",
     "text": [
      "Ingresa el monto de ahorro inicial: 10000\n",
      "En 118 anos tendras 1 millon\n"
     ]
    }
   ],
   "source": [
    "#Example 5. Interes compuesto. \n",
    "#Este programa calcula el tiempo que te tardaras para acumular 1 millon de dolares, si tienes un cuenta de ahorro \n",
    "#en la cual comienzas con una cantidad y ganas 4 % de interes compuesto anual.\n",
    "\n",
    "monto = eval(input(\"Ingresa el monto de ahorro inicial: \"))\n",
    "ano = 0\n",
    "\n",
    "while monto < 1000000:\n",
    "    monto = (monto +(monto*0.04))\n",
    "    ano = ano + 1\n",
    "\n",
    "print(\"En\", str(ano),\"anos tendras 1 millon\" )\n"
   ]
  },
  {
   "cell_type": "code",
   "execution_count": 6,
   "metadata": {},
   "outputs": [
    {
     "name": "stdout",
     "output_type": "stream",
     "text": [
      "La suma de este loop es:  2\n",
      "La suma de este loop es:  5\n",
      "La suma de este loop es:  9\n",
      "La suma de este loop es:  14\n",
      "La suma de este loop es:  20\n",
      "La suma de este loop es:  27\n",
      "La suma de este loop es:  35\n",
      "La suma de este loop es:  44\n"
     ]
    }
   ],
   "source": [
    "#Example 3.3. Mostrar como va cambiando la suma que pasa por el loop.\n",
    "\n",
    "suma = 0\n",
    "num = 2\n",
    "\n",
    "while num < 10 :\n",
    "    suma = suma + num\n",
    "    print(\"La suma de este loop es: \",suma)\n",
    "    num = num + 1\n"
   ]
  },
  {
   "cell_type": "code",
   "execution_count": 7,
   "metadata": {},
   "outputs": [
    {
     "name": "stdout",
     "output_type": "stream",
     "text": [
      "24\n"
     ]
    }
   ],
   "source": [
    "#Exercise 1\n",
    "\n",
    "num = 3\n",
    "while True:\n",
    "    num = num *2\n",
    "    if num > 15:\n",
    "        break\n",
    "print(num)"
   ]
  },
  {
   "cell_type": "code",
   "execution_count": 8,
   "metadata": {},
   "outputs": [
    {
     "name": "stdout",
     "output_type": "stream",
     "text": [
      "18\n"
     ]
    }
   ],
   "source": [
    "#Exercise 2\n",
    "\n",
    "num = 3\n",
    "while num < 15:\n",
    "    num = num + 5\n",
    "print(num)"
   ]
  },
  {
   "cell_type": "code",
   "execution_count": 9,
   "metadata": {},
   "outputs": [
    {
     "name": "stdout",
     "output_type": "stream",
     "text": [
      "10 5\n"
     ]
    }
   ],
   "source": [
    "#Exercise 3\n",
    "\n",
    "total  = 0\n",
    "num = 1\n",
    "while True:\n",
    "    total = total + num\n",
    "    num = num + 1\n",
    "    if num >=5:\n",
    "        break\n",
    "print(total, num)"
   ]
  },
  {
   "cell_type": "code",
   "execution_count": 10,
   "metadata": {},
   "outputs": [
    {
     "name": "stdout",
     "output_type": "stream",
     "text": [
      "10 5\n"
     ]
    }
   ],
   "source": [
    "#Exercise 4\n",
    "\n",
    "total = 0\n",
    "num = 1\n",
    "while num < 5:\n",
    "    total = total+num\n",
    "    num = num + 1\n",
    "print(total, num)\n",
    "    "
   ]
  },
  {
   "cell_type": "code",
   "execution_count": 11,
   "metadata": {},
   "outputs": [
    {
     "name": "stdout",
     "output_type": "stream",
     "text": [
      "2 [4, 6, 8]\n",
      "6 [6, 8]\n",
      "12 [8]\n",
      "20 []\n"
     ]
    }
   ],
   "source": [
    "#Exercise 5\n",
    "\n",
    "lista = [2,4,6,8]\n",
    "total = 0\n",
    "\n",
    "while lista != []:\n",
    "    total = total +lista[0]\n",
    "    lista = lista[1:]\n",
    "    print(total, lista)"
   ]
  },
  {
   "cell_type": "code",
   "execution_count": 12,
   "metadata": {},
   "outputs": [
    {
     "name": "stdout",
     "output_type": "stream",
     "text": [
      "Atlantico,Pacifico,Indico,Artico,Antartico\n",
      "Atlantico,Pacifico,Indico,Antartico\n",
      "Atlantico,Pacifico,Antartico\n",
      "Atlantico,Pacifico,Antartico\n",
      "Atlantico,Pacifico,Antartico\n"
     ]
    }
   ],
   "source": [
    "#Exercise 6\n",
    "\n",
    "oceanos = ['Atlantico','Pacifico','Indico','Artico','Antartico']\n",
    "\n",
    "i = len(oceanos) - 1\n",
    "\n",
    "while i >= 0:\n",
    "    if len(oceanos[i]) < 7:\n",
    "        del oceanos[i]\n",
    "    i = i -1\n",
    "    print(\",\".join(oceanos))             #Imprimiendo cada pasada por el loop\n",
    "    "
   ]
  },
  {
   "cell_type": "code",
   "execution_count": 13,
   "metadata": {},
   "outputs": [
    {
     "name": "stdout",
     "output_type": "stream",
     "text": [
      "a\n",
      "b\n",
      "c\n",
      "d\n"
     ]
    }
   ],
   "source": [
    "#Exercise 7\n",
    "\n",
    "lista = ['a','b','c','d']\n",
    "i = 0\n",
    "while True:\n",
    "    print(lista[i])\n",
    "    i = i+1\n",
    "    if i == len(lista): \n",
    "        break"
   ]
  },
  {
   "cell_type": "code",
   "execution_count": 14,
   "metadata": {},
   "outputs": [
    {
     "name": "stdout",
     "output_type": "stream",
     "text": [
      "Celsius Fahrenheit\n",
      "10      50\n",
      "15      59\n",
      "20      68\n",
      "25      77\n",
      "30      86\n"
     ]
    }
   ],
   "source": [
    "#Example 15. Tenperature conversion\n",
    "#Crea una tabla que muestre celsius y su cnversion a fahrenheit y q incremente de 5 en 5 celsius. La tabla debe empezar\n",
    "# en 10 y terminar ne 30.\n",
    "\n",
    "\n",
    "\n",
    "print(\"Celsius\",\"Fahrenheit\")\n",
    "celsius = 10\n",
    "\n",
    "while celsius < 35:\n",
    "    fahrenheit = ((9/5)*celsius)+ 32\n",
    "    print(int(celsius),\"    \", int(fahrenheit))\n",
    "    celsius = celsius + 5\n",
    "    \n",
    "\n"
   ]
  },
  {
   "cell_type": "code",
   "execution_count": 15,
   "metadata": {},
   "outputs": [
    {
     "name": "stdout",
     "output_type": "stream",
     "text": [
      "5.6 1\n",
      "3.92 2\n",
      "2.74 3\n",
      "1.92 4\n",
      "1.34 5\n",
      "0.94 6\n",
      "0.66 7\n",
      "0.46 8\n",
      "0.32 9\n",
      "0.23 10\n",
      "0.16 11\n",
      "0.11 12\n",
      "0.08 13\n",
      "En 13 rebotadas la pelota se parara\n"
     ]
    }
   ],
   "source": [
    "#Example 16. Bouncing ball\n",
    "\n",
    "#Reporta cuantas veces la pelota rebota si se restituye solo 70% en cada salto. Asume altura incial de 8mts y final 0.1 mts\n",
    "\n",
    "\n",
    "altura = 8\n",
    "rebote = 0\n",
    "\n",
    "while altura > 0.1:\n",
    "    altura = (altura * 0.7)\n",
    "    rebote = rebote + 1\n",
    "    print(round(altura,2), rebote)\n",
    "    \n",
    "print(\"En\", str(rebote),\"rebotadas la pelota se parara\" )   \n"
   ]
  },
  {
   "cell_type": "code",
   "execution_count": 16,
   "metadata": {},
   "outputs": [
    {
     "name": "stdout",
     "output_type": "stream",
     "text": [
      "Ingresa el valor M: 67\n",
      "Ingresa el valor N: 45\n",
      "El maximo comun divisor de M y N es  1\n"
     ]
    }
   ],
   "source": [
    "#Example 17.Greatest Common divisor. Maximo comun divisor. Utilizando el diagrama de flujo del libro. Pag 114\n",
    "\n",
    "M = eval(input(\"Ingresa el valor M: \"))\n",
    "N = eval(input(\"Ingresa el valor N: \"))\n",
    "\n",
    "T = 0 \n",
    "\n",
    "while N > 0 :\n",
    "    T = N\n",
    "    N = M % N\n",
    "    M = T\n",
    "    \n",
    "\n",
    "print(\"El maximo comun divisor de M y N es \", str(T))"
   ]
  },
  {
   "cell_type": "code",
   "execution_count": 17,
   "metadata": {},
   "outputs": [
    {
     "name": "stdout",
     "output_type": "stream",
     "text": [
      "Ingresa un valor positivo mayor que 1: 45\n",
      " 3 is a prime factor of a given number 45\n",
      " 5 is a prime factor of a given number 45\n"
     ]
    }
   ],
   "source": [
    "#Example 18. Factorizacion: Este ejemplo no fue totalmente entendido pero fue investigado para ser resulto.\n",
    "\n",
    "N = eval(input(\"Ingresa un valor positivo mayor que 1: \"))\n",
    "\n",
    "i=1\n",
    "\n",
    "while(i <= N):\n",
    "    count = 0\n",
    "    if (N % i == 0):\n",
    "        j = 1\n",
    "        while(j <= i):\n",
    "            if(i % j  == 0):\n",
    "                count = count + 1\n",
    "            j = j + 1\n",
    "        if (count == 2):\n",
    "            print(\" %d is a prime factor of a given number %d\" %(i,N))\n",
    "    i = i + 1"
   ]
  },
  {
   "cell_type": "code",
   "execution_count": 18,
   "metadata": {},
   "outputs": [
    {
     "name": "stdout",
     "output_type": "stream",
     "text": [
      "Tendre 45 anos en el ano 2025 , Es decir que mi edad 45 al cuadrado es igual al ano 2025\n"
     ]
    }
   ],
   "source": [
    "#Example 19.Age.Una persona que haya nacido en 1980 puede decir que su edad sera igual ano al cuadrado. Cual seria esa edad\n",
    "\n",
    "edad = 0\n",
    "ano = 1980\n",
    "\n",
    "while ano < 2025:\n",
    "    edad = edad + 1\n",
    "    ano = ano + 1\n",
    "\n",
    "print(\"Tendre\", str(edad),\"anos en el ano\", str(ano),\", Es decir que mi edad\", str(edad), \"al cuadrado es igual al ano 2025\")\n",
    "\n"
   ]
  },
  {
   "cell_type": "code",
   "execution_count": 19,
   "metadata": {},
   "outputs": [
    {
     "name": "stdout",
     "output_type": "stream",
     "text": [
      "La poblacion sera 8 billones en el ano 2024\n"
     ]
    }
   ],
   "source": [
    "#Example 20. Population Growth. la poblacion mundial alcanzo 7billones en el ano 2011 y estaba creciendo a una tasa del\n",
    "# 1.1 % anual. Asumiendo la misma tasa, en que ano alcanzara 8 billones?\n",
    "\n",
    "poblacion = 7000000000\n",
    "ano = 2011\n",
    "\n",
    "while poblacion < 8000000000:\n",
    "    poblacion = poblacion +(poblacion*0.011)\n",
    "    ano = ano + 1\n",
    "\n",
    "print(\"La poblacion sera 8 billones en el ano\", str(ano))"
   ]
  },
  {
   "cell_type": "code",
   "execution_count": 20,
   "metadata": {},
   "outputs": [
    {
     "name": "stdout",
     "output_type": "stream",
     "text": [
      "tamano tiempo\n",
      "50      28\n",
      "25      56\n",
      "12      84\n",
      "6      112\n",
      "3      140\n",
      "2      168\n",
      "1      196\n",
      "se tardara 196 anos en llegar a ser 1 gramo\n"
     ]
    }
   ],
   "source": [
    "#Example 21. Radioactive decay. Una particula disminuira a la mitad su tamano cada 28 anos. Si comienza en 100 gramos, en\n",
    "# cuantos anos llegara a ser de 1 solo gramo?\n",
    "\n",
    "tamano = 100\n",
    "tiempo = 0\n",
    "print(\"tamano tiempo\")\n",
    "\n",
    "while tamano >= 1 and tamano <= 100:\n",
    "    tamano = tamano/2\n",
    "    tiempo = tiempo + 28\n",
    "    print(round(tamano),\"    \", tiempo)\n",
    "\n",
    "print(\"se tardara\", str(tiempo), \"anos en llegar a ser 1 gramo\")"
   ]
  },
  {
   "cell_type": "code",
   "execution_count": 21,
   "metadata": {},
   "outputs": [
    {
     "name": "stdout",
     "output_type": "stream",
     "text": [
      "244 1\n",
      "250 2\n",
      "257 3\n",
      "263 4\n",
      "270 5\n",
      "276 6\n",
      "283 7\n",
      "290 8\n",
      "298 9\n",
      "305 10\n",
      "313 11\n",
      "320 12\n",
      "328 13\n",
      "337 14\n",
      "345 15\n",
      "354 16\n",
      "363 17\n",
      "372 18\n",
      "381 19\n",
      "390 20\n",
      "400 21\n",
      "410 22\n",
      "420 23\n",
      "431 24\n",
      "442 25\n",
      "453 26\n",
      "464 27\n",
      "476 28\n",
      "488 29\n",
      "EL CPI se tardara 29 anos en llegar a ser el doble del de 2014\n"
     ]
    }
   ],
   "source": [
    "#Example 22. Consumer price index. El precio de indice al consumidor del 2014 fue de 238.5. Si incrementamos el CPI a una\n",
    "#tasa del 2.5%. En cuantos anos alcanzaremos un CPI que sea el doble del de 2014?\n",
    "\n",
    "CPI = 238.25\n",
    "tiempo = 0\n",
    "\n",
    "while CPI <= 476.5:\n",
    "    CPI = CPI + (CPI*0.025)\n",
    "    tiempo = tiempo + 1\n",
    "    print(round(CPI), tiempo)\n",
    "\n",
    "print(\"EL CPI se tardara\", str(tiempo), \"anos en llegar a ser el doble del de 2014\")\n"
   ]
  },
  {
   "cell_type": "code",
   "execution_count": 22,
   "metadata": {},
   "outputs": [
    {
     "name": "stdout",
     "output_type": "stream",
     "text": [
      "14785 1\n",
      "14569 2\n",
      "14352 3\n",
      "14134 4\n",
      "13914 5\n",
      "13694 6\n",
      "13472 7\n",
      "13250 8\n",
      "13026 9\n",
      "12801 10\n",
      "12575 11\n",
      "12348 12\n",
      "12120 13\n",
      "11890 14\n",
      "11660 15\n",
      "11428 16\n",
      "11195 17\n",
      "10961 18\n",
      "10726 19\n",
      "10489 20\n",
      "10252 21\n",
      "10013 22\n",
      "9773 23\n",
      "9532 24\n",
      "9290 25\n",
      "9046 26\n",
      "8801 27\n",
      "8555 28\n",
      "8308 29\n",
      "8060 30\n",
      "7810 31\n",
      "7559 32\n",
      "7307 33\n",
      "La mitad del prestamo se pagara en 33 meses\n"
     ]
    }
   ],
   "source": [
    "# Example 23. Car Loan. Tengo un prestamo de 15mil y quiero calcular cuando la deuda llegara a ser la mitad de lo que me\n",
    "# prestaron, es decir 7500 dolares.El pago mensual del carro son 290 dolares y el calculo mensual de la deuda esta dado\n",
    "# por la ecuacion descrita abajo. En cuantos meses habre pagado la mitad del prestamo? La ecuacion de deuda depende del \n",
    "#porcentaje de interes compuesto, en este caso el 6% mensual, por lo tanto la tasa de intereses mensual es (0.06/12) = 0.005\n",
    "\n",
    "deuda = 15000\n",
    "tiempo = 0\n",
    "pago_mensual = 290\n",
    "\n",
    "while deuda >= 7500:\n",
    "    deuda = deuda+(0.005*deuda) - (pago_mensual)\n",
    "    tiempo = tiempo + 1\n",
    "    print(round(deuda), tiempo)\n",
    "\n",
    "print(\"La mitad del prestamo se pagara en\", str(tiempo), \"meses\")"
   ]
  },
  {
   "cell_type": "code",
   "execution_count": 23,
   "metadata": {},
   "outputs": [
    {
     "name": "stdout",
     "output_type": "stream",
     "text": [
      "ahorro tiempo\n",
      "100    1\n",
      "200    2\n",
      "301    3\n",
      "402    4\n",
      "503    5\n",
      "604    6\n",
      "705    7\n",
      "807    8\n",
      "909    9\n",
      "1011    10\n",
      "1114    11\n",
      "1217    12\n",
      "1320    13\n",
      "1423    14\n",
      "1527    15\n",
      "1630    16\n",
      "1734    17\n",
      "1839    18\n",
      "1943    19\n",
      "2048    20\n",
      "2153    21\n",
      "2259    22\n",
      "2364    23\n",
      "2470    24\n",
      "2576    25\n",
      "2683    26\n",
      "2790    27\n",
      "2897    28\n",
      "3004    29\n",
      "A los 29 meses, habra 3 mil dolares ahorrados\n"
     ]
    }
   ],
   "source": [
    "#Example 24. Annuity. A los cuantos meses se habra ahorrado 3mil dolares si deposito 100 dolares mensual.\n",
    "#La ecuacion de deuda depende del porcentaje de interes, en este caso el 3% compuesto mensual, por lo tanto la tasa de \n",
    "#interes mensual es (0.03/12) = 0.0025\n",
    "\n",
    "balance_en_cuenta = 0\n",
    "tiempo = 0\n",
    "deposito_mensual = 100\n",
    "\n",
    "print(\"ahorro tiempo\")\n",
    "\n",
    "while balance_en_cuenta <= 3000:\n",
    "    balance_en_cuenta = (1.0025*balance_en_cuenta) + (deposito_mensual)\n",
    "    tiempo = tiempo + 1\n",
    "    print(round(balance_en_cuenta),\"  \", tiempo)\n",
    "\n",
    "print(\"A los\", str(tiempo), \"meses, habra 3 mil dolares ahorrados\")"
   ]
  },
  {
   "cell_type": "code",
   "execution_count": 24,
   "metadata": {},
   "outputs": [
    {
     "name": "stdout",
     "output_type": "stream",
     "text": [
      "balance en cuenta| tiempo\n",
      "9430             |         1\n",
      "8858             |         2\n",
      "8285             |         3\n",
      "7710             |         4\n",
      "7133             |         5\n",
      "6554             |         6\n",
      "5974             |         7\n",
      "5392             |         8\n",
      "4808             |         9\n",
      "4222             |         10\n",
      "3635             |         11\n",
      "3046             |         12\n",
      "2455             |         13\n",
      "1863             |         14\n",
      "1268             |         15\n",
      "672             |         16\n",
      "74             |         17\n",
      "A los 17 meses, habra solo 73.91 dolares en esta cuenta\n"
     ]
    }
   ],
   "source": [
    "#Example 25. Annuity. Si tenemos 10mil dolares en una cuenta y retiramos 600 mensual, pero el interes compuesto mensual \n",
    "#que paga la cuenta es del 3.6%  es decir (0.036/12 = 0.003%) mensual, a los cuantos meses tendremos solo 600$ en esta cta?\n",
    "\n",
    "balance_en_cuenta = 10000\n",
    "tiempo = 0\n",
    "retiro_mensual = 600\n",
    "print(\"balance en cuenta| tiempo\")\n",
    "\n",
    "while balance_en_cuenta >= 600:\n",
    "    balance_en_cuenta = (1.003*balance_en_cuenta) - (retiro_mensual)\n",
    "    tiempo = tiempo + 1\n",
    "    print(round(balance_en_cuenta),\"            |        \", tiempo)\n",
    "\n",
    "print(\"A los\", str(tiempo), \"meses, habra solo\",str(round(balance_en_cuenta,2)), \"dolares en esta cuenta\")"
   ]
  },
  {
   "cell_type": "code",
   "execution_count": 25,
   "metadata": {},
   "outputs": [
    {
     "name": "stdout",
     "output_type": "stream",
     "text": [
      "tamano tiempo\n",
      "se tardara 5776 anos en llegar a ser medio gramo\n"
     ]
    }
   ],
   "source": [
    "#Example 26. Radioactive decay\n",
    "\n",
    "tamano = 1\n",
    "tiempo = 0\n",
    "print(\"tamano tiempo\")\n",
    "\n",
    "while tamano >= 0.5 and tamano <=1:\n",
    "    tamano -= tamano*0.00012\n",
    "    tiempo = tiempo + 1\n",
    "    #print((tamano),\"    \", tiempo)\n",
    "\n",
    "print(\"se tardara\", str(tiempo), \"anos en llegar a ser medio gramo\")"
   ]
  },
  {
   "cell_type": "code",
   "execution_count": 26,
   "metadata": {},
   "outputs": [
    {
     "name": "stdout",
     "output_type": "stream",
     "text": [
      "A partir de 253 la probabilidad de que alguien cumpla el mismo dia que yo es mayor al 50%\n"
     ]
    }
   ],
   "source": [
    "#Example 27. Same birthday as you\n",
    "\n",
    "alumnos = 0\n",
    "\n",
    "while (364/365)**alumnos >= 0.5:\n",
    "    alumnos = alumnos + 1\n",
    "print(\"A partir de\", str(alumnos), \"la probabilidad de que alguien cumpla el mismo dia que yo es mayor al 50%\")"
   ]
  },
  {
   "cell_type": "code",
   "execution_count": 27,
   "metadata": {},
   "outputs": [
    {
     "name": "stdout",
     "output_type": "stream",
     "text": [
      "Ingrese el monto depositado aqui:10000\n",
      "balance en cuenta| tiempo\n",
      "9430             |         1\n",
      "8858             |         2\n",
      "8285             |         3\n",
      "7710             |         4\n",
      "7133             |         5\n",
      "6554             |         6\n",
      "5974             |         7\n",
      "5392             |         8\n",
      "4808             |         9\n",
      "4222             |         10\n",
      "3635             |         11\n",
      "3046             |         12\n",
      "2455             |         13\n",
      "1863             |         14\n",
      "1268             |         15\n",
      "672             |         16\n",
      "74             |         17\n",
      "A los 17 meses, habra solo 73.91 dolares en esta cuenta\n"
     ]
    }
   ],
   "source": [
    "#Example 28. Annuity\n",
    "#Si tenemos una cantidad de dinero \"X\" en una cuenta y retiramos 600 mensual, pero el interes compuesto mensual \n",
    "#que paga la cuenta es del 3.6%  es decir (0.036/12 = 0.003%) mensual, a los cuantos meses tendremos solo 600$ en esta cta?\n",
    "\n",
    "balance_en_cuenta = eval(input(\"Ingrese el monto depositado aqui:\"))\n",
    "tiempo = 0\n",
    "retiro_mensual = 600\n",
    "print(\"balance en cuenta| tiempo\")\n",
    "\n",
    "while balance_en_cuenta >= 600:\n",
    "    balance_en_cuenta = (1.003*balance_en_cuenta) - (retiro_mensual)\n",
    "    tiempo = tiempo + 1\n",
    "    print(round(balance_en_cuenta),\"            |        \", tiempo)\n",
    "\n",
    "print(\"A los\", str(tiempo), \"meses, habra solo\",str(round(balance_en_cuenta,2)), \"dolares en esta cuenta\")"
   ]
  },
  {
   "cell_type": "code",
   "execution_count": 28,
   "metadata": {},
   "outputs": [
    {
     "name": "stdout",
     "output_type": "stream",
     "text": [
      "Ano:   China   |   India\n",
      "2015 1376987000 1277010000\n",
      "2016 1384009634 1294249635\n",
      "2017 1391068083 1311722005\n",
      "2018 1398162530 1329430252\n",
      "2019 1405293159 1347377561\n",
      "2020 1412460154 1365567158\n",
      "2021 1419663701 1384002314\n",
      "2022 1426903986 1402686345\n",
      "2023 1434181196 1421622611\n",
      "2024 1441495520 1440814516\n",
      "2025 1448847147 1460265512\n"
     ]
    }
   ],
   "source": [
    "#Example 29. Population Growth\n",
    "\n",
    "\n",
    "poblacion_China = 1370000000\n",
    "poblacion_India = 1260000000\n",
    "ano = 2014\n",
    "print(\"Ano:   China   |   India\")\n",
    "while poblacion_China >= poblacion_India:\n",
    "    poblacion_China = poblacion_China + (poblacion_China*0.0051)\n",
    "    poblacion_India = poblacion_India + (poblacion_India*0.0135)\n",
    "    ano = ano + 1\n",
    "    print(ano,round(poblacion_China),round(poblacion_India))"
   ]
  },
  {
   "cell_type": "code",
   "execution_count": 29,
   "metadata": {},
   "outputs": [
    {
     "name": "stdout",
     "output_type": "stream",
     "text": [
      "temperatura minutos\n",
      "201           1\n",
      "190           2\n",
      "181           3\n",
      "172           4\n",
      "164           5\n",
      "157           6\n",
      "150           7\n",
      "El tiempo que se tardara en llegar a 150F es de 7 minutos\n"
     ]
    }
   ],
   "source": [
    "#Example 30. Cooling. Calcule en cuantos minutos se enfriara la taza de cafe desde 212F a 150F si la temperatura del \n",
    "#liquido depende de la ecuacion mostrada abajo.\n",
    "\n",
    "temperatura_liquido = 212\n",
    "temperatura_habitacion = 70\n",
    "k = 0.079\n",
    "tiempo = 0\n",
    "print(\"temperatura\",\"minutos\")\n",
    "\n",
    "while temperatura_liquido >= 150:\n",
    "    temperatura_liquido = (temperatura_liquido)-k*(temperatura_liquido-temperatura_habitacion)\n",
    "    tiempo = tiempo + 1\n",
    "    print(round(temperatura_liquido),\"         \",tiempo)\n",
    "\n",
    "print(\"El tiempo que se tardara en llegar a 150F es de\", str(tiempo), \"minutos\")\n"
   ]
  },
  {
   "cell_type": "code",
   "execution_count": 33,
   "metadata": {},
   "outputs": [
    {
     "name": "stdout",
     "output_type": "stream",
     "text": [
      "Bienvenido a este cajero: Opcion 1:Depositos , Opcion 2:Retiros,  Opcion 3:Balances,  Opcion 4:Salir \n",
      "Ingrese 1, 2, 3 or 4: 1\n",
      "Ingrese el monto del deposito: 500\n",
      "Deposito procesado\n",
      "Su monto inicial era de 10000 y su balance actual es: 1500\n"
     ]
    }
   ],
   "source": [
    "#Example 31. Savings account. Haga un menu de cajero para hacer transacciones a su cuenta de ahorro. suma que la cuenta\n",
    "#incialmente tiene un balance de mil dolares.\n",
    "\n",
    "\n",
    "print(\"Bienvenido a este cajero: Opcion 1:Depositos , Opcion 2:Retiros,  Opcion 3:Balances,  Opcion 4:Salir \")\n",
    "\n",
    "opciones = input(\"Ingrese 1, 2, 3 or 4: \")\n",
    "balance = 1000 \n",
    "retiro = 0\n",
    "deposito = 0\n",
    "\n",
    "while opciones == \"1\" or \"2\" or \"3\" or \"4\":\n",
    "    \n",
    "    if opciones == \"1\":                                     \n",
    "        deposito = eval(input(\"Ingrese el monto del deposito: \"))\n",
    "        balance = balance + deposito\n",
    "        print(\"Deposito procesado\")\n",
    "        break\n",
    "        \n",
    "    elif opciones == \"2\":\n",
    "        retiro = eval(input(\"Ingrese el monto del retiro: \"))\n",
    "        balance = balance - retiro\n",
    "        break\n",
    "        \n",
    "    elif opciones == \"3\":\n",
    "        print(balance)\n",
    "        break\n",
    "            \n",
    "    elif opciones == \"4\":\n",
    "        print(\"Saliendo de la aplicacion. Gracias por usar este servicio\")\n",
    "        break\n",
    "\n",
    "print(\"Su monto inicial era de 10000 y su balance actual es:\", balance)  \n"
   ]
  },
  {
   "cell_type": "code",
   "execution_count": 31,
   "metadata": {},
   "outputs": [
    {
     "name": "stdout",
     "output_type": "stream",
     "text": [
      "2014 300000\n",
      "2015 309000.0\n",
      "2016 318270.0\n",
      "2017 327818.1\n",
      "2018 337652.643\n"
     ]
    }
   ],
   "source": [
    "#Example of book: For\n",
    "\n",
    "#population growth:\n",
    "population = 300000\n",
    "\n",
    "\n",
    "for year in range(2014,2019):\n",
    "    print(year,population)\n",
    "    population += population*0.03"
   ]
  }
 ],
 "metadata": {
  "kernelspec": {
   "display_name": "Python 3",
   "language": "python",
   "name": "python3"
  },
  "language_info": {
   "codemirror_mode": {
    "name": "ipython",
    "version": 3
   },
   "file_extension": ".py",
   "mimetype": "text/x-python",
   "name": "python",
   "nbconvert_exporter": "python",
   "pygments_lexer": "ipython3",
   "version": "3.7.3"
  }
 },
 "nbformat": 4,
 "nbformat_minor": 2
}
