{
 "cells": [
  {
   "cell_type": "markdown",
   "metadata": {},
   "source": [
    "# Chapter 4 - Functions"
   ]
  },
  {
   "cell_type": "markdown",
   "metadata": {},
   "source": [
    "# 4.1 Functions part 1"
   ]
  },
  {
   "cell_type": "code",
   "execution_count": 1,
   "metadata": {},
   "outputs": [
    {
     "name": "stdout",
     "output_type": "stream",
     "text": [
      "The highest number of the list is:  50\n",
      "The highest number of the list is:  7\n"
     ]
    }
   ],
   "source": [
    "# Example 25 . Max Function. Suppose the Max function for at least didn't exist define a function that returns a \n",
    "# maximum value in a list of numbers \n",
    "\n",
    "\n",
    "def main():\n",
    "    list1 = [5,3,50,33,10,8,4,6]\n",
    "    list2 = [3,6,2,7]\n",
    "    print(\"The highest number of the list is: \", maximum(list1))\n",
    "    print(\"The highest number of the list is: \", maximum(list2))\n",
    "  \n",
    "    \n",
    "def maximum(numbers):\n",
    "    numbers.sort()\n",
    "    return(numbers[-1])\n",
    "\n",
    "\n",
    "main()\n"
   ]
  },
  {
   "cell_type": "code",
   "execution_count": 3,
   "metadata": {},
   "outputs": [
    {
     "name": "stdout",
     "output_type": "stream",
     "text": [
      "Enter a word: qwertyuio\n",
      "True. It is a qwertyuiop word\n"
     ]
    }
   ],
   "source": [
    "# Example 27 Qwerty world.rite a program that request a word as input (qwertyuiop) and then determines whether or not it is \n",
    "# a querty word use a boolean value function name is_ qwerty that evaluates the word\n",
    "\n",
    "def main():\n",
    "    wor = input(\"Enter a word: \")\n",
    "    is_qwerty(word = wor)\n",
    "\n",
    "def is_qwerty(word):\n",
    "    for letter in word:\n",
    "        if letter in \"qwertyuiop\":\n",
    "            flag = True\n",
    "            \n",
    "        else:\n",
    "            flag = False\n",
    "            \n",
    "    if flag == True:\n",
    "        print(\"True. It is a qwertyuiop word\")\n",
    "    else: \n",
    "        print(\"False.It is not a qwertyuiop word\")\n",
    "        \n",
    "main()"
   ]
  },
  {
   "cell_type": "code",
   "execution_count": 6,
   "metadata": {},
   "outputs": [
    {
     "name": "stdout",
     "output_type": "stream",
     "text": [
      "1000 Is the payment for option 1\n",
      "1023 Is the payment for option 2 \n"
     ]
    }
   ],
   "source": [
    "# Example 29. Salary options. You are offered two salary options for 10 days of work. Option 1: 100 $ per day, \n",
    "# option 2: $1 the first day, $2 the second day, 4$ the third day and so on, with the amount doubling each day. \n",
    "# Determine which option is better. Use function names option_one, option_two to calculate the amount of money earned under \n",
    "# the two options. \n",
    "\n",
    "\n",
    "\n",
    "def main():\n",
    "    d = 10\n",
    "    option_1 = 100*d\n",
    "    print(option_1, \"Is the payment for option 1\")\n",
    "    print(option_2(days = d), \"Is the payment for option 2 \")\n",
    "    \n",
    "def option_2(days):\n",
    "    cumulative = 0\n",
    "    salary = 1\n",
    "    for i in range(10):\n",
    "        cumulative = cumulative + salary\n",
    "        salary = 2 * salary\n",
    "    return cumulative\n",
    " \n",
    "main()    "
   ]
  },
  {
   "cell_type": "code",
   "execution_count": 12,
   "metadata": {},
   "outputs": [
    {
     "name": "stdout",
     "output_type": "stream",
     "text": [
      "Enter your salary: 40000\n",
      "Your new salary will be:  42800\n"
     ]
    }
   ],
   "source": [
    "# Example 30. Pay rise.\n",
    "# Write up a right program that requests a person first name, last name and current annual salary and then displays a \n",
    "# person's salary for next year.People earning less than 40,000 will receive a 5% raise and those earning 40,000 or more \n",
    "# will receive a raise of 20,00 plus 2% of the amount over 40,000 \n",
    "\n",
    "def main():\n",
    "    sal = eval(input(\"Enter your salary: \"))\n",
    "    print(\"Your new salary will be: \", round(new_salary(salary = sal)))\n",
    "\n",
    "def new_salary(salary):\n",
    "    if salary < 40000:\n",
    "        amount = salary + (salary*0.05)\n",
    "    \n",
    "    elif salary >= 40000:\n",
    "        amount = salary + (salary*0.02) + 2000\n",
    "    \n",
    "    return amount\n",
    "    \n",
    "main()    "
   ]
  },
  {
   "cell_type": "code",
   "execution_count": 20,
   "metadata": {},
   "outputs": [
    {
     "name": "stdout",
     "output_type": "stream",
     "text": [
      "Enter earnings for this year, prior to current pay period: 12345.67\n",
      "Enter earnings for current pay period: 543.21\n",
      "Your FICA tax is 41.56\n"
     ]
    }
   ],
   "source": [
    "#FICA taxes.Rewrite example 7 of section 3.2 with wage base, Social Security tax rate and Medicare rate as named constants. \n",
    "# The function main should call functions to process the input and to display the output \n",
    "\n",
    "#Constants:\n",
    "\n",
    "WAGE_BASE = 117000\n",
    "TAX_SOCIAL_SECURITY = 0.062      # 6.2%  \n",
    "TAX_MEDICARE = 0.0145             # 1.45%\n",
    "TAX_MEDICARE_ADICIONAL = 0.009       # 0.9%\n",
    "\n",
    "\n",
    "def main():\n",
    "    \n",
    "    earning_ytd, earning_current, earning_total = calculating_income()\n",
    "    benefits_ss = calculating_benefits(earning_ytd, earning_current, earning_total)\n",
    "    calculating_FICA(earning_ytd, earning_current, earning_total, benefits_ss)\n",
    "    \n",
    "\n",
    "    \n",
    "def calculating_income():\n",
    "    earning_ytd = eval(input(\"Enter earnings for this year, prior to current pay period: \"))\n",
    "    earning_current = eval(input(\"Enter earnings for current pay period: \"))\n",
    "    earning_total = earning_ytd + earning_current\n",
    "    return(earning_ytd, earning_current, earning_total)\n",
    "    \n",
    "    \n",
    "    \n",
    "def calculating_benefits(earning_ytd, earning_current, earning_total):\n",
    "    benefit_ss = 0\n",
    "    if earning_total <= WAGE_BASE:\n",
    "        benefit_ss = TAX_SOCIAL_SECURITY * earning_current\n",
    "    elif earning_ytd <= WAGE_BASE:\n",
    "        benefit_ss = TAX_SOCIAL_SECURITY *(WAGE_BASE - earning_ytd)\n",
    "    return benefit_ss \n",
    "        \n",
    "\n",
    "\n",
    "def calculating_FICA(earning_ytd, earning_current, earning_total, benefits_ss):\n",
    "    medicare = TAX_MEDICARE * earning_current\n",
    "    if earning_ytd >= 200000:\n",
    "        medicare = medicare + (TAX_MEDICARE_ADICIONAL*earning_current)\n",
    "    elif earning_total > 200000:\n",
    "        medicare = medicare + (TAX_MEDICARE_ADICIONAL*(earning_total - 200000))\n",
    "    FICA = benefits_ss + medicare\n",
    "    print(\"Your FICA tax is\",round(FICA,2))\n",
    "    \n",
    "\n",
    "main()\n",
    "\n"
   ]
  },
  {
   "cell_type": "code",
   "execution_count": 22,
   "metadata": {},
   "outputs": [
    {
     "name": "stdout",
     "output_type": "stream",
     "text": [
      "['January', 'February', 'March', 'April', 'September', 'October', 'November', 'December'] contain the letter r\n"
     ]
    }
   ],
   "source": [
    "# R months. The file months.txt has 12 lines with each line containing one of the months of the year. Write a program that \n",
    "# displays the months containing the letter R. The program should use a global variable months that is initialized as the \n",
    "# empty list. \n",
    "\n",
    "    \n",
    "months = []    \n",
    "    \n",
    "def main():\n",
    "\n",
    "    appending_months(months)\n",
    "    print(deleting_months(months), \"contain the letter r\")\n",
    "\n",
    "    \n",
    "def appending_months(line): \n",
    "    infile = open(\"months.txt\", \"r\")\n",
    "    for line in infile:\n",
    "        months.append(line.strip())\n",
    "    return months\n",
    "\n",
    "\n",
    "def deleting_months(line):\n",
    "    infile = open(\"months.txt\", \"r\")\n",
    "    for line in infile:\n",
    "        if \"r\" not in line:\n",
    "            months.remove(line.strip())\n",
    "    return months\n",
    "    \n",
    "main()    \n",
    " "
   ]
  },
  {
   "cell_type": "code",
   "execution_count": 29,
   "metadata": {},
   "outputs": [
    {
     "name": "stdout",
     "output_type": "stream",
     "text": [
      "Enter age: 65\n",
      "Enter months of service: 448\n",
      "Enter first highest annual salary: 123456.78\n",
      "Enter second highest annual salary:: 119876.55\n",
      "Enter third highest annual salary:: 107546.45\n",
      "71\n",
      "82944\n",
      "The annual pension will be:  82944\n"
     ]
    }
   ],
   "source": [
    "# Example 34. Pensions. A person in the civil service retirement system can retired age 55 with at least 20 years of service \n",
    "# a simplify orientation for the computation of the amount of their patient is as follows:\n",
    "\n",
    "# 1. Calculate the average annual salary for the person's best three years call it Average \n",
    "\n",
    "# 2. Calculate (number of months/12) and call it years \n",
    "\n",
    "# 3. Calculate percentage rate 1.5% for the first five years 1.75% for next five years 2% for each additional year.\n",
    "# Call it per_rate\n",
    "\n",
    "# 4. Take the minimum of per_rate and 80%. Call it p \n",
    "\n",
    "# 5. The amount of the pension is P *average \n",
    "\n",
    "# Write a program that requires the input as shown and calculates the amount of the pension. \n",
    "\n",
    " \n",
    "\n",
    "\n",
    "def main():\n",
    "    age = int(input(\"Enter age: \"))\n",
    "    service_months = int(input(\"Enter months of service: \"))\n",
    "    sal1 = eval(input(\"Enter first highest annual salary: \"))\n",
    "    sal2 = eval(input(\"Enter second highest annual salary:: \"))\n",
    "    sal3 = eval(input(\"Enter third highest annual salary:: \"))\n",
    "    print(\"The annual pension will be: \",round(calculating_pension(age, service_months, salary_1=sal1, salary_2=sal2, salary_3=sal3)))\n",
    "\n",
    "def calculating_pension(age, service_months, salary_1, salary_2, salary_3):\n",
    "    average = (salary_1 + salary_2 + salary_3)/3\n",
    "    \n",
    "    years = service_months / 12\n",
    "    per_rate = 0\n",
    "    \n",
    "    if years <= 5:\n",
    "        per_rate = (per_rate + 1.5)*(years)\n",
    "        print(round(per_rate))\n",
    "    \n",
    "    elif years > 5 and years <= 10:\n",
    "        cum_rate_5years = 7.5\n",
    "        per_rate = ((per_rate + 1.75)*(anos-5))+(cum_rate_5years)\n",
    "        print(round(per_rate))\n",
    "    \n",
    "    elif years > 10:\n",
    "        cum_rate_10years = 16.25\n",
    "        per_rate = ((per_rate + 2)*(years-10))+ (cum_rate_10years)\n",
    "        print(round(per_rate))\n",
    "    if per_rate < 80:\n",
    "        p = per_rate\n",
    "    else:\n",
    "        p = 80\n",
    "    pension = p/100 * average\n",
    "    print(round(pension))\n",
    "    return pension\n",
    "\n",
    "\n",
    "\n",
    "main()   "
   ]
  }
 ],
 "metadata": {
  "kernelspec": {
   "display_name": "Python 3",
   "language": "python",
   "name": "python3"
  },
  "language_info": {
   "codemirror_mode": {
    "name": "ipython",
    "version": 3
   },
   "file_extension": ".py",
   "mimetype": "text/x-python",
   "name": "python",
   "nbconvert_exporter": "python",
   "pygments_lexer": "ipython3",
   "version": "3.7.3"
  }
 },
 "nbformat": 4,
 "nbformat_minor": 2
}
