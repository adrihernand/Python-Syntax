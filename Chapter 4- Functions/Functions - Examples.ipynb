{
 "cells": [
  {
   "cell_type": "markdown",
   "metadata": {},
   "source": [
    "# Chapter 4 - Functions"
   ]
  },
  {
   "cell_type": "markdown",
   "metadata": {},
   "source": [
    "# 4.1 Functions part 1"
   ]
  },
  {
   "cell_type": "code",
   "execution_count": 4,
   "metadata": {},
   "outputs": [
    {
     "name": "stdout",
     "output_type": "stream",
     "text": [
      "Enter temperature in Fahrenheit: 212\n",
      "The temperature in Fahrenheit is  212 and its conversion to Celsius is  100\n"
     ]
    }
   ],
   "source": [
    "# Example 1. Temperature conversion. The following program uses the function Fahrenheit_to_Celsius to convert from \n",
    "# Celsius to Fahrenheit.\n",
    "\n",
    "def fahrenheit_to_Celsius(t_fahren):\n",
    "    temp_celsius = (5/9) * (t_fahren-32)\n",
    "    return temp_celsius\n",
    "\n",
    "temperature_fahrenheit = int(input(\"Enter temperature in Fahrenheit: \"))\n",
    "\n",
    "print(\"The temperature in Fahrenheit is \",temperature_fahrenheit ,\"and its conversion to Celsius is \",round(fahrenheit_to_Celsius(temperature_fahrenheit)))\n",
    "\n"
   ]
  },
  {
   "cell_type": "code",
   "execution_count": 5,
   "metadata": {},
   "outputs": [
    {
     "name": "stdout",
     "output_type": "stream",
     "text": [
      "Enter fullname: adriana hernandez\n",
      "The first name is  adriana\n"
     ]
    }
   ],
   "source": [
    "#Example 2 : Extract first name. The following program uses the function to extract the first name \n",
    "\n",
    "def first_name(fullname):\n",
    "    extract_name = fullname.index(\" \")\n",
    "    only_name = fullname[:extract_name]\n",
    "    return(only_name)\n",
    "\n",
    "\n",
    "fullname = input(\"Enter fullname: \")\n",
    "\n",
    "print(\"The first name is \", first_name(fullname))"
   ]
  },
  {
   "cell_type": "code",
   "execution_count": 6,
   "metadata": {},
   "outputs": [
    {
     "name": "stdout",
     "output_type": "stream",
     "text": [
      "Enter a number: 2\n",
      "The triple of 2 is 6\n"
     ]
    }
   ],
   "source": [
    "#Example 3: Passing a value to a function. The following program shows that even though the value of the parameter number \n",
    "# in the function definition is changed there is no change in the value of the argument number in the part of the program that called the function \n",
    "\n",
    "\n",
    "def triple(number):\n",
    "    calculating = 3*int(number)\n",
    "    return calculating\n",
    "\n",
    "number = input(\"Enter a number: \")\n",
    "\n",
    "\n",
    "print(\"The triple of\", number, \"is\", triple(number))    "
   ]
  },
  {
   "cell_type": "code",
   "execution_count": 9,
   "metadata": {},
   "outputs": [
    {
     "name": "stdout",
     "output_type": "stream",
     "text": [
      "Enter wage per hour: 24.50\n",
      "Enter hours worked: 45\n",
      "You worked 45 hours and you payment will be 1164\n"
     ]
    }
   ],
   "source": [
    "# Example 4:Earnings. The following program uses the function pay. Here the arguments have different names than the \n",
    "# corresponding parameters \n",
    "\n",
    "def pay(wage,hours):\n",
    "    if hours <= 40:\n",
    "        payment = wage * hours\n",
    "    else:\n",
    "        payment = (wage * 40) + (1.5*wage*(hours-40))\n",
    "    return payment\n",
    "\n",
    "wage = eval(input(\"Enter wage per hour: \"))\n",
    "hours = eval(input(\"Enter hours worked: \"))\n",
    "\n",
    "print(\"You worked\", hours, \"hours and you payment will be\", round(pay(wage,hours)))"
   ]
  },
  {
   "cell_type": "code",
   "execution_count": 11,
   "metadata": {},
   "outputs": [
    {
     "name": "stdout",
     "output_type": "stream",
     "text": [
      "Enter deposit:1000\n",
      "Enter annual interes in decimals:0.04\n",
      "Enter the times the interest is compounded in a year:4\n",
      "Enter years:5\n",
      "The balance after  5 years will be 1220.19\n"
     ]
    }
   ],
   "source": [
    "#Example 5: Future value of bank deposits. \n",
    "\n",
    "# The following program uses the function future_valu.The function computes the balance in a savings account given the \n",
    "# amount of positive the annual rate of interest the number of times interest is compounded per year and the number of years \n",
    "# that interest accrues \n",
    "\n",
    "#Note: The annual interest is in decimals.\n",
    "\n",
    "def future_value(deposit,int_annual,num_int_comp_annual,years):\n",
    "    interest = int_annual/num_int_comp_annual                  \n",
    "    total_number = num_int_comp_annual*years             \n",
    "    amount = deposit*((1+interest)**total_number)                \n",
    "    return amount\n",
    "    \n",
    "\n",
    "deposit = int(input(\"Enter deposit:\"))\n",
    "int_annual = eval(input(\"Enter annual interes in decimals:\"))\n",
    "num_int_comp_annual = int(input(\"Enter the times the interest is compounded in a year:\"))\n",
    "years =  int(input(\"Enter years:\"))\n",
    "\n",
    "balance = future_value(deposit, int_annual,num_int_comp_annual,years)\n",
    "    \n",
    "print(\"The balance after \",years,\"years will be\", round(balance,2))"
   ]
  },
  {
   "cell_type": "code",
   "execution_count": 13,
   "metadata": {},
   "outputs": [
    {
     "name": "stdout",
     "output_type": "stream",
     "text": [
      "Enter a word: dialogue\n",
      "True This word contains all the vowels\n"
     ]
    }
   ],
   "source": [
    "#Example 6: Vowel words. A vowel word is a word that contains every vowel.  Some examples of vowel words are Sequoia and \n",
    "# Dialogue. The following program uses a boolean value function to determine whether a word input by the user is a vowel \n",
    "# word \n",
    "\n",
    "\n",
    "def vowel_word(word):\n",
    "    vowels = (\"a\",\"e\",\"i\",\"o\",\"u\")\n",
    "    for i in vowels:\n",
    "        if i not in word:\n",
    "            return False\n",
    "    return True\n",
    "\n",
    "word = (input(\"Enter a word: \"))\n",
    "\n",
    "if vowel_word(word):\n",
    "    print(vowel_word(word), \"This word contains all the vowels\")\n",
    "else: \n",
    "    print(vowel_word(word), \"This word does not contains all the vowels\")\n",
    "\n"
   ]
  },
  {
   "cell_type": "code",
   "execution_count": 14,
   "metadata": {},
   "outputs": [
    {
     "name": "stdout",
     "output_type": "stream",
     "text": [
      "Enter a word: important\n",
      "This word does not have all the vowels.It only has: aoi\n"
     ]
    }
   ],
   "source": [
    "#Example 7. Included vowels. The following program displays the vowels contained in a word input by the user \n",
    "\n",
    "\n",
    "def vowel_word(word):\n",
    "    vowels = [\"a\",\"e\",\"i\",\"o\",\"u\"]\n",
    "    for i in vowels:\n",
    "        if i not in word:\n",
    "            return False\n",
    "    return True\n",
    "\n",
    "def new_word(word):\n",
    "    text = \"\"\n",
    "    vowels = [\"a\",\"e\",\"i\",\"o\",\"u\"]\n",
    "    for letter in word:\n",
    "        for v in vowels:\n",
    "            if letter == v:\n",
    "                text = text + v\n",
    "    return text\n",
    "\n",
    "word = list(set(input(\"Enter a word: \")))\n",
    "\n",
    "if vowel_word(word):\n",
    "    print(vowel_word(word), \"This word has all the vowels: a,e,i,o,u \")\n",
    "\n",
    "else: \n",
    "    print(\"This word does not have all the vowels.It only has:\", new_word(word))\n",
    "    \n"
   ]
  },
  {
   "cell_type": "code",
   "execution_count": 15,
   "metadata": {},
   "outputs": [
    {
     "name": "stdout",
     "output_type": "stream",
     "text": [
      "Old Mc Donald had a farm, eyi eyi oh\n",
      "and in his farm he had a lamb eyi eyi oh\n",
      "with a baa baa here and a baa baa there\n",
      "==========\n",
      "Old Mc Donald had a farm, eyi eyi oh\n",
      "and in his farm he had a duck eyi eyi oh\n",
      "with a quack quack here and a quack quack there\n",
      "==========\n",
      "Old Mc Donald had a farm, eyi eyi oh\n",
      "and in his farm he had a cow eyi eyi oh\n",
      "with a moo moo here and a moo moo there\n",
      "==========\n"
     ]
    }
   ],
   "source": [
    "#Example 8. Old Mc Donalds Farm. The following program displaced 3 verses of a well known children's son in this case \n",
    "# the function prevents having to write repetitive code \n",
    "\n",
    "def OldMcDonald(animal, sound):\n",
    "    print(\"Old Mc Donald had a farm, eyi eyi oh\")\n",
    "    print(\"and in his farm he had a\", animal,\"eyi eyi oh\")\n",
    "    print(\"with a\", sound, sound, \"here and a\", sound, sound, \"there\")\n",
    "\n",
    "\n",
    "OldMcDonald(\"lamb\",\"baa\")\n",
    "print(\"==========\")\n",
    "\n",
    "OldMcDonald(\"duck\",\"quack\")\n",
    "print(\"==========\")\n",
    "\n",
    "OldMcDonald(\"cow\",\"moo\")\n",
    "print(\"==========\")"
   ]
  },
  {
   "cell_type": "code",
   "execution_count": 16,
   "metadata": {},
   "outputs": [
    {
     "name": "stdout",
     "output_type": "stream",
     "text": [
      "This program calculates the population density of the state \n",
      "The population of Hawaii is 1375000 and its population density is 214 persons per square mile\n"
     ]
    }
   ],
   "source": [
    "#Example 9. Population density. The following program calculates the population density of the state \n",
    "\n",
    "\n",
    "\n",
    "def main():\n",
    "    print(\"This program calculates the population density of the state \")\n",
    "    population_density(\"Hawaii\",1375000,6423)\n",
    "\n",
    "def population_density(state,population,area):\n",
    "    density = population/area\n",
    "    print(\"The population of\", state, \"is\",population,\"and its population density is\",round(density),\"persons per square mile\")\n",
    "\n",
    "main()"
   ]
  },
  {
   "cell_type": "code",
   "execution_count": 18,
   "metadata": {},
   "outputs": [
    {
     "name": "stdout",
     "output_type": "stream",
     "text": [
      "The value of x in main is 2\n",
      "The value of x in trivial is 3\n",
      "Now, the value of x in main is 2\n"
     ]
    }
   ],
   "source": [
    "# #Example 10. Scope of variables. The following program Illustrates the fact that the variables are local to the function \n",
    "# in which they reside \n",
    "\n",
    "\n",
    "def main():\n",
    "    x = 2\n",
    "    print(\"The value of x in main is\", x)\n",
    "    trivial()                                                #llamando la otra funcion\n",
    "    print(\"Now, the value of x in main is\", x)\n",
    "    \n",
    "def trivial():\n",
    "    x = 3\n",
    "    print(\"The value of x in trivial is\", x)\n",
    "    \n",
    "main()\n"
   ]
  },
  {
   "cell_type": "code",
   "execution_count": 19,
   "metadata": {},
   "outputs": [
    {
     "name": "stdout",
     "output_type": "stream",
     "text": [
      "The value of x in main is 0\n",
      "The value of x in trivial is 7\n",
      "Now, the value of x in main is 7\n"
     ]
    }
   ],
   "source": [
    "#Example 12. Global variables.The following program contains a global variable \n",
    "\n",
    "x = 0\n",
    "\n",
    "def main():\n",
    "    print(\"The value of x in main is\", x)\n",
    "    trivial()                                                \n",
    "    print(\"Now, the value of x in main is\", x)\n",
    "    \n",
    "def trivial():\n",
    "    global x\n",
    "    x = x + 7\n",
    "    print(\"The value of x in trivial is\", x)\n",
    "    \n",
    "main()\n"
   ]
  }
 ],
 "metadata": {
  "kernelspec": {
   "display_name": "Python 3",
   "language": "python",
   "name": "python3"
  },
  "language_info": {
   "codemirror_mode": {
    "name": "ipython",
    "version": 3
   },
   "file_extension": ".py",
   "mimetype": "text/x-python",
   "name": "python",
   "nbconvert_exporter": "python",
   "pygments_lexer": "ipython3",
   "version": "3.7.3"
  }
 },
 "nbformat": 4,
 "nbformat_minor": 2
}
